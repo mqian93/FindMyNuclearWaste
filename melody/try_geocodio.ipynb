{
 "cells": [
  {
   "cell_type": "code",
   "execution_count": null,
   "id": "788edc84",
   "metadata": {},
   "outputs": [],
   "source": [
    "import pandas as pd\n",
    "import requests\n",
    "import json\n"
   ]
  },
  {
   "cell_type": "code",
   "execution_count": 5,
   "id": "b6bf024a",
   "metadata": {},
   "outputs": [],
   "source": [
    "df= pd.read_csv('/Users/melodyqian/Documents/GitHub/FindMyNuclearWaste/CSVs/Cleaned_US_Nuclear_Fuel_Locations.csv')\n"
   ]
  },
  {
   "cell_type": "code",
   "execution_count": null,
   "id": "a492318e",
   "metadata": {},
   "outputs": [],
   "source": [
    "coordinates = []\n",
    "for i, row in df.iterrows():\n",
    "    coordinates.append(f\"{row['Latitude']},{row['Longitude']}\")\n"
   ]
  },
  {
   "cell_type": "code",
   "execution_count": 20,
   "id": "68fd51b4",
   "metadata": {},
   "outputs": [],
   "source": [
    "response=requests.post('https://api.geocod.io/v1.9/reverse',\n",
    "                       params={ \n",
    "                        'fields':'census2024,acs-demographics,acs-economics,acs-housing', \n",
    "                        'api_key':'277676f71562287bed710d25e8757eb2b28722d'\n",
    "                       },\n",
    "                       json=coordinates)\n",
    "\n",
    "data=response.json()\n",
    "results=data['results']"
   ]
  },
  {
   "cell_type": "code",
   "execution_count": null,
   "id": "986a1ba6",
   "metadata": {},
   "outputs": [],
   "source": [
    "rows=[]\n",
    "for result in data['results']:\n",
    "    #basic info \n",
    "    query=result['query']\n",
    "    high_acc=result['response']['results'][0]\n",
    "\n",
    "    #fields aka sources of info\n",
    "    fields=high_acc['fields']\n",
    "    census24=fields['census']['2024']\n",
    "    acs=fields['acs']\n",
    "\n",
    "    row={ #census identifiers\n",
    "        'metro_area_name': census24['metro_micro_statistical_area']['name'],\n",
    "        'metro_area_code': census24['metro_micro_statistical_area']['area_code'],\n",
    "        'metro_area_type': census24['metro_micro_statistical_area']['type'],\n",
    "        'statefips': census24['state_fips'],\n",
    "        'countyfips': census24['county_fips'],\n",
    "        'tractcode': census24['tract_code'],\n",
    "        'blockcode': census24['block_code'],\n",
    "        'full_fips': census24['full_fips'],\n",
    "\n",
    "        #housing\n",
    "        'total_houses': acs['housing']['Number of housing units']['Total']['value'],\n",
    "        'occupied_percent': acs['housing']['Occupancy status']['Occupied']['percentage'],\n",
    "        'house_value_median': acs['housing']['Median value of owner-occupied housing units']['Total']['value'],\n",
    "        'household_income_median': acs['economics']['Median household income']['Total']['value'],\n",
    "\n",
    "        #agesex\n",
    "        'age_median': acs['demographics']['Median age']['Total']['value'],\n",
    "        'total_population': acs['demographics']['Sex']['Total']['value'],\n",
    "        'malepercent': acs['demographics']['Sex']['Male']['percentage'],\n",
    "        'femalepercent': acs['demographics']['Sex']['Female']['percentage'],\n",
    "        \n",
    "        #raceethnicity\n",
    "        'nonhispanic_percent': acs['demographics']['Race and ethnicity']['Not Hispanic or Latino']['percentage'],\n",
    "        'hispanic_percent': acs['demographics']['Race and ethnicity']['Hispanic or Latino']['percentage'],\n",
    "        'white_percent': acs['demographics']['Race and ethnicity']['Not Hispanic or Latino: White alone']['percentage'],\n",
    "        'black_percent': acs['demographics']['Race and ethnicity']['Not Hispanic or Latino: Black or African American alone']['percentage'],\n",
    "        'asian_percent': acs['demographics']['Race and ethnicity']['Not Hispanic or Latino: Asian alone']['percentage'],\n",
    "        'pacificislander_percent': acs['demographics']['Race and ethnicity']['Not Hispanic or Latino: Native Hawaiian and Other Pacific Islander alone']['percentage'],\n",
    "        'native_percent': acs['demographics']['Race and ethnicity']['Not Hispanic or Latino: American Indian and Alaska Native alone']['percentage'],\n",
    "    }\n",
    "\n",
    "    rows.append(row)"
   ]
  }
 ],
 "metadata": {
  "kernelspec": {
   "display_name": "datajournal",
   "language": "python",
   "name": "python3"
  },
  "language_info": {
   "codemirror_mode": {
    "name": "ipython",
    "version": 3
   },
   "file_extension": ".py",
   "mimetype": "text/x-python",
   "name": "python",
   "nbconvert_exporter": "python",
   "pygments_lexer": "ipython3",
   "version": "3.12.5"
  }
 },
 "nbformat": 4,
 "nbformat_minor": 5
}
