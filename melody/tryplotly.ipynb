{
 "cells": [
  {
   "cell_type": "code",
   "execution_count": 1,
   "id": "c155669e",
   "metadata": {},
   "outputs": [],
   "source": [
    "import pandas as pd\n",
    "import numpy as np\n",
    "import scipy as sp\n",
    "import chart_studio\n",
    "import chart_studio.plotly as py\n",
    "import plotly.express as px\n",
    "import kaleido"
   ]
  },
  {
   "cell_type": "code",
   "execution_count": null,
   "id": "617a4fef",
   "metadata": {},
   "outputs": [],
   "source": [
    "#read in State Level demographics\n",
    "state_filepath='/Users/melodyqian/Documents/GitHub/FindMyNuclearWaste/CSVs/State_Level_Demographics_filtered.csv'\n",
    "statedf=pd.read_csv(state_filepath)"
   ]
  },
  {
   "cell_type": "code",
   "execution_count": 5,
   "id": "9a776283",
   "metadata": {},
   "outputs": [
    {
     "data": {
      "application/vnd.microsoft.datawrangler.viewer.v0+json": {
       "columns": [
        {
         "name": "index",
         "rawType": "int64",
         "type": "integer"
        },
        {
         "name": "state_name",
         "rawType": "object",
         "type": "string"
        },
        {
         "name": "state_abbrev",
         "rawType": "object",
         "type": "string"
        },
        {
         "name": "house_value_median",
         "rawType": "int64",
         "type": "integer"
        },
        {
         "name": "household_income_median",
         "rawType": "int64",
         "type": "integer"
        },
        {
         "name": "age_median",
         "rawType": "float64",
         "type": "float"
        },
        {
         "name": "male_percent",
         "rawType": "float64",
         "type": "float"
        },
        {
         "name": "female_percent",
         "rawType": "float64",
         "type": "float"
        },
        {
         "name": "latino_percent",
         "rawType": "float64",
         "type": "float"
        },
        {
         "name": "white_percent",
         "rawType": "float64",
         "type": "float"
        },
        {
         "name": "black_percent",
         "rawType": "float64",
         "type": "float"
        },
        {
         "name": "native_percent",
         "rawType": "float64",
         "type": "float"
        },
        {
         "name": "asian_percent",
         "rawType": "float64",
         "type": "float"
        },
        {
         "name": "pacific_percent",
         "rawType": "float64",
         "type": "float"
        }
       ],
       "ref": "691fe11e-24ba-4ad1-947e-0fa8da7285e5",
       "rows": [
        [
         "0",
         "Alabama",
         "AL",
         "195100",
         "62027",
         "39.3",
         "48.5",
         "51.5",
         "27.5",
         "65.4",
         "26.1",
         "0.4",
         "1.6",
         "0.3"
        ],
        [
         "1",
         "Arizona",
         "AZ",
         "358900",
         "76872",
         "38.8",
         "49.9",
         "50.1",
         "6.4",
         "63.2",
         "4.6",
         "4.1",
         "3.3",
         "0.2"
        ],
        [
         "2",
         "Arkansas",
         "AR",
         "175300",
         "58773",
         "38.4",
         "49.3",
         "50.7",
         "16.4",
         "70.9",
         "14.9",
         "0.6",
         "2.2",
         "0.1"
        ],
        [
         "3",
         "California",
         "CA",
         "695400",
         "96334",
         "37.6",
         "50.0",
         "50.0",
         "7.2",
         "44.0",
         "5.5",
         "1.1",
         "6.7",
         "1.2"
        ],
        [
         "4",
         "Colorado",
         "CO",
         "502200",
         "92470",
         "37.5",
         "50.6",
         "49.4",
         "5.7",
         "73.5",
         "4.0",
         "1.0",
         "5.5",
         "0.4"
        ],
        [
         "5",
         "Connecticut",
         "CT",
         "343200",
         "93760",
         "41.2",
         "49.1",
         "50.9",
         "13.6",
         "67.6",
         "10.7",
         "0.3",
         "7.4",
         "0.3"
        ],
        [
         "6",
         "Florida",
         "FL",
         "325000",
         "71711",
         "42.6",
         "49.1",
         "50.9",
         "17.8",
         "59.9",
         "15.3",
         "0.3",
         "10.8",
         "0.1"
        ],
        [
         "7",
         "Georgia",
         "GA",
         "272900",
         "74664",
         "37.4",
         "48.8",
         "51.2",
         "33.7",
         "52.5",
         "31.3",
         "0.4",
         "3.7",
         "0.6"
        ],
        [
         "8",
         "Idaho",
         "ID",
         "376000",
         "74636",
         "37.1",
         "50.3",
         "49.7",
         "1.4",
         "83.3",
         "0.7",
         "1.1",
         "2.1",
         "0.1"
        ],
        [
         "9",
         "Illinois",
         "IL",
         "250500",
         "81702",
         "38.9",
         "49.4",
         "50.6",
         "15.5",
         "63.3",
         "13.8",
         "0.5",
         "2.4",
         "0.4"
        ]
       ],
       "shape": {
        "columns": 13,
        "rows": 10
       }
      },
      "text/html": [
       "<div>\n",
       "<style scoped>\n",
       "    .dataframe tbody tr th:only-of-type {\n",
       "        vertical-align: middle;\n",
       "    }\n",
       "\n",
       "    .dataframe tbody tr th {\n",
       "        vertical-align: top;\n",
       "    }\n",
       "\n",
       "    .dataframe thead th {\n",
       "        text-align: right;\n",
       "    }\n",
       "</style>\n",
       "<table border=\"1\" class=\"dataframe\">\n",
       "  <thead>\n",
       "    <tr style=\"text-align: right;\">\n",
       "      <th></th>\n",
       "      <th>state_name</th>\n",
       "      <th>state_abbrev</th>\n",
       "      <th>house_value_median</th>\n",
       "      <th>household_income_median</th>\n",
       "      <th>age_median</th>\n",
       "      <th>male_percent</th>\n",
       "      <th>female_percent</th>\n",
       "      <th>latino_percent</th>\n",
       "      <th>white_percent</th>\n",
       "      <th>black_percent</th>\n",
       "      <th>native_percent</th>\n",
       "      <th>asian_percent</th>\n",
       "      <th>pacific_percent</th>\n",
       "    </tr>\n",
       "  </thead>\n",
       "  <tbody>\n",
       "    <tr>\n",
       "      <th>0</th>\n",
       "      <td>Alabama</td>\n",
       "      <td>AL</td>\n",
       "      <td>195100</td>\n",
       "      <td>62027</td>\n",
       "      <td>39.3</td>\n",
       "      <td>48.5</td>\n",
       "      <td>51.5</td>\n",
       "      <td>27.5</td>\n",
       "      <td>65.4</td>\n",
       "      <td>26.1</td>\n",
       "      <td>0.4</td>\n",
       "      <td>1.6</td>\n",
       "      <td>0.3</td>\n",
       "    </tr>\n",
       "    <tr>\n",
       "      <th>1</th>\n",
       "      <td>Arizona</td>\n",
       "      <td>AZ</td>\n",
       "      <td>358900</td>\n",
       "      <td>76872</td>\n",
       "      <td>38.8</td>\n",
       "      <td>49.9</td>\n",
       "      <td>50.1</td>\n",
       "      <td>6.4</td>\n",
       "      <td>63.2</td>\n",
       "      <td>4.6</td>\n",
       "      <td>4.1</td>\n",
       "      <td>3.3</td>\n",
       "      <td>0.2</td>\n",
       "    </tr>\n",
       "    <tr>\n",
       "      <th>2</th>\n",
       "      <td>Arkansas</td>\n",
       "      <td>AR</td>\n",
       "      <td>175300</td>\n",
       "      <td>58773</td>\n",
       "      <td>38.4</td>\n",
       "      <td>49.3</td>\n",
       "      <td>50.7</td>\n",
       "      <td>16.4</td>\n",
       "      <td>70.9</td>\n",
       "      <td>14.9</td>\n",
       "      <td>0.6</td>\n",
       "      <td>2.2</td>\n",
       "      <td>0.1</td>\n",
       "    </tr>\n",
       "    <tr>\n",
       "      <th>3</th>\n",
       "      <td>California</td>\n",
       "      <td>CA</td>\n",
       "      <td>695400</td>\n",
       "      <td>96334</td>\n",
       "      <td>37.6</td>\n",
       "      <td>50.0</td>\n",
       "      <td>50.0</td>\n",
       "      <td>7.2</td>\n",
       "      <td>44.0</td>\n",
       "      <td>5.5</td>\n",
       "      <td>1.1</td>\n",
       "      <td>6.7</td>\n",
       "      <td>1.2</td>\n",
       "    </tr>\n",
       "    <tr>\n",
       "      <th>4</th>\n",
       "      <td>Colorado</td>\n",
       "      <td>CO</td>\n",
       "      <td>502200</td>\n",
       "      <td>92470</td>\n",
       "      <td>37.5</td>\n",
       "      <td>50.6</td>\n",
       "      <td>49.4</td>\n",
       "      <td>5.7</td>\n",
       "      <td>73.5</td>\n",
       "      <td>4.0</td>\n",
       "      <td>1.0</td>\n",
       "      <td>5.5</td>\n",
       "      <td>0.4</td>\n",
       "    </tr>\n",
       "    <tr>\n",
       "      <th>5</th>\n",
       "      <td>Connecticut</td>\n",
       "      <td>CT</td>\n",
       "      <td>343200</td>\n",
       "      <td>93760</td>\n",
       "      <td>41.2</td>\n",
       "      <td>49.1</td>\n",
       "      <td>50.9</td>\n",
       "      <td>13.6</td>\n",
       "      <td>67.6</td>\n",
       "      <td>10.7</td>\n",
       "      <td>0.3</td>\n",
       "      <td>7.4</td>\n",
       "      <td>0.3</td>\n",
       "    </tr>\n",
       "    <tr>\n",
       "      <th>6</th>\n",
       "      <td>Florida</td>\n",
       "      <td>FL</td>\n",
       "      <td>325000</td>\n",
       "      <td>71711</td>\n",
       "      <td>42.6</td>\n",
       "      <td>49.1</td>\n",
       "      <td>50.9</td>\n",
       "      <td>17.8</td>\n",
       "      <td>59.9</td>\n",
       "      <td>15.3</td>\n",
       "      <td>0.3</td>\n",
       "      <td>10.8</td>\n",
       "      <td>0.1</td>\n",
       "    </tr>\n",
       "    <tr>\n",
       "      <th>7</th>\n",
       "      <td>Georgia</td>\n",
       "      <td>GA</td>\n",
       "      <td>272900</td>\n",
       "      <td>74664</td>\n",
       "      <td>37.4</td>\n",
       "      <td>48.8</td>\n",
       "      <td>51.2</td>\n",
       "      <td>33.7</td>\n",
       "      <td>52.5</td>\n",
       "      <td>31.3</td>\n",
       "      <td>0.4</td>\n",
       "      <td>3.7</td>\n",
       "      <td>0.6</td>\n",
       "    </tr>\n",
       "    <tr>\n",
       "      <th>8</th>\n",
       "      <td>Idaho</td>\n",
       "      <td>ID</td>\n",
       "      <td>376000</td>\n",
       "      <td>74636</td>\n",
       "      <td>37.1</td>\n",
       "      <td>50.3</td>\n",
       "      <td>49.7</td>\n",
       "      <td>1.4</td>\n",
       "      <td>83.3</td>\n",
       "      <td>0.7</td>\n",
       "      <td>1.1</td>\n",
       "      <td>2.1</td>\n",
       "      <td>0.1</td>\n",
       "    </tr>\n",
       "    <tr>\n",
       "      <th>9</th>\n",
       "      <td>Illinois</td>\n",
       "      <td>IL</td>\n",
       "      <td>250500</td>\n",
       "      <td>81702</td>\n",
       "      <td>38.9</td>\n",
       "      <td>49.4</td>\n",
       "      <td>50.6</td>\n",
       "      <td>15.5</td>\n",
       "      <td>63.3</td>\n",
       "      <td>13.8</td>\n",
       "      <td>0.5</td>\n",
       "      <td>2.4</td>\n",
       "      <td>0.4</td>\n",
       "    </tr>\n",
       "  </tbody>\n",
       "</table>\n",
       "</div>"
      ],
      "text/plain": [
       "    state_name state_abbrev  house_value_median  household_income_median  \\\n",
       "0      Alabama           AL              195100                    62027   \n",
       "1      Arizona           AZ              358900                    76872   \n",
       "2     Arkansas           AR              175300                    58773   \n",
       "3   California           CA              695400                    96334   \n",
       "4     Colorado           CO              502200                    92470   \n",
       "5  Connecticut           CT              343200                    93760   \n",
       "6      Florida           FL              325000                    71711   \n",
       "7      Georgia           GA              272900                    74664   \n",
       "8        Idaho           ID              376000                    74636   \n",
       "9     Illinois           IL              250500                    81702   \n",
       "\n",
       "   age_median  male_percent  female_percent  latino_percent  white_percent  \\\n",
       "0        39.3          48.5            51.5            27.5           65.4   \n",
       "1        38.8          49.9            50.1             6.4           63.2   \n",
       "2        38.4          49.3            50.7            16.4           70.9   \n",
       "3        37.6          50.0            50.0             7.2           44.0   \n",
       "4        37.5          50.6            49.4             5.7           73.5   \n",
       "5        41.2          49.1            50.9            13.6           67.6   \n",
       "6        42.6          49.1            50.9            17.8           59.9   \n",
       "7        37.4          48.8            51.2            33.7           52.5   \n",
       "8        37.1          50.3            49.7             1.4           83.3   \n",
       "9        38.9          49.4            50.6            15.5           63.3   \n",
       "\n",
       "   black_percent  native_percent  asian_percent  pacific_percent  \n",
       "0           26.1             0.4            1.6              0.3  \n",
       "1            4.6             4.1            3.3              0.2  \n",
       "2           14.9             0.6            2.2              0.1  \n",
       "3            5.5             1.1            6.7              1.2  \n",
       "4            4.0             1.0            5.5              0.4  \n",
       "5           10.7             0.3            7.4              0.3  \n",
       "6           15.3             0.3           10.8              0.1  \n",
       "7           31.3             0.4            3.7              0.6  \n",
       "8            0.7             1.1            2.1              0.1  \n",
       "9           13.8             0.5            2.4              0.4  "
      ]
     },
     "execution_count": 5,
     "metadata": {},
     "output_type": "execute_result"
    }
   ],
   "source": [
    "pd.DataFrame.head(statedf, n=10)"
   ]
  },
  {
   "cell_type": "code",
   "execution_count": 6,
   "id": "74c8a6e2",
   "metadata": {},
   "outputs": [],
   "source": [
    "#collapse variable around the mean and reset the index\n",
    "state_income_collapsed = statedf.groupby('state_abbrev')['household_income_median'].mean()\n",
    "state_income_collapsed= state_income_collapsed.reset_index()"
   ]
  },
  {
   "cell_type": "code",
   "execution_count": null,
   "id": "536525e3",
   "metadata": {},
   "outputs": [
    {
     "name": "stdout",
     "output_type": "stream",
     "text": [
      "74046.0\n"
     ]
    }
   ],
   "source": [
    "#read in nuclear site data\n",
    "site_filepath='/Users/melodyqian/Documents/GitHub/FindMyNuclearWaste/CSVs/DemographicEconomicInfo.csv'\n",
    "sitedf=pd.read_csv(site_filepath)\n",
    "median_site_income=sitedf['household_income_median'].median()\n",
    "print(median_site_income)"
   ]
  },
  {
   "cell_type": "code",
   "execution_count": null,
   "id": "e442e3f3",
   "metadata": {},
   "outputs": [],
   "source": [
    "site_income_collapsed = sitedf.groupby('state_abbrev')['household_income_median'].mean()\n",
    "site_income_collapsed= site_income_collapsed.reset_index()"
   ]
  },
  {
   "cell_type": "code",
   "execution_count": 10,
   "id": "7fdc0361",
   "metadata": {},
   "outputs": [],
   "source": [
    "import plotly.graph_objects as go\n",
    "\n",
    "# Merge the two dataframes on state_abbrev\n",
    "comparison_df = pd.merge(\n",
    "    state_income_collapsed[['state_abbrev', 'household_income_median']], \n",
    "    site_income_collapsed[['state_abbrev', 'household_income_median']], \n",
    "    on='state_abbrev', \n",
    "    suffixes=('_state', '_site')\n",
    ")\n",
    "\n"
   ]
  },
  {
   "cell_type": "code",
   "execution_count": 21,
   "id": "d30f8a5d",
   "metadata": {},
   "outputs": [
    {
     "name": "stdout",
     "output_type": "stream",
     "text": [
      "['TN', 'PA', 'MI', 'FL', 'CA', 'WA', 'TN']\n"
     ]
    }
   ],
   "source": [
    "countylist=[ '46.4711,-119.3339' , '35.2264,-85.0917','40.2267,-75.5872','41.9628,-83.2575','25.4342,-80.3306','33.3689,-117.555','46.6475,-119.5986','35.93,-84.31']\n",
    "matched_rows=sitedf[sitedf['query_coords'].str.startswith(tuple(countylist))]\n",
    "countystates= matched_rows['state_abbrev'].tolist()\n",
    "countystates.remove('WA')\n",
    "print(countystates)\n"
   ]
  },
  {
   "cell_type": "code",
   "execution_count": 123,
   "id": "f3e1f432",
   "metadata": {},
   "outputs": [
    {
     "name": "stdout",
     "output_type": "stream",
     "text": [
      "   state_abbrev  household_income_median_state  household_income_median_site  \\\n",
      "0            MS                        54915.0                  15104.000000   \n",
      "1            NM                        62125.0                  27564.000000   \n",
      "2            MO                        68920.0                  61382.000000   \n",
      "3            MI                        71149.0                  68653.250000   \n",
      "4            FL                        71711.0                  71259.333333   \n",
      "5            ME                        71773.0                  39221.000000   \n",
      "6            KS                        72639.0                  47568.000000   \n",
      "7            ID                        74636.0                  64741.000000   \n",
      "8            GA                        74664.0                  59997.000000   \n",
      "9            WI                        75670.0                  73500.000000   \n",
      "10           TX                        76292.0                  53049.500000   \n",
      "11           AZ                        76872.0                  68843.000000   \n",
      "12           OR                        80426.0                  77321.000000   \n",
      "13           MN                        87556.0                  67887.500000   \n",
      "14           VA                        90974.0                  67400.333333   \n",
      "15           WA                        94952.0                      0.000000   \n",
      "16           NH                        95628.0                  56995.000000   \n",
      "17           NJ                       101050.0                  88615.000000   \n",
      "18           MA                       101341.0                  82912.500000   \n",
      "19           AR                        58773.0                  67063.000000   \n",
      "20           LA                        60023.0                 159357.500000   \n",
      "21           AL                        62027.0                  71468.000000   \n",
      "22           SC                        66818.0                  82501.000000   \n",
      "23           TN                        67097.0                  67656.000000   \n",
      "24           OH                        69680.0                  85376.500000   \n",
      "25           NC                        69904.0                 132112.333333   \n",
      "26           IA                        73147.0                  86023.000000   \n",
      "27           NE                        74985.0                  83215.500000   \n",
      "28           PA                        76081.0                  85913.600000   \n",
      "29           VT                        78024.0                  79601.000000   \n",
      "30           IL                        81702.0                  93127.666667   \n",
      "31           NY                        84578.0                  89198.500000   \n",
      "32           CO                        92470.0                 112893.000000   \n",
      "33           CT                        93760.0                 104974.000000   \n",
      "34           CA                        96334.0                 181955.750000   \n",
      "35           MD                       101652.0                 132768.000000   \n",
      "\n",
      "    site_sub_state  countylevel  \n",
      "0    -39811.000000            0  \n",
      "1    -34561.000000            0  \n",
      "2     -7538.000000            0  \n",
      "3     -2495.750000            1  \n",
      "4      -451.666667            1  \n",
      "5    -32552.000000            0  \n",
      "6    -25071.000000            0  \n",
      "7     -9895.000000            0  \n",
      "8    -14667.000000            0  \n",
      "9     -2170.000000            0  \n",
      "10   -23242.500000            0  \n",
      "11    -8029.000000            0  \n",
      "12    -3105.000000            0  \n",
      "13   -19668.500000            0  \n",
      "14   -23573.666667            0  \n",
      "15   -94952.000000            1  \n",
      "16   -38633.000000            0  \n",
      "17   -12435.000000            0  \n",
      "18   -18428.500000            0  \n",
      "19     8290.000000            0  \n",
      "20    99334.500000            0  \n",
      "21     9441.000000            0  \n",
      "22    15683.000000            0  \n",
      "23      559.000000            1  \n",
      "24    15696.500000            0  \n",
      "25    62208.333333            0  \n",
      "26    12876.000000            0  \n",
      "27     8230.500000            0  \n",
      "28     9832.600000            1  \n",
      "29     1577.000000            0  \n",
      "30    11425.666667            0  \n",
      "31     4620.500000            0  \n",
      "32    20423.000000            0  \n",
      "33    11214.000000            0  \n",
      "34    85621.750000            1  \n",
      "35    31116.000000            0  \n"
     ]
    }
   ],
   "source": [
    "\n",
    "comparison_df['site_sub_state']=comparison_df['household_income_median_site']-comparison_df['household_income_median_state']\n",
    "comparison_df['countylevel']=0\n",
    "comparison_df.loc[comparison_df['state_abbrev'].isin(countystates), 'countylevel'] = 1\n",
    "\n",
    "# Sort by one of the values (optional)\n",
    "sorteddf = comparison_df.sort_values('site_sub_state')\n",
    "negative_df = sorteddf[sorteddf['site_sub_state'] < 0].sort_values('household_income_median_state')\n",
    "positive_df = sorteddf[sorteddf['site_sub_state'] >= 0].sort_values('household_income_median_state')\n",
    "comparison_df=pd.concat([negative_df, positive_df], ignore_index=True)\n",
    "#comparison_df= comparison_df.sort_values(by=['site_sub_state', 'household_income_median_state'], ascending=[True, True])\n",
    "print(comparison_df)"
   ]
  },
  {
   "cell_type": "code",
   "execution_count": 128,
   "id": "bad16772",
   "metadata": {},
   "outputs": [
    {
     "data": {
      "application/vnd.plotly.v1+json": {
       "config": {
        "plotlyServerURL": "https://plot.ly"
       },
       "data": [
        {
         "hoverinfo": "skip",
         "line": {
          "color": "gray",
          "width": 2
         },
         "mode": "lines",
         "showlegend": false,
         "type": "scatter",
         "x": [
          54915,
          15104
         ],
         "y": [
          "MS",
          "MS"
         ]
        },
        {
         "hoverinfo": "skip",
         "line": {
          "color": "gray",
          "width": 2
         },
         "mode": "lines",
         "showlegend": false,
         "type": "scatter",
         "x": [
          62125,
          27564
         ],
         "y": [
          "NM",
          "NM"
         ]
        },
        {
         "hoverinfo": "skip",
         "line": {
          "color": "gray",
          "width": 2
         },
         "mode": "lines",
         "showlegend": false,
         "type": "scatter",
         "x": [
          68920,
          61382
         ],
         "y": [
          "MO",
          "MO"
         ]
        },
        {
         "hoverinfo": "skip",
         "line": {
          "color": "gray",
          "width": 2
         },
         "mode": "lines",
         "showlegend": false,
         "type": "scatter",
         "x": [
          71149,
          68653.25
         ],
         "y": [
          "MI",
          "MI"
         ]
        },
        {
         "hoverinfo": "skip",
         "line": {
          "color": "gray",
          "width": 2
         },
         "mode": "lines",
         "showlegend": false,
         "type": "scatter",
         "x": [
          71711,
          71259.33333333333
         ],
         "y": [
          "FL",
          "FL"
         ]
        },
        {
         "hoverinfo": "skip",
         "line": {
          "color": "gray",
          "width": 2
         },
         "mode": "lines",
         "showlegend": false,
         "type": "scatter",
         "x": [
          71773,
          39221
         ],
         "y": [
          "ME",
          "ME"
         ]
        },
        {
         "hoverinfo": "skip",
         "line": {
          "color": "gray",
          "width": 2
         },
         "mode": "lines",
         "showlegend": false,
         "type": "scatter",
         "x": [
          72639,
          47568
         ],
         "y": [
          "KS",
          "KS"
         ]
        },
        {
         "hoverinfo": "skip",
         "line": {
          "color": "gray",
          "width": 2
         },
         "mode": "lines",
         "showlegend": false,
         "type": "scatter",
         "x": [
          74636,
          64741
         ],
         "y": [
          "ID",
          "ID"
         ]
        },
        {
         "hoverinfo": "skip",
         "line": {
          "color": "gray",
          "width": 2
         },
         "mode": "lines",
         "showlegend": false,
         "type": "scatter",
         "x": [
          74664,
          59997
         ],
         "y": [
          "GA",
          "GA"
         ]
        },
        {
         "hoverinfo": "skip",
         "line": {
          "color": "gray",
          "width": 2
         },
         "mode": "lines",
         "showlegend": false,
         "type": "scatter",
         "x": [
          75670,
          73500
         ],
         "y": [
          "WI",
          "WI"
         ]
        },
        {
         "hoverinfo": "skip",
         "line": {
          "color": "gray",
          "width": 2
         },
         "mode": "lines",
         "showlegend": false,
         "type": "scatter",
         "x": [
          76292,
          53049.5
         ],
         "y": [
          "TX",
          "TX"
         ]
        },
        {
         "hoverinfo": "skip",
         "line": {
          "color": "gray",
          "width": 2
         },
         "mode": "lines",
         "showlegend": false,
         "type": "scatter",
         "x": [
          76872,
          68843
         ],
         "y": [
          "AZ",
          "AZ"
         ]
        },
        {
         "hoverinfo": "skip",
         "line": {
          "color": "gray",
          "width": 2
         },
         "mode": "lines",
         "showlegend": false,
         "type": "scatter",
         "x": [
          80426,
          77321
         ],
         "y": [
          "OR",
          "OR"
         ]
        },
        {
         "hoverinfo": "skip",
         "line": {
          "color": "gray",
          "width": 2
         },
         "mode": "lines",
         "showlegend": false,
         "type": "scatter",
         "x": [
          87556,
          67887.5
         ],
         "y": [
          "MN",
          "MN"
         ]
        },
        {
         "hoverinfo": "skip",
         "line": {
          "color": "gray",
          "width": 2
         },
         "mode": "lines",
         "showlegend": false,
         "type": "scatter",
         "x": [
          90974,
          67400.33333333333
         ],
         "y": [
          "VA",
          "VA"
         ]
        },
        {
         "hoverinfo": "skip",
         "line": {
          "color": "gray",
          "width": 2
         },
         "mode": "lines",
         "showlegend": false,
         "type": "scatter",
         "x": [
          94952,
          0
         ],
         "y": [
          "WA",
          "WA"
         ]
        },
        {
         "hoverinfo": "skip",
         "line": {
          "color": "gray",
          "width": 2
         },
         "mode": "lines",
         "showlegend": false,
         "type": "scatter",
         "x": [
          95628,
          56995
         ],
         "y": [
          "NH",
          "NH"
         ]
        },
        {
         "hoverinfo": "skip",
         "line": {
          "color": "gray",
          "width": 2
         },
         "mode": "lines",
         "showlegend": false,
         "type": "scatter",
         "x": [
          101050,
          88615
         ],
         "y": [
          "NJ",
          "NJ"
         ]
        },
        {
         "hoverinfo": "skip",
         "line": {
          "color": "gray",
          "width": 2
         },
         "mode": "lines",
         "showlegend": false,
         "type": "scatter",
         "x": [
          101341,
          82912.5
         ],
         "y": [
          "MA",
          "MA"
         ]
        },
        {
         "hoverinfo": "skip",
         "line": {
          "color": "gray",
          "width": 2
         },
         "mode": "lines",
         "showlegend": false,
         "type": "scatter",
         "x": [
          58773,
          67063
         ],
         "y": [
          "AR",
          "AR"
         ]
        },
        {
         "hoverinfo": "skip",
         "line": {
          "color": "gray",
          "width": 2
         },
         "mode": "lines",
         "showlegend": false,
         "type": "scatter",
         "x": [
          60023,
          159357.5
         ],
         "y": [
          "LA",
          "LA"
         ]
        },
        {
         "hoverinfo": "skip",
         "line": {
          "color": "gray",
          "width": 2
         },
         "mode": "lines",
         "showlegend": false,
         "type": "scatter",
         "x": [
          62027,
          71468
         ],
         "y": [
          "AL",
          "AL"
         ]
        },
        {
         "hoverinfo": "skip",
         "line": {
          "color": "gray",
          "width": 2
         },
         "mode": "lines",
         "showlegend": false,
         "type": "scatter",
         "x": [
          66818,
          82501
         ],
         "y": [
          "SC",
          "SC"
         ]
        },
        {
         "hoverinfo": "skip",
         "line": {
          "color": "gray",
          "width": 2
         },
         "mode": "lines",
         "showlegend": false,
         "type": "scatter",
         "x": [
          67097,
          67656
         ],
         "y": [
          "TN",
          "TN"
         ]
        },
        {
         "hoverinfo": "skip",
         "line": {
          "color": "gray",
          "width": 2
         },
         "mode": "lines",
         "showlegend": false,
         "type": "scatter",
         "x": [
          69680,
          85376.5
         ],
         "y": [
          "OH",
          "OH"
         ]
        },
        {
         "hoverinfo": "skip",
         "line": {
          "color": "gray",
          "width": 2
         },
         "mode": "lines",
         "showlegend": false,
         "type": "scatter",
         "x": [
          69904,
          132112.33333333334
         ],
         "y": [
          "NC",
          "NC"
         ]
        },
        {
         "hoverinfo": "skip",
         "line": {
          "color": "gray",
          "width": 2
         },
         "mode": "lines",
         "showlegend": false,
         "type": "scatter",
         "x": [
          73147,
          86023
         ],
         "y": [
          "IA",
          "IA"
         ]
        },
        {
         "hoverinfo": "skip",
         "line": {
          "color": "gray",
          "width": 2
         },
         "mode": "lines",
         "showlegend": false,
         "type": "scatter",
         "x": [
          74985,
          83215.5
         ],
         "y": [
          "NE",
          "NE"
         ]
        },
        {
         "hoverinfo": "skip",
         "line": {
          "color": "gray",
          "width": 2
         },
         "mode": "lines",
         "showlegend": false,
         "type": "scatter",
         "x": [
          76081,
          85913.6
         ],
         "y": [
          "PA",
          "PA"
         ]
        },
        {
         "hoverinfo": "skip",
         "line": {
          "color": "gray",
          "width": 2
         },
         "mode": "lines",
         "showlegend": false,
         "type": "scatter",
         "x": [
          78024,
          79601
         ],
         "y": [
          "VT",
          "VT"
         ]
        },
        {
         "hoverinfo": "skip",
         "line": {
          "color": "gray",
          "width": 2
         },
         "mode": "lines",
         "showlegend": false,
         "type": "scatter",
         "x": [
          81702,
          93127.66666666667
         ],
         "y": [
          "IL",
          "IL"
         ]
        },
        {
         "hoverinfo": "skip",
         "line": {
          "color": "gray",
          "width": 2
         },
         "mode": "lines",
         "showlegend": false,
         "type": "scatter",
         "x": [
          84578,
          89198.5
         ],
         "y": [
          "NY",
          "NY"
         ]
        },
        {
         "hoverinfo": "skip",
         "line": {
          "color": "gray",
          "width": 2
         },
         "mode": "lines",
         "showlegend": false,
         "type": "scatter",
         "x": [
          92470,
          112893
         ],
         "y": [
          "CO",
          "CO"
         ]
        },
        {
         "hoverinfo": "skip",
         "line": {
          "color": "gray",
          "width": 2
         },
         "mode": "lines",
         "showlegend": false,
         "type": "scatter",
         "x": [
          93760,
          104974
         ],
         "y": [
          "CT",
          "CT"
         ]
        },
        {
         "hoverinfo": "skip",
         "line": {
          "color": "gray",
          "width": 2
         },
         "mode": "lines",
         "showlegend": false,
         "type": "scatter",
         "x": [
          96334,
          181955.75
         ],
         "y": [
          "CA",
          "CA"
         ]
        },
        {
         "hoverinfo": "skip",
         "line": {
          "color": "gray",
          "width": 2
         },
         "mode": "lines",
         "showlegend": false,
         "type": "scatter",
         "x": [
          101652,
          132768
         ],
         "y": [
          "MD",
          "MD"
         ]
        },
        {
         "hovertemplate": "<b>%{y}</b><br>State: $%{x:,.0f}<extra></extra>",
         "marker": {
          "color": "#81c500",
          "size": 10
         },
         "mode": "markers",
         "name": "State Level",
         "type": "scatter",
         "x": {
          "bdata": "AAAAAGDQ6kAAAAAAoFXuQAAAAACA0/BAAAAAANBe8UAAAAAA8IHxQAAAAADQhfFAAAAAAPC78UAAAAAAwDjyQAAAAACAOvJAAAAAAGB58kAAAAAAQKDyQAAAAACAxPJAAAAAAKCi80AAAAAAQGD1QAAAAADgNfZAAAAAAIAu90AAAAAAwFj3QAAAAACgq/hAAAAAANC9+EAAAAAAoLLsQAAAAADgTu1AAAAAAGBJ7kAAAAAAIFDwQAAAAACQYfBAAAAAAAAD8UAAAAAAABHxQAAAAACw2/FAAAAAAJBO8kAAAAAAEJPyQAAAAACADPNAAAAAAGDy80AAAAAAIKb0QAAAAABgk/ZAAAAAAADk9kAAAAAA4IT3QAAAAABA0fhA",
          "dtype": "f8"
         },
         "y": [
          "MS",
          "NM",
          "MO",
          "MI",
          "FL",
          "ME",
          "KS",
          "ID",
          "GA",
          "WI",
          "TX",
          "AZ",
          "OR",
          "MN",
          "VA",
          "WA",
          "NH",
          "NJ",
          "MA",
          "AR",
          "LA",
          "AL",
          "SC",
          "TN",
          "OH",
          "NC",
          "IA",
          "NE",
          "PA",
          "VT",
          "IL",
          "NY",
          "CO",
          "CT",
          "CA",
          "MD"
         ]
        },
        {
         "hovertemplate": "<b>%{y}</b><br>Site: $%{x:,.0f}<extra></extra>",
         "marker": {
          "color": "#d3e424",
          "size": 10
         },
         "mode": "markers",
         "name": "Site Level",
         "type": "scatter",
         "x": {
          "bdata": "AAAAAACAzUAAAAAAAOvaQAAAAADA+O1AAAAAANTC8EBVVVVVtWXxQAAAAACgJuNAAAAAAAA650AAAAAAoJzvQAAAAACgS+1AAAAAAMDx8UAAAAAAMOfpQAAAAACwzvBAAAAAAJDg8kAAAAAA+JLwQFVVVVWFdPBAAAAAAAAAAAAAAAAAYNTrQAAAAABwovVAAAAAAAg+9EAAAAAAcF/wQAAAAADscwNBAAAAAMBy8UAAAAAAUCT0QAAAAACAhPBAAAAAAAjY9ECrqqqqgiAAQQAAAABwAPVAAAAAAPhQ9ECamZmZmfn0QAAAAAAQb/NAq6qqqnq89kAAAAAA6Mb1QAAAAADQj/tAAAAAAOCg+UAAAAAAHjYGQQAAAAAANQBB",
          "dtype": "f8"
         },
         "y": [
          "MS",
          "NM",
          "MO",
          "MI",
          "FL",
          "ME",
          "KS",
          "ID",
          "GA",
          "WI",
          "TX",
          "AZ",
          "OR",
          "MN",
          "VA",
          "WA",
          "NH",
          "NJ",
          "MA",
          "AR",
          "LA",
          "AL",
          "SC",
          "TN",
          "OH",
          "NC",
          "IA",
          "NE",
          "PA",
          "VT",
          "IL",
          "NY",
          "CO",
          "CT",
          "CA",
          "MD"
         ]
        }
       ],
       "layout": {
        "annotations": [
         {
          "font": {
           "color": "green"
          },
          "showarrow": false,
          "text": "            US Median",
          "x": 80610,
          "xanchor": "center",
          "xref": "x",
          "y": 1,
          "yanchor": "bottom",
          "yref": "y domain"
         },
         {
          "font": {
           "color": "red"
          },
          "showarrow": false,
          "text": "Median       ",
          "x": 74046,
          "xanchor": "center",
          "xref": "x",
          "y": 1,
          "yanchor": "bottom",
          "yref": "y domain"
         }
        ],
        "height": 900,
        "hovermode": "closest",
        "legend": {
         "orientation": "h",
         "x": 1,
         "xanchor": "right",
         "y": 1.05,
         "yanchor": "bottom"
        },
        "margin": {
         "b": 50,
         "l": 100,
         "r": 50,
         "t": 100
        },
        "plot_bgcolor": "white",
        "shapes": [
         {
          "fillcolor": "yellow",
          "layer": "below",
          "line": {
           "width": 0
          },
          "opacity": 0.3,
          "type": "rect",
          "x0": 0,
          "x1": 1,
          "xref": "paper",
          "y0": 2.6,
          "y1": 3.4,
          "yref": "y"
         },
         {
          "fillcolor": "yellow",
          "layer": "below",
          "line": {
           "width": 0
          },
          "opacity": 0.3,
          "type": "rect",
          "x0": 0,
          "x1": 1,
          "xref": "paper",
          "y0": 3.6,
          "y1": 4.4,
          "yref": "y"
         },
         {
          "fillcolor": "yellow",
          "layer": "below",
          "line": {
           "width": 0
          },
          "opacity": 0.3,
          "type": "rect",
          "x0": 0,
          "x1": 1,
          "xref": "paper",
          "y0": 14.6,
          "y1": 15.4,
          "yref": "y"
         },
         {
          "fillcolor": "yellow",
          "layer": "below",
          "line": {
           "width": 0
          },
          "opacity": 0.3,
          "type": "rect",
          "x0": 0,
          "x1": 1,
          "xref": "paper",
          "y0": 22.6,
          "y1": 23.4,
          "yref": "y"
         },
         {
          "fillcolor": "yellow",
          "layer": "below",
          "line": {
           "width": 0
          },
          "opacity": 0.3,
          "type": "rect",
          "x0": 0,
          "x1": 1,
          "xref": "paper",
          "y0": 27.6,
          "y1": 28.4,
          "yref": "y"
         },
         {
          "fillcolor": "yellow",
          "layer": "below",
          "line": {
           "width": 0
          },
          "opacity": 0.3,
          "type": "rect",
          "x0": 0,
          "x1": 1,
          "xref": "paper",
          "y0": 33.6,
          "y1": 34.4,
          "yref": "y"
         },
         {
          "layer": "below",
          "line": {
           "color": "green"
          },
          "type": "line",
          "x0": 80610,
          "x1": 80610,
          "xref": "x",
          "y0": 0,
          "y1": 1,
          "yref": "y domain"
         },
         {
          "layer": "below",
          "line": {
           "color": "red"
          },
          "type": "line",
          "x0": 74046,
          "x1": 74046,
          "xref": "x",
          "y0": 0,
          "y1": 1,
          "yref": "y domain"
         }
        ],
        "showlegend": true,
        "template": {
         "data": {
          "bar": [
           {
            "error_x": {
             "color": "#2a3f5f"
            },
            "error_y": {
             "color": "#2a3f5f"
            },
            "marker": {
             "line": {
              "color": "#E5ECF6",
              "width": 0.5
             },
             "pattern": {
              "fillmode": "overlay",
              "size": 10,
              "solidity": 0.2
             }
            },
            "type": "bar"
           }
          ],
          "barpolar": [
           {
            "marker": {
             "line": {
              "color": "#E5ECF6",
              "width": 0.5
             },
             "pattern": {
              "fillmode": "overlay",
              "size": 10,
              "solidity": 0.2
             }
            },
            "type": "barpolar"
           }
          ],
          "carpet": [
           {
            "aaxis": {
             "endlinecolor": "#2a3f5f",
             "gridcolor": "white",
             "linecolor": "white",
             "minorgridcolor": "white",
             "startlinecolor": "#2a3f5f"
            },
            "baxis": {
             "endlinecolor": "#2a3f5f",
             "gridcolor": "white",
             "linecolor": "white",
             "minorgridcolor": "white",
             "startlinecolor": "#2a3f5f"
            },
            "type": "carpet"
           }
          ],
          "choropleth": [
           {
            "colorbar": {
             "outlinewidth": 0,
             "ticks": ""
            },
            "type": "choropleth"
           }
          ],
          "contour": [
           {
            "colorbar": {
             "outlinewidth": 0,
             "ticks": ""
            },
            "colorscale": [
             [
              0,
              "#0d0887"
             ],
             [
              0.1111111111111111,
              "#46039f"
             ],
             [
              0.2222222222222222,
              "#7201a8"
             ],
             [
              0.3333333333333333,
              "#9c179e"
             ],
             [
              0.4444444444444444,
              "#bd3786"
             ],
             [
              0.5555555555555556,
              "#d8576b"
             ],
             [
              0.6666666666666666,
              "#ed7953"
             ],
             [
              0.7777777777777778,
              "#fb9f3a"
             ],
             [
              0.8888888888888888,
              "#fdca26"
             ],
             [
              1,
              "#f0f921"
             ]
            ],
            "type": "contour"
           }
          ],
          "contourcarpet": [
           {
            "colorbar": {
             "outlinewidth": 0,
             "ticks": ""
            },
            "type": "contourcarpet"
           }
          ],
          "heatmap": [
           {
            "colorbar": {
             "outlinewidth": 0,
             "ticks": ""
            },
            "colorscale": [
             [
              0,
              "#0d0887"
             ],
             [
              0.1111111111111111,
              "#46039f"
             ],
             [
              0.2222222222222222,
              "#7201a8"
             ],
             [
              0.3333333333333333,
              "#9c179e"
             ],
             [
              0.4444444444444444,
              "#bd3786"
             ],
             [
              0.5555555555555556,
              "#d8576b"
             ],
             [
              0.6666666666666666,
              "#ed7953"
             ],
             [
              0.7777777777777778,
              "#fb9f3a"
             ],
             [
              0.8888888888888888,
              "#fdca26"
             ],
             [
              1,
              "#f0f921"
             ]
            ],
            "type": "heatmap"
           }
          ],
          "histogram": [
           {
            "marker": {
             "pattern": {
              "fillmode": "overlay",
              "size": 10,
              "solidity": 0.2
             }
            },
            "type": "histogram"
           }
          ],
          "histogram2d": [
           {
            "colorbar": {
             "outlinewidth": 0,
             "ticks": ""
            },
            "colorscale": [
             [
              0,
              "#0d0887"
             ],
             [
              0.1111111111111111,
              "#46039f"
             ],
             [
              0.2222222222222222,
              "#7201a8"
             ],
             [
              0.3333333333333333,
              "#9c179e"
             ],
             [
              0.4444444444444444,
              "#bd3786"
             ],
             [
              0.5555555555555556,
              "#d8576b"
             ],
             [
              0.6666666666666666,
              "#ed7953"
             ],
             [
              0.7777777777777778,
              "#fb9f3a"
             ],
             [
              0.8888888888888888,
              "#fdca26"
             ],
             [
              1,
              "#f0f921"
             ]
            ],
            "type": "histogram2d"
           }
          ],
          "histogram2dcontour": [
           {
            "colorbar": {
             "outlinewidth": 0,
             "ticks": ""
            },
            "colorscale": [
             [
              0,
              "#0d0887"
             ],
             [
              0.1111111111111111,
              "#46039f"
             ],
             [
              0.2222222222222222,
              "#7201a8"
             ],
             [
              0.3333333333333333,
              "#9c179e"
             ],
             [
              0.4444444444444444,
              "#bd3786"
             ],
             [
              0.5555555555555556,
              "#d8576b"
             ],
             [
              0.6666666666666666,
              "#ed7953"
             ],
             [
              0.7777777777777778,
              "#fb9f3a"
             ],
             [
              0.8888888888888888,
              "#fdca26"
             ],
             [
              1,
              "#f0f921"
             ]
            ],
            "type": "histogram2dcontour"
           }
          ],
          "mesh3d": [
           {
            "colorbar": {
             "outlinewidth": 0,
             "ticks": ""
            },
            "type": "mesh3d"
           }
          ],
          "parcoords": [
           {
            "line": {
             "colorbar": {
              "outlinewidth": 0,
              "ticks": ""
             }
            },
            "type": "parcoords"
           }
          ],
          "pie": [
           {
            "automargin": true,
            "type": "pie"
           }
          ],
          "scatter": [
           {
            "fillpattern": {
             "fillmode": "overlay",
             "size": 10,
             "solidity": 0.2
            },
            "type": "scatter"
           }
          ],
          "scatter3d": [
           {
            "line": {
             "colorbar": {
              "outlinewidth": 0,
              "ticks": ""
             }
            },
            "marker": {
             "colorbar": {
              "outlinewidth": 0,
              "ticks": ""
             }
            },
            "type": "scatter3d"
           }
          ],
          "scattercarpet": [
           {
            "marker": {
             "colorbar": {
              "outlinewidth": 0,
              "ticks": ""
             }
            },
            "type": "scattercarpet"
           }
          ],
          "scattergeo": [
           {
            "marker": {
             "colorbar": {
              "outlinewidth": 0,
              "ticks": ""
             }
            },
            "type": "scattergeo"
           }
          ],
          "scattergl": [
           {
            "marker": {
             "colorbar": {
              "outlinewidth": 0,
              "ticks": ""
             }
            },
            "type": "scattergl"
           }
          ],
          "scattermap": [
           {
            "marker": {
             "colorbar": {
              "outlinewidth": 0,
              "ticks": ""
             }
            },
            "type": "scattermap"
           }
          ],
          "scattermapbox": [
           {
            "marker": {
             "colorbar": {
              "outlinewidth": 0,
              "ticks": ""
             }
            },
            "type": "scattermapbox"
           }
          ],
          "scatterpolar": [
           {
            "marker": {
             "colorbar": {
              "outlinewidth": 0,
              "ticks": ""
             }
            },
            "type": "scatterpolar"
           }
          ],
          "scatterpolargl": [
           {
            "marker": {
             "colorbar": {
              "outlinewidth": 0,
              "ticks": ""
             }
            },
            "type": "scatterpolargl"
           }
          ],
          "scatterternary": [
           {
            "marker": {
             "colorbar": {
              "outlinewidth": 0,
              "ticks": ""
             }
            },
            "type": "scatterternary"
           }
          ],
          "surface": [
           {
            "colorbar": {
             "outlinewidth": 0,
             "ticks": ""
            },
            "colorscale": [
             [
              0,
              "#0d0887"
             ],
             [
              0.1111111111111111,
              "#46039f"
             ],
             [
              0.2222222222222222,
              "#7201a8"
             ],
             [
              0.3333333333333333,
              "#9c179e"
             ],
             [
              0.4444444444444444,
              "#bd3786"
             ],
             [
              0.5555555555555556,
              "#d8576b"
             ],
             [
              0.6666666666666666,
              "#ed7953"
             ],
             [
              0.7777777777777778,
              "#fb9f3a"
             ],
             [
              0.8888888888888888,
              "#fdca26"
             ],
             [
              1,
              "#f0f921"
             ]
            ],
            "type": "surface"
           }
          ],
          "table": [
           {
            "cells": {
             "fill": {
              "color": "#EBF0F8"
             },
             "line": {
              "color": "white"
             }
            },
            "header": {
             "fill": {
              "color": "#C8D4E3"
             },
             "line": {
              "color": "white"
             }
            },
            "type": "table"
           }
          ]
         },
         "layout": {
          "annotationdefaults": {
           "arrowcolor": "#2a3f5f",
           "arrowhead": 0,
           "arrowwidth": 1
          },
          "autotypenumbers": "strict",
          "coloraxis": {
           "colorbar": {
            "outlinewidth": 0,
            "ticks": ""
           }
          },
          "colorscale": {
           "diverging": [
            [
             0,
             "#8e0152"
            ],
            [
             0.1,
             "#c51b7d"
            ],
            [
             0.2,
             "#de77ae"
            ],
            [
             0.3,
             "#f1b6da"
            ],
            [
             0.4,
             "#fde0ef"
            ],
            [
             0.5,
             "#f7f7f7"
            ],
            [
             0.6,
             "#e6f5d0"
            ],
            [
             0.7,
             "#b8e186"
            ],
            [
             0.8,
             "#7fbc41"
            ],
            [
             0.9,
             "#4d9221"
            ],
            [
             1,
             "#276419"
            ]
           ],
           "sequential": [
            [
             0,
             "#0d0887"
            ],
            [
             0.1111111111111111,
             "#46039f"
            ],
            [
             0.2222222222222222,
             "#7201a8"
            ],
            [
             0.3333333333333333,
             "#9c179e"
            ],
            [
             0.4444444444444444,
             "#bd3786"
            ],
            [
             0.5555555555555556,
             "#d8576b"
            ],
            [
             0.6666666666666666,
             "#ed7953"
            ],
            [
             0.7777777777777778,
             "#fb9f3a"
            ],
            [
             0.8888888888888888,
             "#fdca26"
            ],
            [
             1,
             "#f0f921"
            ]
           ],
           "sequentialminus": [
            [
             0,
             "#0d0887"
            ],
            [
             0.1111111111111111,
             "#46039f"
            ],
            [
             0.2222222222222222,
             "#7201a8"
            ],
            [
             0.3333333333333333,
             "#9c179e"
            ],
            [
             0.4444444444444444,
             "#bd3786"
            ],
            [
             0.5555555555555556,
             "#d8576b"
            ],
            [
             0.6666666666666666,
             "#ed7953"
            ],
            [
             0.7777777777777778,
             "#fb9f3a"
            ],
            [
             0.8888888888888888,
             "#fdca26"
            ],
            [
             1,
             "#f0f921"
            ]
           ]
          },
          "colorway": [
           "#636efa",
           "#EF553B",
           "#00cc96",
           "#ab63fa",
           "#FFA15A",
           "#19d3f3",
           "#FF6692",
           "#B6E880",
           "#FF97FF",
           "#FECB52"
          ],
          "font": {
           "color": "#2a3f5f"
          },
          "geo": {
           "bgcolor": "white",
           "lakecolor": "white",
           "landcolor": "#E5ECF6",
           "showlakes": true,
           "showland": true,
           "subunitcolor": "white"
          },
          "hoverlabel": {
           "align": "left"
          },
          "hovermode": "closest",
          "mapbox": {
           "style": "light"
          },
          "paper_bgcolor": "white",
          "plot_bgcolor": "#E5ECF6",
          "polar": {
           "angularaxis": {
            "gridcolor": "white",
            "linecolor": "white",
            "ticks": ""
           },
           "bgcolor": "#E5ECF6",
           "radialaxis": {
            "gridcolor": "white",
            "linecolor": "white",
            "ticks": ""
           }
          },
          "scene": {
           "xaxis": {
            "backgroundcolor": "#E5ECF6",
            "gridcolor": "white",
            "gridwidth": 2,
            "linecolor": "white",
            "showbackground": true,
            "ticks": "",
            "zerolinecolor": "white"
           },
           "yaxis": {
            "backgroundcolor": "#E5ECF6",
            "gridcolor": "white",
            "gridwidth": 2,
            "linecolor": "white",
            "showbackground": true,
            "ticks": "",
            "zerolinecolor": "white"
           },
           "zaxis": {
            "backgroundcolor": "#E5ECF6",
            "gridcolor": "white",
            "gridwidth": 2,
            "linecolor": "white",
            "showbackground": true,
            "ticks": "",
            "zerolinecolor": "white"
           }
          },
          "shapedefaults": {
           "line": {
            "color": "#2a3f5f"
           }
          },
          "ternary": {
           "aaxis": {
            "gridcolor": "white",
            "linecolor": "white",
            "ticks": ""
           },
           "baxis": {
            "gridcolor": "white",
            "linecolor": "white",
            "ticks": ""
           },
           "bgcolor": "#E5ECF6",
           "caxis": {
            "gridcolor": "white",
            "linecolor": "white",
            "ticks": ""
           }
          },
          "title": {
           "x": 0.05
          },
          "xaxis": {
           "automargin": true,
           "gridcolor": "white",
           "linecolor": "white",
           "ticks": "",
           "title": {
            "standoff": 15
           },
           "zerolinecolor": "white",
           "zerolinewidth": 2
          },
          "yaxis": {
           "automargin": true,
           "gridcolor": "white",
           "linecolor": "white",
           "ticks": "",
           "title": {
            "standoff": 15
           },
           "zerolinecolor": "white",
           "zerolinewidth": 2
          }
         }
        },
        "title": {
         "text": "Comparison of Median Household Income by State"
        },
        "xaxis": {
         "title": {
          "text": "Median Household Income ($)"
         }
        },
        "yaxis": {
         "title": {
          "text": "State"
         }
        }
       }
      }
     },
     "metadata": {},
     "output_type": "display_data"
    }
   ],
   "source": [
    "# Create the lollipop plot\n",
    "site_fig = go.Figure()\n",
    "\n",
    "# Add lines connecting the two points\n",
    "for i in range(len(comparison_df)):\n",
    "    site_fig.add_trace(go.Scatter(\n",
    "        x=[comparison_df.iloc[i]['household_income_median_state'], \n",
    "           comparison_df.iloc[i]['household_income_median_site']],\n",
    "        y=[comparison_df.iloc[i]['state_abbrev'], comparison_df.iloc[i]['state_abbrev']],\n",
    "        mode='lines',\n",
    "        line=dict(color='gray', width=2),\n",
    "        showlegend=False,\n",
    "        hoverinfo='skip'\n",
    "    ))\n",
    "\n",
    "for i in range(len(comparison_df)):\n",
    "    state = comparison_df.iloc[i]['state_abbrev']\n",
    "    if state in countystates:\n",
    "        site_fig.add_shape(\n",
    "            type=\"rect\",\n",
    "            x0=0, x1=1,\n",
    "            y0=i-0.4, y1=i+0.4,\n",
    "            xref=\"paper\",\n",
    "            yref=\"y\",\n",
    "            fillcolor=\"yellow\",\n",
    "            opacity=0.3,\n",
    "            layer=\"below\",\n",
    "            line_width=0)\n",
    "\n",
    "\n",
    "# Add points for statedf\n",
    "site_fig.add_trace(go.Scatter(\n",
    "    x=comparison_df['household_income_median_state'],\n",
    "    y=comparison_df['state_abbrev'],\n",
    "    mode='markers',\n",
    "    name='State Level',\n",
    "    marker=dict(size=10, color='#81c500'),\n",
    "    hovertemplate='<b>%{y}</b><br>State: $%{x:,.0f}<extra></extra>'\n",
    "))\n",
    "#median household income 2023\n",
    "site_fig.add_vline(\n",
    "    x=80610, \n",
    "    line_color=\"green\",\n",
    "    layer=\"below\",\n",
    "    annotation_font_color=\"green\",\n",
    "    annotation_text=\"            US Median\",\n",
    "    annotation_position=\"top\"\n",
    ")\n",
    "\n",
    "site_fig.add_vline(\n",
    "    x=74046.0,  \n",
    "    line_color=\"red\",\n",
    "    layer=\"below\",\n",
    "    annotation_font_color=\"red\",\n",
    "    annotation_text=\"Median       \",\n",
    "    annotation_position=\"top\"\n",
    ")\n",
    "\n",
    "\n",
    "\n",
    "# Add points for sitedf\n",
    "site_fig.add_trace(go.Scatter(\n",
    "    x=comparison_df['household_income_median_site'],\n",
    "    y=comparison_df['state_abbrev'],\n",
    "    mode='markers',\n",
    "    name='Site Level',\n",
    "    marker=dict(size=10, color='#d3e424'),\n",
    "    hovertemplate='<b>%{y}</b><br>Site: $%{x:,.0f}<extra></extra>'\n",
    "))\n",
    "\n",
    "# Update layout\n",
    "site_fig.update_layout(\n",
    "    title='Comparison of Median Household Income by State',\n",
    "    xaxis_title='Median Household Income ($)',\n",
    "    yaxis_title='State',\n",
    "    height=900,\n",
    "    hovermode='closest',\n",
    "    showlegend=True,\n",
    "    legend=dict(\n",
    "        orientation=\"h\",  # Horizontal legend\n",
    "        yanchor=\"bottom\",\n",
    "        y=1.05,  # Position above the plot\n",
    "        xanchor=\"right\",\n",
    "        x=1\n",
    "    ),\n",
    "    margin=dict(l=100, r=50, t=100, b=50),\n",
    "    plot_bgcolor='white'\n",
    ")\n"
   ]
  },
  {
   "cell_type": "code",
   "execution_count": 129,
   "id": "47bdc7ac",
   "metadata": {},
   "outputs": [],
   "source": [
    "site_fig.write_html(\"lollipop_income.html\")"
   ]
  },
  {
   "cell_type": "code",
   "execution_count": 19,
   "id": "94894df4",
   "metadata": {},
   "outputs": [],
   "source": [
    "state_house_collapsed = statedf.groupby('state_abbrev')['house_value_median'].mean()\n",
    "state_house_collapsed= state_house_collapsed.reset_index()\n",
    "site_house_collapsed = sitedf.groupby('state_abbrev')['house_value_median'].mean()\n",
    "site_house_collapsed= site_house_collapsed.reset_index()\n",
    "\n",
    "import plotly.graph_objects as go\n",
    "\n",
    "# Merge the two dataframes on state_abbrev\n",
    "comparehouse_df = pd.merge(\n",
    "    state_house_collapsed[['state_abbrev', 'house_value_median']], \n",
    "    site_house_collapsed[['state_abbrev', 'house_value_median']], \n",
    "    on='state_abbrev', \n",
    "    suffixes=('_state', '_site')\n",
    ")\n",
    "\n",
    "# Sort by one of the values (optional)\n",
    "comparehouse_df = comparehouse_df.sort_values('house_value_median_state')"
   ]
  },
  {
   "cell_type": "code",
   "execution_count": 20,
   "id": "3abef4cb",
   "metadata": {},
   "outputs": [
    {
     "data": {
      "application/vnd.plotly.v1+json": {
       "config": {
        "plotlyServerURL": "https://plot.ly"
       },
       "data": [
        {
         "hoverinfo": "skip",
         "line": {
          "color": "lightgray",
          "width": 2
         },
         "mode": "lines",
         "showlegend": false,
         "type": "scatter",
         "x": [
          161400,
          134100
         ],
         "y": [
          "MS",
          "MS"
         ]
        },
        {
         "hoverinfo": "skip",
         "line": {
          "color": "lightgray",
          "width": 2
         },
         "mode": "lines",
         "showlegend": false,
         "type": "scatter",
         "x": [
          175300,
          205500
         ],
         "y": [
          "AR",
          "AR"
         ]
        },
        {
         "hoverinfo": "skip",
         "line": {
          "color": "lightgray",
          "width": 2
         },
         "mode": "lines",
         "showlegend": false,
         "type": "scatter",
         "x": [
          195100,
          221650
         ],
         "y": [
          "AL",
          "AL"
         ]
        },
        {
         "hoverinfo": "skip",
         "line": {
          "color": "lightgray",
          "width": 2
         },
         "mode": "lines",
         "showlegend": false,
         "type": "scatter",
         "x": [
          195900,
          346800
         ],
         "y": [
          "IA",
          "IA"
         ]
        },
        {
         "hoverinfo": "skip",
         "line": {
          "color": "lightgray",
          "width": 2
         },
         "mode": "lines",
         "showlegend": false,
         "type": "scatter",
         "x": [
          199200,
          211150
         ],
         "y": [
          "OH",
          "OH"
         ]
        },
        {
         "hoverinfo": "skip",
         "line": {
          "color": "lightgray",
          "width": 2
         },
         "mode": "lines",
         "showlegend": false,
         "type": "scatter",
         "x": [
          203400,
          144000
         ],
         "y": [
          "KS",
          "KS"
         ]
        },
        {
         "hoverinfo": "skip",
         "line": {
          "color": "lightgray",
          "width": 2
         },
         "mode": "lines",
         "showlegend": false,
         "type": "scatter",
         "x": [
          208700,
          479950
         ],
         "y": [
          "LA",
          "LA"
         ]
        },
        {
         "hoverinfo": "skip",
         "line": {
          "color": "lightgray",
          "width": 2
         },
         "mode": "lines",
         "showlegend": false,
         "type": "scatter",
         "x": [
          215600,
          177400
         ],
         "y": [
          "MO",
          "MO"
         ]
        },
        {
         "hoverinfo": "skip",
         "line": {
          "color": "lightgray",
          "width": 2
         },
         "mode": "lines",
         "showlegend": false,
         "type": "scatter",
         "x": [
          217600,
          259325
         ],
         "y": [
          "MI",
          "MI"
         ]
        },
        {
         "hoverinfo": "skip",
         "line": {
          "color": "lightgray",
          "width": 2
         },
         "mode": "lines",
         "showlegend": false,
         "type": "scatter",
         "x": [
          223800,
          287400
         ],
         "y": [
          "NE",
          "NE"
         ]
        },
        {
         "hoverinfo": "skip",
         "line": {
          "color": "lightgray",
          "width": 2
         },
         "mode": "lines",
         "showlegend": false,
         "type": "scatter",
         "x": [
          232200,
          75400
         ],
         "y": [
          "NM",
          "NM"
         ]
        },
        {
         "hoverinfo": "skip",
         "line": {
          "color": "lightgray",
          "width": 2
         },
         "mode": "lines",
         "showlegend": false,
         "type": "scatter",
         "x": [
          236700,
          366260
         ],
         "y": [
          "SC",
          "SC"
         ]
        },
        {
         "hoverinfo": "skip",
         "line": {
          "color": "lightgray",
          "width": 2
         },
         "mode": "lines",
         "showlegend": false,
         "type": "scatter",
         "x": [
          240500,
          264340
         ],
         "y": [
          "PA",
          "PA"
         ]
        },
        {
         "hoverinfo": "skip",
         "line": {
          "color": "lightgray",
          "width": 2
         },
         "mode": "lines",
         "showlegend": false,
         "type": "scatter",
         "x": [
          247400,
          211500
         ],
         "y": [
          "WI",
          "WI"
         ]
        },
        {
         "hoverinfo": "skip",
         "line": {
          "color": "lightgray",
          "width": 2
         },
         "mode": "lines",
         "showlegend": false,
         "type": "scatter",
         "x": [
          250500,
          277388.8888888889
         ],
         "y": [
          "IL",
          "IL"
         ]
        },
        {
         "hoverinfo": "skip",
         "line": {
          "color": "lightgray",
          "width": 2
         },
         "mode": "lines",
         "showlegend": false,
         "type": "scatter",
         "x": [
          256800,
          237600
         ],
         "y": [
          "TN",
          "TN"
         ]
        },
        {
         "hoverinfo": "skip",
         "line": {
          "color": "lightgray",
          "width": 2
         },
         "mode": "lines",
         "showlegend": false,
         "type": "scatter",
         "x": [
          259400,
          603500
         ],
         "y": [
          "NC",
          "NC"
         ]
        },
        {
         "hoverinfo": "skip",
         "line": {
          "color": "lightgray",
          "width": 2
         },
         "mode": "lines",
         "showlegend": false,
         "type": "scatter",
         "x": [
          260400,
          273200
         ],
         "y": [
          "TX",
          "TX"
         ]
        },
        {
         "hoverinfo": "skip",
         "line": {
          "color": "lightgray",
          "width": 2
         },
         "mode": "lines",
         "showlegend": false,
         "type": "scatter",
         "x": [
          266400,
          540600
         ],
         "y": [
          "ME",
          "ME"
         ]
        },
        {
         "hoverinfo": "skip",
         "line": {
          "color": "lightgray",
          "width": 2
         },
         "mode": "lines",
         "showlegend": false,
         "type": "scatter",
         "x": [
          272900,
          87750
         ],
         "y": [
          "GA",
          "GA"
         ]
        },
        {
         "hoverinfo": "skip",
         "line": {
          "color": "lightgray",
          "width": 2
         },
         "mode": "lines",
         "showlegend": false,
         "type": "scatter",
         "x": [
          290500,
          260900
         ],
         "y": [
          "VT",
          "VT"
         ]
        },
        {
         "hoverinfo": "skip",
         "line": {
          "color": "lightgray",
          "width": 2
         },
         "mode": "lines",
         "showlegend": false,
         "type": "scatter",
         "x": [
          305500,
          263850
         ],
         "y": [
          "MN",
          "MN"
         ]
        },
        {
         "hoverinfo": "skip",
         "line": {
          "color": "lightgray",
          "width": 2
         },
         "mode": "lines",
         "showlegend": false,
         "type": "scatter",
         "x": [
          325000,
          321400
         ],
         "y": [
          "FL",
          "FL"
         ]
        },
        {
         "hoverinfo": "skip",
         "line": {
          "color": "lightgray",
          "width": 2
         },
         "mode": "lines",
         "showlegend": false,
         "type": "scatter",
         "x": [
          343200,
          337750
         ],
         "y": [
          "CT",
          "CT"
         ]
        },
        {
         "hoverinfo": "skip",
         "line": {
          "color": "lightgray",
          "width": 2
         },
         "mode": "lines",
         "showlegend": false,
         "type": "scatter",
         "x": [
          358900,
          260000
         ],
         "y": [
          "AZ",
          "AZ"
         ]
        },
        {
         "hoverinfo": "skip",
         "line": {
          "color": "lightgray",
          "width": 2
         },
         "mode": "lines",
         "showlegend": false,
         "type": "scatter",
         "x": [
          360700,
          336200
         ],
         "y": [
          "VA",
          "VA"
         ]
        },
        {
         "hoverinfo": "skip",
         "line": {
          "color": "lightgray",
          "width": 2
         },
         "mode": "lines",
         "showlegend": false,
         "type": "scatter",
         "x": [
          367200,
          360000
         ],
         "y": [
          "NH",
          "NH"
         ]
        },
        {
         "hoverinfo": "skip",
         "line": {
          "color": "lightgray",
          "width": 2
         },
         "mode": "lines",
         "showlegend": false,
         "type": "scatter",
         "x": [
          376000,
          267600
         ],
         "y": [
          "ID",
          "ID"
         ]
        },
        {
         "hoverinfo": "skip",
         "line": {
          "color": "lightgray",
          "width": 2
         },
         "mode": "lines",
         "showlegend": false,
         "type": "scatter",
         "x": [
          397700,
          387400
         ],
         "y": [
          "MD",
          "MD"
         ]
        },
        {
         "hoverinfo": "skip",
         "line": {
          "color": "lightgray",
          "width": 2
         },
         "mode": "lines",
         "showlegend": false,
         "type": "scatter",
         "x": [
          403000,
          246125
         ],
         "y": [
          "NY",
          "NY"
         ]
        },
        {
         "hoverinfo": "skip",
         "line": {
          "color": "lightgray",
          "width": 2
         },
         "mode": "lines",
         "showlegend": false,
         "type": "scatter",
         "x": [
          427600,
          353400
         ],
         "y": [
          "NJ",
          "NJ"
         ]
        },
        {
         "hoverinfo": "skip",
         "line": {
          "color": "lightgray",
          "width": 2
         },
         "mode": "lines",
         "showlegend": false,
         "type": "scatter",
         "x": [
          454200,
          358100
         ],
         "y": [
          "OR",
          "OR"
         ]
        },
        {
         "hoverinfo": "skip",
         "line": {
          "color": "lightgray",
          "width": 2
         },
         "mode": "lines",
         "showlegend": false,
         "type": "scatter",
         "x": [
          502200,
          497400
         ],
         "y": [
          "CO",
          "CO"
         ]
        },
        {
         "hoverinfo": "skip",
         "line": {
          "color": "lightgray",
          "width": 2
         },
         "mode": "lines",
         "showlegend": false,
         "type": "scatter",
         "x": [
          519800,
          0
         ],
         "y": [
          "WA",
          "WA"
         ]
        },
        {
         "hoverinfo": "skip",
         "line": {
          "color": "lightgray",
          "width": 2
         },
         "mode": "lines",
         "showlegend": false,
         "type": "scatter",
         "x": [
          525800,
          358100
         ],
         "y": [
          "MA",
          "MA"
         ]
        },
        {
         "hoverinfo": "skip",
         "line": {
          "color": "lightgray",
          "width": 2
         },
         "mode": "lines",
         "showlegend": false,
         "type": "scatter",
         "x": [
          695400,
          1019066.6666666666
         ],
         "y": [
          "CA",
          "CA"
         ]
        },
        {
         "hovertemplate": "<b>%{y}</b><br>State: $%{x:,.0f}<extra></extra>",
         "marker": {
          "color": "blue",
          "size": 10
         },
         "mode": "markers",
         "name": "State Level",
         "type": "scatter",
         "x": {
          "bdata": "AAAAAMCzA0EAAAAAIGYFQQAAAADg0AdBAAAAAODpB0EAAAAAAFEIQQAAAABA1AhBAAAAAOB5CUEAAAAAgFEKQQAAAAAAkApBAAAAAMBRC0EAAAAAQFgMQQAAAADg5AxBAAAAAKBbDUEAAAAAQDMOQQAAAAAglA5BAAAAAABZD0EAAAAAQKoPQQAAAACAyQ9BAAAAAIBCEEEAAAAAEKgQQQAAAAAQuxFBAAAAAHClEkEAAAAAINYTQQAAAACA8hRBAAAAANDnFUEAAAAA8AMWQQAAAACAaRZBAAAAAADzFkEAAAAAEEYYQQAAAADgmBhBAAAAAEAZGkEAAAAA4LgbQQAAAADgph5BAAAAAOC5H0EAAAAA0AsgQQAAAADQOCVB",
          "dtype": "f8"
         },
         "y": [
          "MS",
          "AR",
          "AL",
          "IA",
          "OH",
          "KS",
          "LA",
          "MO",
          "MI",
          "NE",
          "NM",
          "SC",
          "PA",
          "WI",
          "IL",
          "TN",
          "NC",
          "TX",
          "ME",
          "GA",
          "VT",
          "MN",
          "FL",
          "CT",
          "AZ",
          "VA",
          "NH",
          "ID",
          "MD",
          "NY",
          "NJ",
          "OR",
          "CO",
          "WA",
          "MA",
          "CA"
         ]
        },
        {
         "hovertemplate": "<b>%{y}</b><br>Site: $%{x:,.0f}<extra></extra>",
         "marker": {
          "color": "red",
          "size": 10
         },
         "mode": "markers",
         "name": "Site Level",
         "type": "scatter",
         "x": {
          "bdata": "AAAAAKBeAEEAAAAA4BUJQQAAAACQDgtBAAAAAMAqFUEAAAAAcMYJQQAAAAAAlAFBAAAAADhLHUEAAAAAwKcFQQAAAADopw9BAAAAAKCKEUEAAAAAgGjyQAAAAADQWhZBAAAAAFAiEEEAAAAAYNEJQY7jOI4z7hBBAAAAAAABDUEAAAAA2GoiQQAAAADArBBBAAAAAHB/IEEAAAAAYGz1QAAAAAAg2Q9BAAAAAKgaEEEAAAAA4J0TQQAAAABYnRRBAAAAAAC9D0EAAAAAIIUUQQAAAAAA+RVBAAAAAEBVEEEAAAAAIKUXQQAAAABoCw5BAAAAAOCRFUEAAAAAUNsVQQAAAADgWx5BAAAAAAAAAAAAAAAAUNsVQVVVVVV1GS9B",
          "dtype": "f8"
         },
         "y": [
          "MS",
          "AR",
          "AL",
          "IA",
          "OH",
          "KS",
          "LA",
          "MO",
          "MI",
          "NE",
          "NM",
          "SC",
          "PA",
          "WI",
          "IL",
          "TN",
          "NC",
          "TX",
          "ME",
          "GA",
          "VT",
          "MN",
          "FL",
          "CT",
          "AZ",
          "VA",
          "NH",
          "ID",
          "MD",
          "NY",
          "NJ",
          "OR",
          "CO",
          "WA",
          "MA",
          "CA"
         ]
        }
       ],
       "layout": {
        "height": 600,
        "hovermode": "closest",
        "showlegend": true,
        "template": {
         "data": {
          "bar": [
           {
            "error_x": {
             "color": "#2a3f5f"
            },
            "error_y": {
             "color": "#2a3f5f"
            },
            "marker": {
             "line": {
              "color": "#E5ECF6",
              "width": 0.5
             },
             "pattern": {
              "fillmode": "overlay",
              "size": 10,
              "solidity": 0.2
             }
            },
            "type": "bar"
           }
          ],
          "barpolar": [
           {
            "marker": {
             "line": {
              "color": "#E5ECF6",
              "width": 0.5
             },
             "pattern": {
              "fillmode": "overlay",
              "size": 10,
              "solidity": 0.2
             }
            },
            "type": "barpolar"
           }
          ],
          "carpet": [
           {
            "aaxis": {
             "endlinecolor": "#2a3f5f",
             "gridcolor": "white",
             "linecolor": "white",
             "minorgridcolor": "white",
             "startlinecolor": "#2a3f5f"
            },
            "baxis": {
             "endlinecolor": "#2a3f5f",
             "gridcolor": "white",
             "linecolor": "white",
             "minorgridcolor": "white",
             "startlinecolor": "#2a3f5f"
            },
            "type": "carpet"
           }
          ],
          "choropleth": [
           {
            "colorbar": {
             "outlinewidth": 0,
             "ticks": ""
            },
            "type": "choropleth"
           }
          ],
          "contour": [
           {
            "colorbar": {
             "outlinewidth": 0,
             "ticks": ""
            },
            "colorscale": [
             [
              0,
              "#0d0887"
             ],
             [
              0.1111111111111111,
              "#46039f"
             ],
             [
              0.2222222222222222,
              "#7201a8"
             ],
             [
              0.3333333333333333,
              "#9c179e"
             ],
             [
              0.4444444444444444,
              "#bd3786"
             ],
             [
              0.5555555555555556,
              "#d8576b"
             ],
             [
              0.6666666666666666,
              "#ed7953"
             ],
             [
              0.7777777777777778,
              "#fb9f3a"
             ],
             [
              0.8888888888888888,
              "#fdca26"
             ],
             [
              1,
              "#f0f921"
             ]
            ],
            "type": "contour"
           }
          ],
          "contourcarpet": [
           {
            "colorbar": {
             "outlinewidth": 0,
             "ticks": ""
            },
            "type": "contourcarpet"
           }
          ],
          "heatmap": [
           {
            "colorbar": {
             "outlinewidth": 0,
             "ticks": ""
            },
            "colorscale": [
             [
              0,
              "#0d0887"
             ],
             [
              0.1111111111111111,
              "#46039f"
             ],
             [
              0.2222222222222222,
              "#7201a8"
             ],
             [
              0.3333333333333333,
              "#9c179e"
             ],
             [
              0.4444444444444444,
              "#bd3786"
             ],
             [
              0.5555555555555556,
              "#d8576b"
             ],
             [
              0.6666666666666666,
              "#ed7953"
             ],
             [
              0.7777777777777778,
              "#fb9f3a"
             ],
             [
              0.8888888888888888,
              "#fdca26"
             ],
             [
              1,
              "#f0f921"
             ]
            ],
            "type": "heatmap"
           }
          ],
          "histogram": [
           {
            "marker": {
             "pattern": {
              "fillmode": "overlay",
              "size": 10,
              "solidity": 0.2
             }
            },
            "type": "histogram"
           }
          ],
          "histogram2d": [
           {
            "colorbar": {
             "outlinewidth": 0,
             "ticks": ""
            },
            "colorscale": [
             [
              0,
              "#0d0887"
             ],
             [
              0.1111111111111111,
              "#46039f"
             ],
             [
              0.2222222222222222,
              "#7201a8"
             ],
             [
              0.3333333333333333,
              "#9c179e"
             ],
             [
              0.4444444444444444,
              "#bd3786"
             ],
             [
              0.5555555555555556,
              "#d8576b"
             ],
             [
              0.6666666666666666,
              "#ed7953"
             ],
             [
              0.7777777777777778,
              "#fb9f3a"
             ],
             [
              0.8888888888888888,
              "#fdca26"
             ],
             [
              1,
              "#f0f921"
             ]
            ],
            "type": "histogram2d"
           }
          ],
          "histogram2dcontour": [
           {
            "colorbar": {
             "outlinewidth": 0,
             "ticks": ""
            },
            "colorscale": [
             [
              0,
              "#0d0887"
             ],
             [
              0.1111111111111111,
              "#46039f"
             ],
             [
              0.2222222222222222,
              "#7201a8"
             ],
             [
              0.3333333333333333,
              "#9c179e"
             ],
             [
              0.4444444444444444,
              "#bd3786"
             ],
             [
              0.5555555555555556,
              "#d8576b"
             ],
             [
              0.6666666666666666,
              "#ed7953"
             ],
             [
              0.7777777777777778,
              "#fb9f3a"
             ],
             [
              0.8888888888888888,
              "#fdca26"
             ],
             [
              1,
              "#f0f921"
             ]
            ],
            "type": "histogram2dcontour"
           }
          ],
          "mesh3d": [
           {
            "colorbar": {
             "outlinewidth": 0,
             "ticks": ""
            },
            "type": "mesh3d"
           }
          ],
          "parcoords": [
           {
            "line": {
             "colorbar": {
              "outlinewidth": 0,
              "ticks": ""
             }
            },
            "type": "parcoords"
           }
          ],
          "pie": [
           {
            "automargin": true,
            "type": "pie"
           }
          ],
          "scatter": [
           {
            "fillpattern": {
             "fillmode": "overlay",
             "size": 10,
             "solidity": 0.2
            },
            "type": "scatter"
           }
          ],
          "scatter3d": [
           {
            "line": {
             "colorbar": {
              "outlinewidth": 0,
              "ticks": ""
             }
            },
            "marker": {
             "colorbar": {
              "outlinewidth": 0,
              "ticks": ""
             }
            },
            "type": "scatter3d"
           }
          ],
          "scattercarpet": [
           {
            "marker": {
             "colorbar": {
              "outlinewidth": 0,
              "ticks": ""
             }
            },
            "type": "scattercarpet"
           }
          ],
          "scattergeo": [
           {
            "marker": {
             "colorbar": {
              "outlinewidth": 0,
              "ticks": ""
             }
            },
            "type": "scattergeo"
           }
          ],
          "scattergl": [
           {
            "marker": {
             "colorbar": {
              "outlinewidth": 0,
              "ticks": ""
             }
            },
            "type": "scattergl"
           }
          ],
          "scattermap": [
           {
            "marker": {
             "colorbar": {
              "outlinewidth": 0,
              "ticks": ""
             }
            },
            "type": "scattermap"
           }
          ],
          "scattermapbox": [
           {
            "marker": {
             "colorbar": {
              "outlinewidth": 0,
              "ticks": ""
             }
            },
            "type": "scattermapbox"
           }
          ],
          "scatterpolar": [
           {
            "marker": {
             "colorbar": {
              "outlinewidth": 0,
              "ticks": ""
             }
            },
            "type": "scatterpolar"
           }
          ],
          "scatterpolargl": [
           {
            "marker": {
             "colorbar": {
              "outlinewidth": 0,
              "ticks": ""
             }
            },
            "type": "scatterpolargl"
           }
          ],
          "scatterternary": [
           {
            "marker": {
             "colorbar": {
              "outlinewidth": 0,
              "ticks": ""
             }
            },
            "type": "scatterternary"
           }
          ],
          "surface": [
           {
            "colorbar": {
             "outlinewidth": 0,
             "ticks": ""
            },
            "colorscale": [
             [
              0,
              "#0d0887"
             ],
             [
              0.1111111111111111,
              "#46039f"
             ],
             [
              0.2222222222222222,
              "#7201a8"
             ],
             [
              0.3333333333333333,
              "#9c179e"
             ],
             [
              0.4444444444444444,
              "#bd3786"
             ],
             [
              0.5555555555555556,
              "#d8576b"
             ],
             [
              0.6666666666666666,
              "#ed7953"
             ],
             [
              0.7777777777777778,
              "#fb9f3a"
             ],
             [
              0.8888888888888888,
              "#fdca26"
             ],
             [
              1,
              "#f0f921"
             ]
            ],
            "type": "surface"
           }
          ],
          "table": [
           {
            "cells": {
             "fill": {
              "color": "#EBF0F8"
             },
             "line": {
              "color": "white"
             }
            },
            "header": {
             "fill": {
              "color": "#C8D4E3"
             },
             "line": {
              "color": "white"
             }
            },
            "type": "table"
           }
          ]
         },
         "layout": {
          "annotationdefaults": {
           "arrowcolor": "#2a3f5f",
           "arrowhead": 0,
           "arrowwidth": 1
          },
          "autotypenumbers": "strict",
          "coloraxis": {
           "colorbar": {
            "outlinewidth": 0,
            "ticks": ""
           }
          },
          "colorscale": {
           "diverging": [
            [
             0,
             "#8e0152"
            ],
            [
             0.1,
             "#c51b7d"
            ],
            [
             0.2,
             "#de77ae"
            ],
            [
             0.3,
             "#f1b6da"
            ],
            [
             0.4,
             "#fde0ef"
            ],
            [
             0.5,
             "#f7f7f7"
            ],
            [
             0.6,
             "#e6f5d0"
            ],
            [
             0.7,
             "#b8e186"
            ],
            [
             0.8,
             "#7fbc41"
            ],
            [
             0.9,
             "#4d9221"
            ],
            [
             1,
             "#276419"
            ]
           ],
           "sequential": [
            [
             0,
             "#0d0887"
            ],
            [
             0.1111111111111111,
             "#46039f"
            ],
            [
             0.2222222222222222,
             "#7201a8"
            ],
            [
             0.3333333333333333,
             "#9c179e"
            ],
            [
             0.4444444444444444,
             "#bd3786"
            ],
            [
             0.5555555555555556,
             "#d8576b"
            ],
            [
             0.6666666666666666,
             "#ed7953"
            ],
            [
             0.7777777777777778,
             "#fb9f3a"
            ],
            [
             0.8888888888888888,
             "#fdca26"
            ],
            [
             1,
             "#f0f921"
            ]
           ],
           "sequentialminus": [
            [
             0,
             "#0d0887"
            ],
            [
             0.1111111111111111,
             "#46039f"
            ],
            [
             0.2222222222222222,
             "#7201a8"
            ],
            [
             0.3333333333333333,
             "#9c179e"
            ],
            [
             0.4444444444444444,
             "#bd3786"
            ],
            [
             0.5555555555555556,
             "#d8576b"
            ],
            [
             0.6666666666666666,
             "#ed7953"
            ],
            [
             0.7777777777777778,
             "#fb9f3a"
            ],
            [
             0.8888888888888888,
             "#fdca26"
            ],
            [
             1,
             "#f0f921"
            ]
           ]
          },
          "colorway": [
           "#636efa",
           "#EF553B",
           "#00cc96",
           "#ab63fa",
           "#FFA15A",
           "#19d3f3",
           "#FF6692",
           "#B6E880",
           "#FF97FF",
           "#FECB52"
          ],
          "font": {
           "color": "#2a3f5f"
          },
          "geo": {
           "bgcolor": "white",
           "lakecolor": "white",
           "landcolor": "#E5ECF6",
           "showlakes": true,
           "showland": true,
           "subunitcolor": "white"
          },
          "hoverlabel": {
           "align": "left"
          },
          "hovermode": "closest",
          "mapbox": {
           "style": "light"
          },
          "paper_bgcolor": "white",
          "plot_bgcolor": "#E5ECF6",
          "polar": {
           "angularaxis": {
            "gridcolor": "white",
            "linecolor": "white",
            "ticks": ""
           },
           "bgcolor": "#E5ECF6",
           "radialaxis": {
            "gridcolor": "white",
            "linecolor": "white",
            "ticks": ""
           }
          },
          "scene": {
           "xaxis": {
            "backgroundcolor": "#E5ECF6",
            "gridcolor": "white",
            "gridwidth": 2,
            "linecolor": "white",
            "showbackground": true,
            "ticks": "",
            "zerolinecolor": "white"
           },
           "yaxis": {
            "backgroundcolor": "#E5ECF6",
            "gridcolor": "white",
            "gridwidth": 2,
            "linecolor": "white",
            "showbackground": true,
            "ticks": "",
            "zerolinecolor": "white"
           },
           "zaxis": {
            "backgroundcolor": "#E5ECF6",
            "gridcolor": "white",
            "gridwidth": 2,
            "linecolor": "white",
            "showbackground": true,
            "ticks": "",
            "zerolinecolor": "white"
           }
          },
          "shapedefaults": {
           "line": {
            "color": "#2a3f5f"
           }
          },
          "ternary": {
           "aaxis": {
            "gridcolor": "white",
            "linecolor": "white",
            "ticks": ""
           },
           "baxis": {
            "gridcolor": "white",
            "linecolor": "white",
            "ticks": ""
           },
           "bgcolor": "#E5ECF6",
           "caxis": {
            "gridcolor": "white",
            "linecolor": "white",
            "ticks": ""
           }
          },
          "title": {
           "x": 0.05
          },
          "xaxis": {
           "automargin": true,
           "gridcolor": "white",
           "linecolor": "white",
           "ticks": "",
           "title": {
            "standoff": 15
           },
           "zerolinecolor": "white",
           "zerolinewidth": 2
          },
          "yaxis": {
           "automargin": true,
           "gridcolor": "white",
           "linecolor": "white",
           "ticks": "",
           "title": {
            "standoff": 15
           },
           "zerolinecolor": "white",
           "zerolinewidth": 2
          }
         }
        },
        "title": {
         "text": "Comparison of Median Household Value by State"
        },
        "xaxis": {
         "title": {
          "text": "Median Household Value ($)"
         }
        },
        "yaxis": {
         "title": {
          "text": "State"
         }
        }
       }
      }
     },
     "metadata": {},
     "output_type": "display_data"
    }
   ],
   "source": [
    "housesite_fig = go.Figure()\n",
    "\n",
    "# Add lines connecting the two points\n",
    "for i in range(len(comparehouse_df)):\n",
    "    housesite_fig.add_trace(go.Scatter(\n",
    "        x=[comparehouse_df.iloc[i]['house_value_median_state'], \n",
    "           comparehouse_df.iloc[i]['house_value_median_site']],\n",
    "        y=[comparehouse_df.iloc[i]['state_abbrev'], comparehouse_df.iloc[i]['state_abbrev']],\n",
    "        mode='lines',\n",
    "        line=dict(color='lightgray', width=2),\n",
    "        showlegend=False,\n",
    "        hoverinfo='skip'\n",
    "    ))\n",
    "\n",
    "# Add points for statedf\n",
    "housesite_fig.add_trace(go.Scatter(\n",
    "    x=comparehouse_df['house_value_median_state'],\n",
    "    y=comparehouse_df['state_abbrev'],\n",
    "    mode='markers',\n",
    "    name='State Level',\n",
    "    marker=dict(size=10, color='blue'),\n",
    "    hovertemplate='<b>%{y}</b><br>State: $%{x:,.0f}<extra></extra>'\n",
    "))\n",
    "\n",
    "# Add points for sitedf\n",
    "housesite_fig.add_trace(go.Scatter(\n",
    "    x=comparehouse_df['house_value_median_site'],\n",
    "    y=comparehouse_df['state_abbrev'],\n",
    "    mode='markers',\n",
    "    name='Site Level',\n",
    "    marker=dict(size=10, color='red'),\n",
    "    hovertemplate='<b>%{y}</b><br>Site: $%{x:,.0f}<extra></extra>'\n",
    "))\n",
    "\n",
    "# Update layout\n",
    "housesite_fig.update_layout(\n",
    "    title='Comparison of Median Household Value by State',\n",
    "    xaxis_title='Median Household Value ($)',\n",
    "    yaxis_title='State',\n",
    "    height=600,\n",
    "    hovermode='closest',\n",
    "    showlegend=True\n",
    ")\n",
    "\n",
    "housesite_fig.show()"
   ]
  },
  {
   "cell_type": "code",
   "execution_count": 21,
   "id": "6e30a787",
   "metadata": {},
   "outputs": [],
   "source": [
    "housesite_fig.write_image(\"housevalue_lollipop.png\")\n"
   ]
  }
 ],
 "metadata": {
  "kernelspec": {
   "display_name": "base",
   "language": "python",
   "name": "python3"
  },
  "language_info": {
   "codemirror_mode": {
    "name": "ipython",
    "version": 3
   },
   "file_extension": ".py",
   "mimetype": "text/x-python",
   "name": "python",
   "nbconvert_exporter": "python",
   "pygments_lexer": "ipython3",
   "version": "3.12.2"
  }
 },
 "nbformat": 4,
 "nbformat_minor": 5
}
