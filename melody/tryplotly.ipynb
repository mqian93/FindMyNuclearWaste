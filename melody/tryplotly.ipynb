{
 "cells": [
  {
   "cell_type": "code",
   "execution_count": 1,
   "id": "c155669e",
   "metadata": {},
   "outputs": [],
   "source": [
    "import pandas as pd\n",
    "import numpy as np\n",
    "import scipy as sp\n",
    "import chart_studio\n",
    "import chart_studio.plotly as py\n",
    "import plotly.express as px\n",
    "import kaleido"
   ]
  },
  {
   "cell_type": "code",
   "execution_count": 2,
   "id": "617a4fef",
   "metadata": {},
   "outputs": [],
   "source": [
    "state_filepath='/Users/melodyqian/Documents/GitHub/FindMyNuclearWaste/CSVs/State_Level_Demographics_filtered.csv'\n",
    "statedf=pd.read_csv(state_filepath)"
   ]
  },
  {
   "cell_type": "code",
   "execution_count": 3,
   "id": "9a776283",
   "metadata": {},
   "outputs": [
    {
     "data": {
      "application/vnd.microsoft.datawrangler.viewer.v0+json": {
       "columns": [
        {
         "name": "index",
         "rawType": "int64",
         "type": "integer"
        },
        {
         "name": "state_name",
         "rawType": "object",
         "type": "string"
        },
        {
         "name": "state_abbrev",
         "rawType": "object",
         "type": "string"
        },
        {
         "name": "house_value_median",
         "rawType": "int64",
         "type": "integer"
        },
        {
         "name": "household_income_median",
         "rawType": "int64",
         "type": "integer"
        },
        {
         "name": "age_median",
         "rawType": "float64",
         "type": "float"
        },
        {
         "name": "male_percent",
         "rawType": "float64",
         "type": "float"
        },
        {
         "name": "female_percent",
         "rawType": "float64",
         "type": "float"
        },
        {
         "name": "latino_percent",
         "rawType": "float64",
         "type": "float"
        },
        {
         "name": "white_percent",
         "rawType": "float64",
         "type": "float"
        },
        {
         "name": "black_percent",
         "rawType": "float64",
         "type": "float"
        },
        {
         "name": "native_percent",
         "rawType": "float64",
         "type": "float"
        },
        {
         "name": "asian_percent",
         "rawType": "float64",
         "type": "float"
        },
        {
         "name": "pacific_percent",
         "rawType": "float64",
         "type": "float"
        }
       ],
       "ref": "e3221125-3caf-4e6d-a259-9fddf3754ae1",
       "rows": [
        [
         "0",
         "Alabama",
         "AL",
         "195100",
         "62027",
         "39.3",
         "48.5",
         "51.5",
         "27.5",
         "65.4",
         "26.1",
         "0.4",
         "1.6",
         "0.3"
        ],
        [
         "1",
         "Arizona",
         "AZ",
         "358900",
         "76872",
         "38.8",
         "49.9",
         "50.1",
         "6.4",
         "63.2",
         "4.6",
         "4.1",
         "3.3",
         "0.2"
        ],
        [
         "2",
         "Arkansas",
         "AR",
         "175300",
         "58773",
         "38.4",
         "49.3",
         "50.7",
         "16.4",
         "70.9",
         "14.9",
         "0.6",
         "2.2",
         "0.1"
        ],
        [
         "3",
         "California",
         "CA",
         "695400",
         "96334",
         "37.6",
         "50.0",
         "50.0",
         "7.2",
         "44.0",
         "5.5",
         "1.1",
         "6.7",
         "1.2"
        ],
        [
         "4",
         "Colorado",
         "CO",
         "502200",
         "92470",
         "37.5",
         "50.6",
         "49.4",
         "5.7",
         "73.5",
         "4.0",
         "1.0",
         "5.5",
         "0.4"
        ],
        [
         "5",
         "Connecticut",
         "CT",
         "343200",
         "93760",
         "41.2",
         "49.1",
         "50.9",
         "13.6",
         "67.6",
         "10.7",
         "0.3",
         "7.4",
         "0.3"
        ],
        [
         "6",
         "Florida",
         "FL",
         "325000",
         "71711",
         "42.6",
         "49.1",
         "50.9",
         "17.8",
         "59.9",
         "15.3",
         "0.3",
         "10.8",
         "0.1"
        ],
        [
         "7",
         "Georgia",
         "GA",
         "272900",
         "74664",
         "37.4",
         "48.8",
         "51.2",
         "33.7",
         "52.5",
         "31.3",
         "0.4",
         "3.7",
         "0.6"
        ],
        [
         "8",
         "Idaho",
         "ID",
         "376000",
         "74636",
         "37.1",
         "50.3",
         "49.7",
         "1.4",
         "83.3",
         "0.7",
         "1.1",
         "2.1",
         "0.1"
        ],
        [
         "9",
         "Illinois",
         "IL",
         "250500",
         "81702",
         "38.9",
         "49.4",
         "50.6",
         "15.5",
         "63.3",
         "13.8",
         "0.5",
         "2.4",
         "0.4"
        ]
       ],
       "shape": {
        "columns": 13,
        "rows": 10
       }
      },
      "text/html": [
       "<div>\n",
       "<style scoped>\n",
       "    .dataframe tbody tr th:only-of-type {\n",
       "        vertical-align: middle;\n",
       "    }\n",
       "\n",
       "    .dataframe tbody tr th {\n",
       "        vertical-align: top;\n",
       "    }\n",
       "\n",
       "    .dataframe thead th {\n",
       "        text-align: right;\n",
       "    }\n",
       "</style>\n",
       "<table border=\"1\" class=\"dataframe\">\n",
       "  <thead>\n",
       "    <tr style=\"text-align: right;\">\n",
       "      <th></th>\n",
       "      <th>state_name</th>\n",
       "      <th>state_abbrev</th>\n",
       "      <th>house_value_median</th>\n",
       "      <th>household_income_median</th>\n",
       "      <th>age_median</th>\n",
       "      <th>male_percent</th>\n",
       "      <th>female_percent</th>\n",
       "      <th>latino_percent</th>\n",
       "      <th>white_percent</th>\n",
       "      <th>black_percent</th>\n",
       "      <th>native_percent</th>\n",
       "      <th>asian_percent</th>\n",
       "      <th>pacific_percent</th>\n",
       "    </tr>\n",
       "  </thead>\n",
       "  <tbody>\n",
       "    <tr>\n",
       "      <th>0</th>\n",
       "      <td>Alabama</td>\n",
       "      <td>AL</td>\n",
       "      <td>195100</td>\n",
       "      <td>62027</td>\n",
       "      <td>39.3</td>\n",
       "      <td>48.5</td>\n",
       "      <td>51.5</td>\n",
       "      <td>27.5</td>\n",
       "      <td>65.4</td>\n",
       "      <td>26.1</td>\n",
       "      <td>0.4</td>\n",
       "      <td>1.6</td>\n",
       "      <td>0.3</td>\n",
       "    </tr>\n",
       "    <tr>\n",
       "      <th>1</th>\n",
       "      <td>Arizona</td>\n",
       "      <td>AZ</td>\n",
       "      <td>358900</td>\n",
       "      <td>76872</td>\n",
       "      <td>38.8</td>\n",
       "      <td>49.9</td>\n",
       "      <td>50.1</td>\n",
       "      <td>6.4</td>\n",
       "      <td>63.2</td>\n",
       "      <td>4.6</td>\n",
       "      <td>4.1</td>\n",
       "      <td>3.3</td>\n",
       "      <td>0.2</td>\n",
       "    </tr>\n",
       "    <tr>\n",
       "      <th>2</th>\n",
       "      <td>Arkansas</td>\n",
       "      <td>AR</td>\n",
       "      <td>175300</td>\n",
       "      <td>58773</td>\n",
       "      <td>38.4</td>\n",
       "      <td>49.3</td>\n",
       "      <td>50.7</td>\n",
       "      <td>16.4</td>\n",
       "      <td>70.9</td>\n",
       "      <td>14.9</td>\n",
       "      <td>0.6</td>\n",
       "      <td>2.2</td>\n",
       "      <td>0.1</td>\n",
       "    </tr>\n",
       "    <tr>\n",
       "      <th>3</th>\n",
       "      <td>California</td>\n",
       "      <td>CA</td>\n",
       "      <td>695400</td>\n",
       "      <td>96334</td>\n",
       "      <td>37.6</td>\n",
       "      <td>50.0</td>\n",
       "      <td>50.0</td>\n",
       "      <td>7.2</td>\n",
       "      <td>44.0</td>\n",
       "      <td>5.5</td>\n",
       "      <td>1.1</td>\n",
       "      <td>6.7</td>\n",
       "      <td>1.2</td>\n",
       "    </tr>\n",
       "    <tr>\n",
       "      <th>4</th>\n",
       "      <td>Colorado</td>\n",
       "      <td>CO</td>\n",
       "      <td>502200</td>\n",
       "      <td>92470</td>\n",
       "      <td>37.5</td>\n",
       "      <td>50.6</td>\n",
       "      <td>49.4</td>\n",
       "      <td>5.7</td>\n",
       "      <td>73.5</td>\n",
       "      <td>4.0</td>\n",
       "      <td>1.0</td>\n",
       "      <td>5.5</td>\n",
       "      <td>0.4</td>\n",
       "    </tr>\n",
       "    <tr>\n",
       "      <th>5</th>\n",
       "      <td>Connecticut</td>\n",
       "      <td>CT</td>\n",
       "      <td>343200</td>\n",
       "      <td>93760</td>\n",
       "      <td>41.2</td>\n",
       "      <td>49.1</td>\n",
       "      <td>50.9</td>\n",
       "      <td>13.6</td>\n",
       "      <td>67.6</td>\n",
       "      <td>10.7</td>\n",
       "      <td>0.3</td>\n",
       "      <td>7.4</td>\n",
       "      <td>0.3</td>\n",
       "    </tr>\n",
       "    <tr>\n",
       "      <th>6</th>\n",
       "      <td>Florida</td>\n",
       "      <td>FL</td>\n",
       "      <td>325000</td>\n",
       "      <td>71711</td>\n",
       "      <td>42.6</td>\n",
       "      <td>49.1</td>\n",
       "      <td>50.9</td>\n",
       "      <td>17.8</td>\n",
       "      <td>59.9</td>\n",
       "      <td>15.3</td>\n",
       "      <td>0.3</td>\n",
       "      <td>10.8</td>\n",
       "      <td>0.1</td>\n",
       "    </tr>\n",
       "    <tr>\n",
       "      <th>7</th>\n",
       "      <td>Georgia</td>\n",
       "      <td>GA</td>\n",
       "      <td>272900</td>\n",
       "      <td>74664</td>\n",
       "      <td>37.4</td>\n",
       "      <td>48.8</td>\n",
       "      <td>51.2</td>\n",
       "      <td>33.7</td>\n",
       "      <td>52.5</td>\n",
       "      <td>31.3</td>\n",
       "      <td>0.4</td>\n",
       "      <td>3.7</td>\n",
       "      <td>0.6</td>\n",
       "    </tr>\n",
       "    <tr>\n",
       "      <th>8</th>\n",
       "      <td>Idaho</td>\n",
       "      <td>ID</td>\n",
       "      <td>376000</td>\n",
       "      <td>74636</td>\n",
       "      <td>37.1</td>\n",
       "      <td>50.3</td>\n",
       "      <td>49.7</td>\n",
       "      <td>1.4</td>\n",
       "      <td>83.3</td>\n",
       "      <td>0.7</td>\n",
       "      <td>1.1</td>\n",
       "      <td>2.1</td>\n",
       "      <td>0.1</td>\n",
       "    </tr>\n",
       "    <tr>\n",
       "      <th>9</th>\n",
       "      <td>Illinois</td>\n",
       "      <td>IL</td>\n",
       "      <td>250500</td>\n",
       "      <td>81702</td>\n",
       "      <td>38.9</td>\n",
       "      <td>49.4</td>\n",
       "      <td>50.6</td>\n",
       "      <td>15.5</td>\n",
       "      <td>63.3</td>\n",
       "      <td>13.8</td>\n",
       "      <td>0.5</td>\n",
       "      <td>2.4</td>\n",
       "      <td>0.4</td>\n",
       "    </tr>\n",
       "  </tbody>\n",
       "</table>\n",
       "</div>"
      ],
      "text/plain": [
       "    state_name state_abbrev  house_value_median  household_income_median  \\\n",
       "0      Alabama           AL              195100                    62027   \n",
       "1      Arizona           AZ              358900                    76872   \n",
       "2     Arkansas           AR              175300                    58773   \n",
       "3   California           CA              695400                    96334   \n",
       "4     Colorado           CO              502200                    92470   \n",
       "5  Connecticut           CT              343200                    93760   \n",
       "6      Florida           FL              325000                    71711   \n",
       "7      Georgia           GA              272900                    74664   \n",
       "8        Idaho           ID              376000                    74636   \n",
       "9     Illinois           IL              250500                    81702   \n",
       "\n",
       "   age_median  male_percent  female_percent  latino_percent  white_percent  \\\n",
       "0        39.3          48.5            51.5            27.5           65.4   \n",
       "1        38.8          49.9            50.1             6.4           63.2   \n",
       "2        38.4          49.3            50.7            16.4           70.9   \n",
       "3        37.6          50.0            50.0             7.2           44.0   \n",
       "4        37.5          50.6            49.4             5.7           73.5   \n",
       "5        41.2          49.1            50.9            13.6           67.6   \n",
       "6        42.6          49.1            50.9            17.8           59.9   \n",
       "7        37.4          48.8            51.2            33.7           52.5   \n",
       "8        37.1          50.3            49.7             1.4           83.3   \n",
       "9        38.9          49.4            50.6            15.5           63.3   \n",
       "\n",
       "   black_percent  native_percent  asian_percent  pacific_percent  \n",
       "0           26.1             0.4            1.6              0.3  \n",
       "1            4.6             4.1            3.3              0.2  \n",
       "2           14.9             0.6            2.2              0.1  \n",
       "3            5.5             1.1            6.7              1.2  \n",
       "4            4.0             1.0            5.5              0.4  \n",
       "5           10.7             0.3            7.4              0.3  \n",
       "6           15.3             0.3           10.8              0.1  \n",
       "7           31.3             0.4            3.7              0.6  \n",
       "8            0.7             1.1            2.1              0.1  \n",
       "9           13.8             0.5            2.4              0.4  "
      ]
     },
     "execution_count": 3,
     "metadata": {},
     "output_type": "execute_result"
    }
   ],
   "source": [
    "pd.DataFrame.head(statedf, n=10)"
   ]
  },
  {
   "cell_type": "code",
   "execution_count": 4,
   "id": "966fba95",
   "metadata": {},
   "outputs": [
    {
     "data": {
      "application/vnd.plotly.v1+json": {
       "config": {
        "plotlyServerURL": "https://plot.ly"
       },
       "data": [
        {
         "hovertemplate": "variable=asian_percent<br>state_name=%{x}<br>value=%{y}<extra></extra>",
         "legendgroup": "asian_percent",
         "marker": {
          "color": "#636efa",
          "pattern": {
           "shape": ""
          }
         },
         "name": "asian_percent",
         "orientation": "v",
         "showlegend": true,
         "textposition": "auto",
         "type": "bar",
         "x": [
          "Alabama",
          "Arizona",
          "Arkansas",
          "California",
          "Colorado",
          "Connecticut",
          "Florida",
          "Georgia",
          "Idaho",
          "Illinois",
          "Iowa",
          "Kansas",
          "Louisiana",
          "Maine",
          "Maryland",
          "Massachusetts",
          "Michigan",
          "Minnesota",
          "Mississippi",
          "Missouri",
          "Nebraska",
          "New Hampshire",
          "New Jersey",
          "New Mexico",
          "New York",
          "North Carolina",
          "Ohio",
          "Oregon",
          "Pennsylvania",
          "South Carolina",
          "Tennessee",
          "Texas",
          "Vermont",
          "Virginia",
          "Washington",
          "Wisconsin"
         ],
         "xaxis": "x",
         "y": {
          "bdata": "mpmZmZmZ+T9mZmZmZmYKQJqZmZmZmQFAzczMzMzMGkAAAAAAAAAWQJqZmZmZmR1AmpmZmZmZJUCamZmZmZkNQM3MzMzMzABAMzMzMzMzA0CamZmZmZn5P83MzMzMzABAZmZmZmZmEEDNzMzMzMzsP5qZmZmZmSFAzczMzMzMHECamZmZmZnxP2ZmZmZmZv4/MzMzMzMz8z9mZmZmZmb2P83MzMzMzAhAmpmZmZmZAUCamZmZmZkqQM3MzMzMzC5AAAAAAAAAJ0AzMzMzMzMPQM3MzMzMzPQ/MzMzMzMzA0DNzMzMzMwIQAAAAAAAAARAAAAAAAAABEAAAAAAAAAYQDMzMzMzM/M/zczMzMzMGkCamZmZmZkFQDMzMzMzM/M/",
          "dtype": "f8"
         },
         "yaxis": "y"
        }
       ],
       "layout": {
        "barmode": "relative",
        "legend": {
         "title": {
          "text": "variable"
         },
         "tracegroupgap": 0
        },
        "template": {
         "data": {
          "bar": [
           {
            "error_x": {
             "color": "#2a3f5f"
            },
            "error_y": {
             "color": "#2a3f5f"
            },
            "marker": {
             "line": {
              "color": "#E5ECF6",
              "width": 0.5
             },
             "pattern": {
              "fillmode": "overlay",
              "size": 10,
              "solidity": 0.2
             }
            },
            "type": "bar"
           }
          ],
          "barpolar": [
           {
            "marker": {
             "line": {
              "color": "#E5ECF6",
              "width": 0.5
             },
             "pattern": {
              "fillmode": "overlay",
              "size": 10,
              "solidity": 0.2
             }
            },
            "type": "barpolar"
           }
          ],
          "carpet": [
           {
            "aaxis": {
             "endlinecolor": "#2a3f5f",
             "gridcolor": "white",
             "linecolor": "white",
             "minorgridcolor": "white",
             "startlinecolor": "#2a3f5f"
            },
            "baxis": {
             "endlinecolor": "#2a3f5f",
             "gridcolor": "white",
             "linecolor": "white",
             "minorgridcolor": "white",
             "startlinecolor": "#2a3f5f"
            },
            "type": "carpet"
           }
          ],
          "choropleth": [
           {
            "colorbar": {
             "outlinewidth": 0,
             "ticks": ""
            },
            "type": "choropleth"
           }
          ],
          "contour": [
           {
            "colorbar": {
             "outlinewidth": 0,
             "ticks": ""
            },
            "colorscale": [
             [
              0,
              "#0d0887"
             ],
             [
              0.1111111111111111,
              "#46039f"
             ],
             [
              0.2222222222222222,
              "#7201a8"
             ],
             [
              0.3333333333333333,
              "#9c179e"
             ],
             [
              0.4444444444444444,
              "#bd3786"
             ],
             [
              0.5555555555555556,
              "#d8576b"
             ],
             [
              0.6666666666666666,
              "#ed7953"
             ],
             [
              0.7777777777777778,
              "#fb9f3a"
             ],
             [
              0.8888888888888888,
              "#fdca26"
             ],
             [
              1,
              "#f0f921"
             ]
            ],
            "type": "contour"
           }
          ],
          "contourcarpet": [
           {
            "colorbar": {
             "outlinewidth": 0,
             "ticks": ""
            },
            "type": "contourcarpet"
           }
          ],
          "heatmap": [
           {
            "colorbar": {
             "outlinewidth": 0,
             "ticks": ""
            },
            "colorscale": [
             [
              0,
              "#0d0887"
             ],
             [
              0.1111111111111111,
              "#46039f"
             ],
             [
              0.2222222222222222,
              "#7201a8"
             ],
             [
              0.3333333333333333,
              "#9c179e"
             ],
             [
              0.4444444444444444,
              "#bd3786"
             ],
             [
              0.5555555555555556,
              "#d8576b"
             ],
             [
              0.6666666666666666,
              "#ed7953"
             ],
             [
              0.7777777777777778,
              "#fb9f3a"
             ],
             [
              0.8888888888888888,
              "#fdca26"
             ],
             [
              1,
              "#f0f921"
             ]
            ],
            "type": "heatmap"
           }
          ],
          "histogram": [
           {
            "marker": {
             "pattern": {
              "fillmode": "overlay",
              "size": 10,
              "solidity": 0.2
             }
            },
            "type": "histogram"
           }
          ],
          "histogram2d": [
           {
            "colorbar": {
             "outlinewidth": 0,
             "ticks": ""
            },
            "colorscale": [
             [
              0,
              "#0d0887"
             ],
             [
              0.1111111111111111,
              "#46039f"
             ],
             [
              0.2222222222222222,
              "#7201a8"
             ],
             [
              0.3333333333333333,
              "#9c179e"
             ],
             [
              0.4444444444444444,
              "#bd3786"
             ],
             [
              0.5555555555555556,
              "#d8576b"
             ],
             [
              0.6666666666666666,
              "#ed7953"
             ],
             [
              0.7777777777777778,
              "#fb9f3a"
             ],
             [
              0.8888888888888888,
              "#fdca26"
             ],
             [
              1,
              "#f0f921"
             ]
            ],
            "type": "histogram2d"
           }
          ],
          "histogram2dcontour": [
           {
            "colorbar": {
             "outlinewidth": 0,
             "ticks": ""
            },
            "colorscale": [
             [
              0,
              "#0d0887"
             ],
             [
              0.1111111111111111,
              "#46039f"
             ],
             [
              0.2222222222222222,
              "#7201a8"
             ],
             [
              0.3333333333333333,
              "#9c179e"
             ],
             [
              0.4444444444444444,
              "#bd3786"
             ],
             [
              0.5555555555555556,
              "#d8576b"
             ],
             [
              0.6666666666666666,
              "#ed7953"
             ],
             [
              0.7777777777777778,
              "#fb9f3a"
             ],
             [
              0.8888888888888888,
              "#fdca26"
             ],
             [
              1,
              "#f0f921"
             ]
            ],
            "type": "histogram2dcontour"
           }
          ],
          "mesh3d": [
           {
            "colorbar": {
             "outlinewidth": 0,
             "ticks": ""
            },
            "type": "mesh3d"
           }
          ],
          "parcoords": [
           {
            "line": {
             "colorbar": {
              "outlinewidth": 0,
              "ticks": ""
             }
            },
            "type": "parcoords"
           }
          ],
          "pie": [
           {
            "automargin": true,
            "type": "pie"
           }
          ],
          "scatter": [
           {
            "fillpattern": {
             "fillmode": "overlay",
             "size": 10,
             "solidity": 0.2
            },
            "type": "scatter"
           }
          ],
          "scatter3d": [
           {
            "line": {
             "colorbar": {
              "outlinewidth": 0,
              "ticks": ""
             }
            },
            "marker": {
             "colorbar": {
              "outlinewidth": 0,
              "ticks": ""
             }
            },
            "type": "scatter3d"
           }
          ],
          "scattercarpet": [
           {
            "marker": {
             "colorbar": {
              "outlinewidth": 0,
              "ticks": ""
             }
            },
            "type": "scattercarpet"
           }
          ],
          "scattergeo": [
           {
            "marker": {
             "colorbar": {
              "outlinewidth": 0,
              "ticks": ""
             }
            },
            "type": "scattergeo"
           }
          ],
          "scattergl": [
           {
            "marker": {
             "colorbar": {
              "outlinewidth": 0,
              "ticks": ""
             }
            },
            "type": "scattergl"
           }
          ],
          "scattermap": [
           {
            "marker": {
             "colorbar": {
              "outlinewidth": 0,
              "ticks": ""
             }
            },
            "type": "scattermap"
           }
          ],
          "scattermapbox": [
           {
            "marker": {
             "colorbar": {
              "outlinewidth": 0,
              "ticks": ""
             }
            },
            "type": "scattermapbox"
           }
          ],
          "scatterpolar": [
           {
            "marker": {
             "colorbar": {
              "outlinewidth": 0,
              "ticks": ""
             }
            },
            "type": "scatterpolar"
           }
          ],
          "scatterpolargl": [
           {
            "marker": {
             "colorbar": {
              "outlinewidth": 0,
              "ticks": ""
             }
            },
            "type": "scatterpolargl"
           }
          ],
          "scatterternary": [
           {
            "marker": {
             "colorbar": {
              "outlinewidth": 0,
              "ticks": ""
             }
            },
            "type": "scatterternary"
           }
          ],
          "surface": [
           {
            "colorbar": {
             "outlinewidth": 0,
             "ticks": ""
            },
            "colorscale": [
             [
              0,
              "#0d0887"
             ],
             [
              0.1111111111111111,
              "#46039f"
             ],
             [
              0.2222222222222222,
              "#7201a8"
             ],
             [
              0.3333333333333333,
              "#9c179e"
             ],
             [
              0.4444444444444444,
              "#bd3786"
             ],
             [
              0.5555555555555556,
              "#d8576b"
             ],
             [
              0.6666666666666666,
              "#ed7953"
             ],
             [
              0.7777777777777778,
              "#fb9f3a"
             ],
             [
              0.8888888888888888,
              "#fdca26"
             ],
             [
              1,
              "#f0f921"
             ]
            ],
            "type": "surface"
           }
          ],
          "table": [
           {
            "cells": {
             "fill": {
              "color": "#EBF0F8"
             },
             "line": {
              "color": "white"
             }
            },
            "header": {
             "fill": {
              "color": "#C8D4E3"
             },
             "line": {
              "color": "white"
             }
            },
            "type": "table"
           }
          ]
         },
         "layout": {
          "annotationdefaults": {
           "arrowcolor": "#2a3f5f",
           "arrowhead": 0,
           "arrowwidth": 1
          },
          "autotypenumbers": "strict",
          "coloraxis": {
           "colorbar": {
            "outlinewidth": 0,
            "ticks": ""
           }
          },
          "colorscale": {
           "diverging": [
            [
             0,
             "#8e0152"
            ],
            [
             0.1,
             "#c51b7d"
            ],
            [
             0.2,
             "#de77ae"
            ],
            [
             0.3,
             "#f1b6da"
            ],
            [
             0.4,
             "#fde0ef"
            ],
            [
             0.5,
             "#f7f7f7"
            ],
            [
             0.6,
             "#e6f5d0"
            ],
            [
             0.7,
             "#b8e186"
            ],
            [
             0.8,
             "#7fbc41"
            ],
            [
             0.9,
             "#4d9221"
            ],
            [
             1,
             "#276419"
            ]
           ],
           "sequential": [
            [
             0,
             "#0d0887"
            ],
            [
             0.1111111111111111,
             "#46039f"
            ],
            [
             0.2222222222222222,
             "#7201a8"
            ],
            [
             0.3333333333333333,
             "#9c179e"
            ],
            [
             0.4444444444444444,
             "#bd3786"
            ],
            [
             0.5555555555555556,
             "#d8576b"
            ],
            [
             0.6666666666666666,
             "#ed7953"
            ],
            [
             0.7777777777777778,
             "#fb9f3a"
            ],
            [
             0.8888888888888888,
             "#fdca26"
            ],
            [
             1,
             "#f0f921"
            ]
           ],
           "sequentialminus": [
            [
             0,
             "#0d0887"
            ],
            [
             0.1111111111111111,
             "#46039f"
            ],
            [
             0.2222222222222222,
             "#7201a8"
            ],
            [
             0.3333333333333333,
             "#9c179e"
            ],
            [
             0.4444444444444444,
             "#bd3786"
            ],
            [
             0.5555555555555556,
             "#d8576b"
            ],
            [
             0.6666666666666666,
             "#ed7953"
            ],
            [
             0.7777777777777778,
             "#fb9f3a"
            ],
            [
             0.8888888888888888,
             "#fdca26"
            ],
            [
             1,
             "#f0f921"
            ]
           ]
          },
          "colorway": [
           "#636efa",
           "#EF553B",
           "#00cc96",
           "#ab63fa",
           "#FFA15A",
           "#19d3f3",
           "#FF6692",
           "#B6E880",
           "#FF97FF",
           "#FECB52"
          ],
          "font": {
           "color": "#2a3f5f"
          },
          "geo": {
           "bgcolor": "white",
           "lakecolor": "white",
           "landcolor": "#E5ECF6",
           "showlakes": true,
           "showland": true,
           "subunitcolor": "white"
          },
          "hoverlabel": {
           "align": "left"
          },
          "hovermode": "closest",
          "mapbox": {
           "style": "light"
          },
          "paper_bgcolor": "white",
          "plot_bgcolor": "#E5ECF6",
          "polar": {
           "angularaxis": {
            "gridcolor": "white",
            "linecolor": "white",
            "ticks": ""
           },
           "bgcolor": "#E5ECF6",
           "radialaxis": {
            "gridcolor": "white",
            "linecolor": "white",
            "ticks": ""
           }
          },
          "scene": {
           "xaxis": {
            "backgroundcolor": "#E5ECF6",
            "gridcolor": "white",
            "gridwidth": 2,
            "linecolor": "white",
            "showbackground": true,
            "ticks": "",
            "zerolinecolor": "white"
           },
           "yaxis": {
            "backgroundcolor": "#E5ECF6",
            "gridcolor": "white",
            "gridwidth": 2,
            "linecolor": "white",
            "showbackground": true,
            "ticks": "",
            "zerolinecolor": "white"
           },
           "zaxis": {
            "backgroundcolor": "#E5ECF6",
            "gridcolor": "white",
            "gridwidth": 2,
            "linecolor": "white",
            "showbackground": true,
            "ticks": "",
            "zerolinecolor": "white"
           }
          },
          "shapedefaults": {
           "line": {
            "color": "#2a3f5f"
           }
          },
          "ternary": {
           "aaxis": {
            "gridcolor": "white",
            "linecolor": "white",
            "ticks": ""
           },
           "baxis": {
            "gridcolor": "white",
            "linecolor": "white",
            "ticks": ""
           },
           "bgcolor": "#E5ECF6",
           "caxis": {
            "gridcolor": "white",
            "linecolor": "white",
            "ticks": ""
           }
          },
          "title": {
           "x": 0.05
          },
          "xaxis": {
           "automargin": true,
           "gridcolor": "white",
           "linecolor": "white",
           "ticks": "",
           "title": {
            "standoff": 15
           },
           "zerolinecolor": "white",
           "zerolinewidth": 2
          },
          "yaxis": {
           "automargin": true,
           "gridcolor": "white",
           "linecolor": "white",
           "ticks": "",
           "title": {
            "standoff": 15
           },
           "zerolinecolor": "white",
           "zerolinewidth": 2
          }
         }
        },
        "title": {
         "text": "Wide-Form Input"
        },
        "xaxis": {
         "anchor": "y",
         "domain": [
          0,
          1
         ],
         "title": {
          "text": "state_name"
         }
        },
        "yaxis": {
         "anchor": "x",
         "domain": [
          0,
          1
         ],
         "title": {
          "text": "value"
         }
        }
       }
      }
     },
     "metadata": {},
     "output_type": "display_data"
    }
   ],
   "source": [
    "fig = px.bar(statedf, x=\"state_name\", y=[\"asian_percent\"], title=\"Wide-Form Input\")\n",
    "fig.show()\n",
    "#fig.write_html(\"samplestatedata.html\")"
   ]
  },
  {
   "cell_type": "code",
   "execution_count": null,
   "id": "74c8a6e2",
   "metadata": {},
   "outputs": [],
   "source": [
    "state_income_collapsed = statedf.groupby('state_abbrev')['household_income_median'].mean()\n",
    "state_income_collapsed= state_income_collapsed.reset_index()"
   ]
  },
  {
   "cell_type": "code",
   "execution_count": 6,
   "id": "4ab588e1",
   "metadata": {},
   "outputs": [
    {
     "data": {
      "application/vnd.microsoft.datawrangler.viewer.v0+json": {
       "columns": [
        {
         "name": "index",
         "rawType": "int64",
         "type": "integer"
        },
        {
         "name": "state_abbrev",
         "rawType": "object",
         "type": "string"
        },
        {
         "name": "household_income_median",
         "rawType": "float64",
         "type": "float"
        }
       ],
       "ref": "0b6d03ac-1f67-442e-b3e5-26abb818aab2",
       "rows": [
        [
         "0",
         "AL",
         "62027.0"
        ],
        [
         "1",
         "AR",
         "58773.0"
        ],
        [
         "2",
         "AZ",
         "76872.0"
        ],
        [
         "3",
         "CA",
         "96334.0"
        ],
        [
         "4",
         "CO",
         "92470.0"
        ],
        [
         "5",
         "CT",
         "93760.0"
        ],
        [
         "6",
         "FL",
         "71711.0"
        ],
        [
         "7",
         "GA",
         "74664.0"
        ],
        [
         "8",
         "IA",
         "73147.0"
        ],
        [
         "9",
         "ID",
         "74636.0"
        ]
       ],
       "shape": {
        "columns": 2,
        "rows": 10
       }
      },
      "text/html": [
       "<div>\n",
       "<style scoped>\n",
       "    .dataframe tbody tr th:only-of-type {\n",
       "        vertical-align: middle;\n",
       "    }\n",
       "\n",
       "    .dataframe tbody tr th {\n",
       "        vertical-align: top;\n",
       "    }\n",
       "\n",
       "    .dataframe thead th {\n",
       "        text-align: right;\n",
       "    }\n",
       "</style>\n",
       "<table border=\"1\" class=\"dataframe\">\n",
       "  <thead>\n",
       "    <tr style=\"text-align: right;\">\n",
       "      <th></th>\n",
       "      <th>state_abbrev</th>\n",
       "      <th>household_income_median</th>\n",
       "    </tr>\n",
       "  </thead>\n",
       "  <tbody>\n",
       "    <tr>\n",
       "      <th>0</th>\n",
       "      <td>AL</td>\n",
       "      <td>62027.0</td>\n",
       "    </tr>\n",
       "    <tr>\n",
       "      <th>1</th>\n",
       "      <td>AR</td>\n",
       "      <td>58773.0</td>\n",
       "    </tr>\n",
       "    <tr>\n",
       "      <th>2</th>\n",
       "      <td>AZ</td>\n",
       "      <td>76872.0</td>\n",
       "    </tr>\n",
       "    <tr>\n",
       "      <th>3</th>\n",
       "      <td>CA</td>\n",
       "      <td>96334.0</td>\n",
       "    </tr>\n",
       "    <tr>\n",
       "      <th>4</th>\n",
       "      <td>CO</td>\n",
       "      <td>92470.0</td>\n",
       "    </tr>\n",
       "    <tr>\n",
       "      <th>5</th>\n",
       "      <td>CT</td>\n",
       "      <td>93760.0</td>\n",
       "    </tr>\n",
       "    <tr>\n",
       "      <th>6</th>\n",
       "      <td>FL</td>\n",
       "      <td>71711.0</td>\n",
       "    </tr>\n",
       "    <tr>\n",
       "      <th>7</th>\n",
       "      <td>GA</td>\n",
       "      <td>74664.0</td>\n",
       "    </tr>\n",
       "    <tr>\n",
       "      <th>8</th>\n",
       "      <td>IA</td>\n",
       "      <td>73147.0</td>\n",
       "    </tr>\n",
       "    <tr>\n",
       "      <th>9</th>\n",
       "      <td>ID</td>\n",
       "      <td>74636.0</td>\n",
       "    </tr>\n",
       "  </tbody>\n",
       "</table>\n",
       "</div>"
      ],
      "text/plain": [
       "  state_abbrev  household_income_median\n",
       "0           AL                  62027.0\n",
       "1           AR                  58773.0\n",
       "2           AZ                  76872.0\n",
       "3           CA                  96334.0\n",
       "4           CO                  92470.0\n",
       "5           CT                  93760.0\n",
       "6           FL                  71711.0\n",
       "7           GA                  74664.0\n",
       "8           IA                  73147.0\n",
       "9           ID                  74636.0"
      ]
     },
     "execution_count": 6,
     "metadata": {},
     "output_type": "execute_result"
    }
   ],
   "source": [
    "pd.DataFrame.head(state_income_collapsed, n=10)"
   ]
  },
  {
   "cell_type": "code",
   "execution_count": 7,
   "id": "536525e3",
   "metadata": {},
   "outputs": [],
   "source": [
    "site_filepath='/Users/melodyqian/Documents/GitHub/FindMyNuclearWaste/CSVs/DemographicEconomicInfo.csv'\n",
    "sitedf=pd.read_csv(site_filepath)"
   ]
  },
  {
   "cell_type": "code",
   "execution_count": 8,
   "id": "e442e3f3",
   "metadata": {},
   "outputs": [],
   "source": [
    "site_income_collapsed = sitedf.groupby('state_abbrev')['household_income_median'].mean()\n",
    "site_income_collapsed= site_income_collapsed.reset_index()"
   ]
  },
  {
   "cell_type": "code",
   "execution_count": 9,
   "id": "7fdc0361",
   "metadata": {},
   "outputs": [],
   "source": [
    "import plotly.graph_objects as go\n",
    "\n",
    "# Merge the two dataframes on state_abbrev\n",
    "comparison_df = pd.merge(\n",
    "    state_income_collapsed[['state_abbrev', 'household_income_median']], \n",
    "    site_income_collapsed[['state_abbrev', 'household_income_median']], \n",
    "    on='state_abbrev', \n",
    "    suffixes=('_state', '_site')\n",
    ")\n",
    "\n",
    "# Sort by one of the values (optional)\n",
    "comparison_df = comparison_df.sort_values('household_income_median_state')\n",
    "\n"
   ]
  },
  {
   "cell_type": "code",
   "execution_count": 10,
   "id": "49e1b51f",
   "metadata": {},
   "outputs": [
    {
     "data": {
      "application/vnd.microsoft.datawrangler.viewer.v0+json": {
       "columns": [
        {
         "name": "index",
         "rawType": "int64",
         "type": "integer"
        },
        {
         "name": "state_abbrev",
         "rawType": "object",
         "type": "string"
        },
        {
         "name": "household_income_median_state",
         "rawType": "float64",
         "type": "float"
        },
        {
         "name": "household_income_median_site",
         "rawType": "float64",
         "type": "float"
        }
       ],
       "ref": "8d16ada8-97af-43bb-bb37-9992fe824c73",
       "rows": [
        [
         "19",
         "MS",
         "54915.0",
         "15104.0"
        ],
        [
         "1",
         "AR",
         "58773.0",
         "67063.0"
        ],
        [
         "12",
         "LA",
         "60023.0",
         "159357.5"
        ],
        [
         "0",
         "AL",
         "62027.0",
         "71468.0"
        ],
        [
         "24",
         "NM",
         "62125.0",
         "27564.0"
        ],
        [
         "29",
         "SC",
         "66818.0",
         "82501.0"
        ],
        [
         "30",
         "TN",
         "67097.0",
         "67656.0"
        ],
        [
         "18",
         "MO",
         "68920.0",
         "61382.0"
        ],
        [
         "26",
         "OH",
         "69680.0",
         "85376.5"
        ],
        [
         "20",
         "NC",
         "69904.0",
         "132112.33333333334"
        ]
       ],
       "shape": {
        "columns": 3,
        "rows": 10
       }
      },
      "text/html": [
       "<div>\n",
       "<style scoped>\n",
       "    .dataframe tbody tr th:only-of-type {\n",
       "        vertical-align: middle;\n",
       "    }\n",
       "\n",
       "    .dataframe tbody tr th {\n",
       "        vertical-align: top;\n",
       "    }\n",
       "\n",
       "    .dataframe thead th {\n",
       "        text-align: right;\n",
       "    }\n",
       "</style>\n",
       "<table border=\"1\" class=\"dataframe\">\n",
       "  <thead>\n",
       "    <tr style=\"text-align: right;\">\n",
       "      <th></th>\n",
       "      <th>state_abbrev</th>\n",
       "      <th>household_income_median_state</th>\n",
       "      <th>household_income_median_site</th>\n",
       "    </tr>\n",
       "  </thead>\n",
       "  <tbody>\n",
       "    <tr>\n",
       "      <th>19</th>\n",
       "      <td>MS</td>\n",
       "      <td>54915.0</td>\n",
       "      <td>15104.000000</td>\n",
       "    </tr>\n",
       "    <tr>\n",
       "      <th>1</th>\n",
       "      <td>AR</td>\n",
       "      <td>58773.0</td>\n",
       "      <td>67063.000000</td>\n",
       "    </tr>\n",
       "    <tr>\n",
       "      <th>12</th>\n",
       "      <td>LA</td>\n",
       "      <td>60023.0</td>\n",
       "      <td>159357.500000</td>\n",
       "    </tr>\n",
       "    <tr>\n",
       "      <th>0</th>\n",
       "      <td>AL</td>\n",
       "      <td>62027.0</td>\n",
       "      <td>71468.000000</td>\n",
       "    </tr>\n",
       "    <tr>\n",
       "      <th>24</th>\n",
       "      <td>NM</td>\n",
       "      <td>62125.0</td>\n",
       "      <td>27564.000000</td>\n",
       "    </tr>\n",
       "    <tr>\n",
       "      <th>29</th>\n",
       "      <td>SC</td>\n",
       "      <td>66818.0</td>\n",
       "      <td>82501.000000</td>\n",
       "    </tr>\n",
       "    <tr>\n",
       "      <th>30</th>\n",
       "      <td>TN</td>\n",
       "      <td>67097.0</td>\n",
       "      <td>67656.000000</td>\n",
       "    </tr>\n",
       "    <tr>\n",
       "      <th>18</th>\n",
       "      <td>MO</td>\n",
       "      <td>68920.0</td>\n",
       "      <td>61382.000000</td>\n",
       "    </tr>\n",
       "    <tr>\n",
       "      <th>26</th>\n",
       "      <td>OH</td>\n",
       "      <td>69680.0</td>\n",
       "      <td>85376.500000</td>\n",
       "    </tr>\n",
       "    <tr>\n",
       "      <th>20</th>\n",
       "      <td>NC</td>\n",
       "      <td>69904.0</td>\n",
       "      <td>132112.333333</td>\n",
       "    </tr>\n",
       "  </tbody>\n",
       "</table>\n",
       "</div>"
      ],
      "text/plain": [
       "   state_abbrev  household_income_median_state  household_income_median_site\n",
       "19           MS                        54915.0                  15104.000000\n",
       "1            AR                        58773.0                  67063.000000\n",
       "12           LA                        60023.0                 159357.500000\n",
       "0            AL                        62027.0                  71468.000000\n",
       "24           NM                        62125.0                  27564.000000\n",
       "29           SC                        66818.0                  82501.000000\n",
       "30           TN                        67097.0                  67656.000000\n",
       "18           MO                        68920.0                  61382.000000\n",
       "26           OH                        69680.0                  85376.500000\n",
       "20           NC                        69904.0                 132112.333333"
      ]
     },
     "execution_count": 10,
     "metadata": {},
     "output_type": "execute_result"
    }
   ],
   "source": [
    "pd.DataFrame.head(comparison_df, n=10)\n"
   ]
  },
  {
   "cell_type": "code",
   "execution_count": 11,
   "id": "bad16772",
   "metadata": {},
   "outputs": [
    {
     "data": {
      "application/vnd.plotly.v1+json": {
       "config": {
        "plotlyServerURL": "https://plot.ly"
       },
       "data": [
        {
         "hoverinfo": "skip",
         "line": {
          "color": "lightgray",
          "width": 2
         },
         "mode": "lines",
         "showlegend": false,
         "type": "scatter",
         "x": [
          54915,
          15104
         ],
         "y": [
          "MS",
          "MS"
         ]
        },
        {
         "hoverinfo": "skip",
         "line": {
          "color": "lightgray",
          "width": 2
         },
         "mode": "lines",
         "showlegend": false,
         "type": "scatter",
         "x": [
          58773,
          67063
         ],
         "y": [
          "AR",
          "AR"
         ]
        },
        {
         "hoverinfo": "skip",
         "line": {
          "color": "lightgray",
          "width": 2
         },
         "mode": "lines",
         "showlegend": false,
         "type": "scatter",
         "x": [
          60023,
          159357.5
         ],
         "y": [
          "LA",
          "LA"
         ]
        },
        {
         "hoverinfo": "skip",
         "line": {
          "color": "lightgray",
          "width": 2
         },
         "mode": "lines",
         "showlegend": false,
         "type": "scatter",
         "x": [
          62027,
          71468
         ],
         "y": [
          "AL",
          "AL"
         ]
        },
        {
         "hoverinfo": "skip",
         "line": {
          "color": "lightgray",
          "width": 2
         },
         "mode": "lines",
         "showlegend": false,
         "type": "scatter",
         "x": [
          62125,
          27564
         ],
         "y": [
          "NM",
          "NM"
         ]
        },
        {
         "hoverinfo": "skip",
         "line": {
          "color": "lightgray",
          "width": 2
         },
         "mode": "lines",
         "showlegend": false,
         "type": "scatter",
         "x": [
          66818,
          82501
         ],
         "y": [
          "SC",
          "SC"
         ]
        },
        {
         "hoverinfo": "skip",
         "line": {
          "color": "lightgray",
          "width": 2
         },
         "mode": "lines",
         "showlegend": false,
         "type": "scatter",
         "x": [
          67097,
          67656
         ],
         "y": [
          "TN",
          "TN"
         ]
        },
        {
         "hoverinfo": "skip",
         "line": {
          "color": "lightgray",
          "width": 2
         },
         "mode": "lines",
         "showlegend": false,
         "type": "scatter",
         "x": [
          68920,
          61382
         ],
         "y": [
          "MO",
          "MO"
         ]
        },
        {
         "hoverinfo": "skip",
         "line": {
          "color": "lightgray",
          "width": 2
         },
         "mode": "lines",
         "showlegend": false,
         "type": "scatter",
         "x": [
          69680,
          85376.5
         ],
         "y": [
          "OH",
          "OH"
         ]
        },
        {
         "hoverinfo": "skip",
         "line": {
          "color": "lightgray",
          "width": 2
         },
         "mode": "lines",
         "showlegend": false,
         "type": "scatter",
         "x": [
          69904,
          132112.33333333334
         ],
         "y": [
          "NC",
          "NC"
         ]
        },
        {
         "hoverinfo": "skip",
         "line": {
          "color": "lightgray",
          "width": 2
         },
         "mode": "lines",
         "showlegend": false,
         "type": "scatter",
         "x": [
          71149,
          68653.25
         ],
         "y": [
          "MI",
          "MI"
         ]
        },
        {
         "hoverinfo": "skip",
         "line": {
          "color": "lightgray",
          "width": 2
         },
         "mode": "lines",
         "showlegend": false,
         "type": "scatter",
         "x": [
          71711,
          71259.33333333333
         ],
         "y": [
          "FL",
          "FL"
         ]
        },
        {
         "hoverinfo": "skip",
         "line": {
          "color": "lightgray",
          "width": 2
         },
         "mode": "lines",
         "showlegend": false,
         "type": "scatter",
         "x": [
          71773,
          39221
         ],
         "y": [
          "ME",
          "ME"
         ]
        },
        {
         "hoverinfo": "skip",
         "line": {
          "color": "lightgray",
          "width": 2
         },
         "mode": "lines",
         "showlegend": false,
         "type": "scatter",
         "x": [
          72639,
          47568
         ],
         "y": [
          "KS",
          "KS"
         ]
        },
        {
         "hoverinfo": "skip",
         "line": {
          "color": "lightgray",
          "width": 2
         },
         "mode": "lines",
         "showlegend": false,
         "type": "scatter",
         "x": [
          73147,
          86023
         ],
         "y": [
          "IA",
          "IA"
         ]
        },
        {
         "hoverinfo": "skip",
         "line": {
          "color": "lightgray",
          "width": 2
         },
         "mode": "lines",
         "showlegend": false,
         "type": "scatter",
         "x": [
          74636,
          64741
         ],
         "y": [
          "ID",
          "ID"
         ]
        },
        {
         "hoverinfo": "skip",
         "line": {
          "color": "lightgray",
          "width": 2
         },
         "mode": "lines",
         "showlegend": false,
         "type": "scatter",
         "x": [
          74664,
          59997
         ],
         "y": [
          "GA",
          "GA"
         ]
        },
        {
         "hoverinfo": "skip",
         "line": {
          "color": "lightgray",
          "width": 2
         },
         "mode": "lines",
         "showlegend": false,
         "type": "scatter",
         "x": [
          74985,
          83215.5
         ],
         "y": [
          "NE",
          "NE"
         ]
        },
        {
         "hoverinfo": "skip",
         "line": {
          "color": "lightgray",
          "width": 2
         },
         "mode": "lines",
         "showlegend": false,
         "type": "scatter",
         "x": [
          75670,
          73500
         ],
         "y": [
          "WI",
          "WI"
         ]
        },
        {
         "hoverinfo": "skip",
         "line": {
          "color": "lightgray",
          "width": 2
         },
         "mode": "lines",
         "showlegend": false,
         "type": "scatter",
         "x": [
          76081,
          85913.6
         ],
         "y": [
          "PA",
          "PA"
         ]
        },
        {
         "hoverinfo": "skip",
         "line": {
          "color": "lightgray",
          "width": 2
         },
         "mode": "lines",
         "showlegend": false,
         "type": "scatter",
         "x": [
          76292,
          53049.5
         ],
         "y": [
          "TX",
          "TX"
         ]
        },
        {
         "hoverinfo": "skip",
         "line": {
          "color": "lightgray",
          "width": 2
         },
         "mode": "lines",
         "showlegend": false,
         "type": "scatter",
         "x": [
          76872,
          68843
         ],
         "y": [
          "AZ",
          "AZ"
         ]
        },
        {
         "hoverinfo": "skip",
         "line": {
          "color": "lightgray",
          "width": 2
         },
         "mode": "lines",
         "showlegend": false,
         "type": "scatter",
         "x": [
          78024,
          79601
         ],
         "y": [
          "VT",
          "VT"
         ]
        },
        {
         "hoverinfo": "skip",
         "line": {
          "color": "lightgray",
          "width": 2
         },
         "mode": "lines",
         "showlegend": false,
         "type": "scatter",
         "x": [
          80426,
          77321
         ],
         "y": [
          "OR",
          "OR"
         ]
        },
        {
         "hoverinfo": "skip",
         "line": {
          "color": "lightgray",
          "width": 2
         },
         "mode": "lines",
         "showlegend": false,
         "type": "scatter",
         "x": [
          81702,
          93127.66666666667
         ],
         "y": [
          "IL",
          "IL"
         ]
        },
        {
         "hoverinfo": "skip",
         "line": {
          "color": "lightgray",
          "width": 2
         },
         "mode": "lines",
         "showlegend": false,
         "type": "scatter",
         "x": [
          84578,
          89198.5
         ],
         "y": [
          "NY",
          "NY"
         ]
        },
        {
         "hoverinfo": "skip",
         "line": {
          "color": "lightgray",
          "width": 2
         },
         "mode": "lines",
         "showlegend": false,
         "type": "scatter",
         "x": [
          87556,
          67887.5
         ],
         "y": [
          "MN",
          "MN"
         ]
        },
        {
         "hoverinfo": "skip",
         "line": {
          "color": "lightgray",
          "width": 2
         },
         "mode": "lines",
         "showlegend": false,
         "type": "scatter",
         "x": [
          90974,
          67400.33333333333
         ],
         "y": [
          "VA",
          "VA"
         ]
        },
        {
         "hoverinfo": "skip",
         "line": {
          "color": "lightgray",
          "width": 2
         },
         "mode": "lines",
         "showlegend": false,
         "type": "scatter",
         "x": [
          92470,
          112893
         ],
         "y": [
          "CO",
          "CO"
         ]
        },
        {
         "hoverinfo": "skip",
         "line": {
          "color": "lightgray",
          "width": 2
         },
         "mode": "lines",
         "showlegend": false,
         "type": "scatter",
         "x": [
          93760,
          104974
         ],
         "y": [
          "CT",
          "CT"
         ]
        },
        {
         "hoverinfo": "skip",
         "line": {
          "color": "lightgray",
          "width": 2
         },
         "mode": "lines",
         "showlegend": false,
         "type": "scatter",
         "x": [
          94952,
          0
         ],
         "y": [
          "WA",
          "WA"
         ]
        },
        {
         "hoverinfo": "skip",
         "line": {
          "color": "lightgray",
          "width": 2
         },
         "mode": "lines",
         "showlegend": false,
         "type": "scatter",
         "x": [
          95628,
          56995
         ],
         "y": [
          "NH",
          "NH"
         ]
        },
        {
         "hoverinfo": "skip",
         "line": {
          "color": "lightgray",
          "width": 2
         },
         "mode": "lines",
         "showlegend": false,
         "type": "scatter",
         "x": [
          96334,
          181955.75
         ],
         "y": [
          "CA",
          "CA"
         ]
        },
        {
         "hoverinfo": "skip",
         "line": {
          "color": "lightgray",
          "width": 2
         },
         "mode": "lines",
         "showlegend": false,
         "type": "scatter",
         "x": [
          101050,
          88615
         ],
         "y": [
          "NJ",
          "NJ"
         ]
        },
        {
         "hoverinfo": "skip",
         "line": {
          "color": "lightgray",
          "width": 2
         },
         "mode": "lines",
         "showlegend": false,
         "type": "scatter",
         "x": [
          101341,
          82912.5
         ],
         "y": [
          "MA",
          "MA"
         ]
        },
        {
         "hoverinfo": "skip",
         "line": {
          "color": "lightgray",
          "width": 2
         },
         "mode": "lines",
         "showlegend": false,
         "type": "scatter",
         "x": [
          101652,
          132768
         ],
         "y": [
          "MD",
          "MD"
         ]
        },
        {
         "hovertemplate": "<b>%{y}</b><br>State: $%{x:,.0f}<extra></extra>",
         "marker": {
          "color": "blue",
          "size": 10
         },
         "mode": "markers",
         "name": "State Level",
         "type": "scatter",
         "x": {
          "bdata": "AAAAAGDQ6kAAAAAAoLLsQAAAAADgTu1AAAAAAGBJ7kAAAAAAoFXuQAAAAAAgUPBAAAAAAJBh8EAAAAAAgNPwQAAAAAAAA/FAAAAAAAAR8UAAAAAA0F7xQAAAAADwgfFAAAAAANCF8UAAAAAA8LvxQAAAAACw2/FAAAAAAMA48kAAAAAAgDryQAAAAACQTvJAAAAAAGB58kAAAAAAEJPyQAAAAABAoPJAAAAAAIDE8kAAAAAAgAzzQAAAAACgovNAAAAAAGDy80AAAAAAIKb0QAAAAABAYPVAAAAAAOA19kAAAAAAYJP2QAAAAAAA5PZAAAAAAIAu90AAAAAAwFj3QAAAAADghPdAAAAAAKCr+EAAAAAA0L34QAAAAABA0fhA",
          "dtype": "f8"
         },
         "y": [
          "MS",
          "AR",
          "LA",
          "AL",
          "NM",
          "SC",
          "TN",
          "MO",
          "OH",
          "NC",
          "MI",
          "FL",
          "ME",
          "KS",
          "IA",
          "ID",
          "GA",
          "NE",
          "WI",
          "PA",
          "TX",
          "AZ",
          "VT",
          "OR",
          "IL",
          "NY",
          "MN",
          "VA",
          "CO",
          "CT",
          "WA",
          "NH",
          "CA",
          "NJ",
          "MA",
          "MD"
         ]
        },
        {
         "hovertemplate": "<b>%{y}</b><br>Site: $%{x:,.0f}<extra></extra>",
         "marker": {
          "color": "red",
          "size": 10
         },
         "mode": "markers",
         "name": "Site Level",
         "type": "scatter",
         "x": {
          "bdata": "AAAAAACAzUAAAAAAcF/wQAAAAADscwNBAAAAAMBy8UAAAAAAAOvaQAAAAABQJPRAAAAAAICE8EAAAAAAwPjtQAAAAAAI2PRAq6qqqoIgAEEAAAAA1MLwQFVVVVW1ZfFAAAAAAKAm40AAAAAAADrnQAAAAABwAPVAAAAAAKCc70AAAAAAoEvtQAAAAAD4UPRAAAAAAMDx8UCamZmZmfn0QAAAAAAw5+lAAAAAALDO8EAAAAAAEG/zQAAAAACQ4PJAq6qqqnq89kAAAAAA6Mb1QAAAAAD4kvBAVVVVVYV08EAAAAAA0I/7QAAAAADgoPlAAAAAAAAAAAAAAAAAYNTrQAAAAAAeNgZBAAAAAHCi9UAAAAAACD70QAAAAAAANQBB",
          "dtype": "f8"
         },
         "y": [
          "MS",
          "AR",
          "LA",
          "AL",
          "NM",
          "SC",
          "TN",
          "MO",
          "OH",
          "NC",
          "MI",
          "FL",
          "ME",
          "KS",
          "IA",
          "ID",
          "GA",
          "NE",
          "WI",
          "PA",
          "TX",
          "AZ",
          "VT",
          "OR",
          "IL",
          "NY",
          "MN",
          "VA",
          "CO",
          "CT",
          "WA",
          "NH",
          "CA",
          "NJ",
          "MA",
          "MD"
         ]
        }
       ],
       "layout": {
        "height": 600,
        "hovermode": "closest",
        "showlegend": true,
        "template": {
         "data": {
          "bar": [
           {
            "error_x": {
             "color": "#2a3f5f"
            },
            "error_y": {
             "color": "#2a3f5f"
            },
            "marker": {
             "line": {
              "color": "#E5ECF6",
              "width": 0.5
             },
             "pattern": {
              "fillmode": "overlay",
              "size": 10,
              "solidity": 0.2
             }
            },
            "type": "bar"
           }
          ],
          "barpolar": [
           {
            "marker": {
             "line": {
              "color": "#E5ECF6",
              "width": 0.5
             },
             "pattern": {
              "fillmode": "overlay",
              "size": 10,
              "solidity": 0.2
             }
            },
            "type": "barpolar"
           }
          ],
          "carpet": [
           {
            "aaxis": {
             "endlinecolor": "#2a3f5f",
             "gridcolor": "white",
             "linecolor": "white",
             "minorgridcolor": "white",
             "startlinecolor": "#2a3f5f"
            },
            "baxis": {
             "endlinecolor": "#2a3f5f",
             "gridcolor": "white",
             "linecolor": "white",
             "minorgridcolor": "white",
             "startlinecolor": "#2a3f5f"
            },
            "type": "carpet"
           }
          ],
          "choropleth": [
           {
            "colorbar": {
             "outlinewidth": 0,
             "ticks": ""
            },
            "type": "choropleth"
           }
          ],
          "contour": [
           {
            "colorbar": {
             "outlinewidth": 0,
             "ticks": ""
            },
            "colorscale": [
             [
              0,
              "#0d0887"
             ],
             [
              0.1111111111111111,
              "#46039f"
             ],
             [
              0.2222222222222222,
              "#7201a8"
             ],
             [
              0.3333333333333333,
              "#9c179e"
             ],
             [
              0.4444444444444444,
              "#bd3786"
             ],
             [
              0.5555555555555556,
              "#d8576b"
             ],
             [
              0.6666666666666666,
              "#ed7953"
             ],
             [
              0.7777777777777778,
              "#fb9f3a"
             ],
             [
              0.8888888888888888,
              "#fdca26"
             ],
             [
              1,
              "#f0f921"
             ]
            ],
            "type": "contour"
           }
          ],
          "contourcarpet": [
           {
            "colorbar": {
             "outlinewidth": 0,
             "ticks": ""
            },
            "type": "contourcarpet"
           }
          ],
          "heatmap": [
           {
            "colorbar": {
             "outlinewidth": 0,
             "ticks": ""
            },
            "colorscale": [
             [
              0,
              "#0d0887"
             ],
             [
              0.1111111111111111,
              "#46039f"
             ],
             [
              0.2222222222222222,
              "#7201a8"
             ],
             [
              0.3333333333333333,
              "#9c179e"
             ],
             [
              0.4444444444444444,
              "#bd3786"
             ],
             [
              0.5555555555555556,
              "#d8576b"
             ],
             [
              0.6666666666666666,
              "#ed7953"
             ],
             [
              0.7777777777777778,
              "#fb9f3a"
             ],
             [
              0.8888888888888888,
              "#fdca26"
             ],
             [
              1,
              "#f0f921"
             ]
            ],
            "type": "heatmap"
           }
          ],
          "histogram": [
           {
            "marker": {
             "pattern": {
              "fillmode": "overlay",
              "size": 10,
              "solidity": 0.2
             }
            },
            "type": "histogram"
           }
          ],
          "histogram2d": [
           {
            "colorbar": {
             "outlinewidth": 0,
             "ticks": ""
            },
            "colorscale": [
             [
              0,
              "#0d0887"
             ],
             [
              0.1111111111111111,
              "#46039f"
             ],
             [
              0.2222222222222222,
              "#7201a8"
             ],
             [
              0.3333333333333333,
              "#9c179e"
             ],
             [
              0.4444444444444444,
              "#bd3786"
             ],
             [
              0.5555555555555556,
              "#d8576b"
             ],
             [
              0.6666666666666666,
              "#ed7953"
             ],
             [
              0.7777777777777778,
              "#fb9f3a"
             ],
             [
              0.8888888888888888,
              "#fdca26"
             ],
             [
              1,
              "#f0f921"
             ]
            ],
            "type": "histogram2d"
           }
          ],
          "histogram2dcontour": [
           {
            "colorbar": {
             "outlinewidth": 0,
             "ticks": ""
            },
            "colorscale": [
             [
              0,
              "#0d0887"
             ],
             [
              0.1111111111111111,
              "#46039f"
             ],
             [
              0.2222222222222222,
              "#7201a8"
             ],
             [
              0.3333333333333333,
              "#9c179e"
             ],
             [
              0.4444444444444444,
              "#bd3786"
             ],
             [
              0.5555555555555556,
              "#d8576b"
             ],
             [
              0.6666666666666666,
              "#ed7953"
             ],
             [
              0.7777777777777778,
              "#fb9f3a"
             ],
             [
              0.8888888888888888,
              "#fdca26"
             ],
             [
              1,
              "#f0f921"
             ]
            ],
            "type": "histogram2dcontour"
           }
          ],
          "mesh3d": [
           {
            "colorbar": {
             "outlinewidth": 0,
             "ticks": ""
            },
            "type": "mesh3d"
           }
          ],
          "parcoords": [
           {
            "line": {
             "colorbar": {
              "outlinewidth": 0,
              "ticks": ""
             }
            },
            "type": "parcoords"
           }
          ],
          "pie": [
           {
            "automargin": true,
            "type": "pie"
           }
          ],
          "scatter": [
           {
            "fillpattern": {
             "fillmode": "overlay",
             "size": 10,
             "solidity": 0.2
            },
            "type": "scatter"
           }
          ],
          "scatter3d": [
           {
            "line": {
             "colorbar": {
              "outlinewidth": 0,
              "ticks": ""
             }
            },
            "marker": {
             "colorbar": {
              "outlinewidth": 0,
              "ticks": ""
             }
            },
            "type": "scatter3d"
           }
          ],
          "scattercarpet": [
           {
            "marker": {
             "colorbar": {
              "outlinewidth": 0,
              "ticks": ""
             }
            },
            "type": "scattercarpet"
           }
          ],
          "scattergeo": [
           {
            "marker": {
             "colorbar": {
              "outlinewidth": 0,
              "ticks": ""
             }
            },
            "type": "scattergeo"
           }
          ],
          "scattergl": [
           {
            "marker": {
             "colorbar": {
              "outlinewidth": 0,
              "ticks": ""
             }
            },
            "type": "scattergl"
           }
          ],
          "scattermap": [
           {
            "marker": {
             "colorbar": {
              "outlinewidth": 0,
              "ticks": ""
             }
            },
            "type": "scattermap"
           }
          ],
          "scattermapbox": [
           {
            "marker": {
             "colorbar": {
              "outlinewidth": 0,
              "ticks": ""
             }
            },
            "type": "scattermapbox"
           }
          ],
          "scatterpolar": [
           {
            "marker": {
             "colorbar": {
              "outlinewidth": 0,
              "ticks": ""
             }
            },
            "type": "scatterpolar"
           }
          ],
          "scatterpolargl": [
           {
            "marker": {
             "colorbar": {
              "outlinewidth": 0,
              "ticks": ""
             }
            },
            "type": "scatterpolargl"
           }
          ],
          "scatterternary": [
           {
            "marker": {
             "colorbar": {
              "outlinewidth": 0,
              "ticks": ""
             }
            },
            "type": "scatterternary"
           }
          ],
          "surface": [
           {
            "colorbar": {
             "outlinewidth": 0,
             "ticks": ""
            },
            "colorscale": [
             [
              0,
              "#0d0887"
             ],
             [
              0.1111111111111111,
              "#46039f"
             ],
             [
              0.2222222222222222,
              "#7201a8"
             ],
             [
              0.3333333333333333,
              "#9c179e"
             ],
             [
              0.4444444444444444,
              "#bd3786"
             ],
             [
              0.5555555555555556,
              "#d8576b"
             ],
             [
              0.6666666666666666,
              "#ed7953"
             ],
             [
              0.7777777777777778,
              "#fb9f3a"
             ],
             [
              0.8888888888888888,
              "#fdca26"
             ],
             [
              1,
              "#f0f921"
             ]
            ],
            "type": "surface"
           }
          ],
          "table": [
           {
            "cells": {
             "fill": {
              "color": "#EBF0F8"
             },
             "line": {
              "color": "white"
             }
            },
            "header": {
             "fill": {
              "color": "#C8D4E3"
             },
             "line": {
              "color": "white"
             }
            },
            "type": "table"
           }
          ]
         },
         "layout": {
          "annotationdefaults": {
           "arrowcolor": "#2a3f5f",
           "arrowhead": 0,
           "arrowwidth": 1
          },
          "autotypenumbers": "strict",
          "coloraxis": {
           "colorbar": {
            "outlinewidth": 0,
            "ticks": ""
           }
          },
          "colorscale": {
           "diverging": [
            [
             0,
             "#8e0152"
            ],
            [
             0.1,
             "#c51b7d"
            ],
            [
             0.2,
             "#de77ae"
            ],
            [
             0.3,
             "#f1b6da"
            ],
            [
             0.4,
             "#fde0ef"
            ],
            [
             0.5,
             "#f7f7f7"
            ],
            [
             0.6,
             "#e6f5d0"
            ],
            [
             0.7,
             "#b8e186"
            ],
            [
             0.8,
             "#7fbc41"
            ],
            [
             0.9,
             "#4d9221"
            ],
            [
             1,
             "#276419"
            ]
           ],
           "sequential": [
            [
             0,
             "#0d0887"
            ],
            [
             0.1111111111111111,
             "#46039f"
            ],
            [
             0.2222222222222222,
             "#7201a8"
            ],
            [
             0.3333333333333333,
             "#9c179e"
            ],
            [
             0.4444444444444444,
             "#bd3786"
            ],
            [
             0.5555555555555556,
             "#d8576b"
            ],
            [
             0.6666666666666666,
             "#ed7953"
            ],
            [
             0.7777777777777778,
             "#fb9f3a"
            ],
            [
             0.8888888888888888,
             "#fdca26"
            ],
            [
             1,
             "#f0f921"
            ]
           ],
           "sequentialminus": [
            [
             0,
             "#0d0887"
            ],
            [
             0.1111111111111111,
             "#46039f"
            ],
            [
             0.2222222222222222,
             "#7201a8"
            ],
            [
             0.3333333333333333,
             "#9c179e"
            ],
            [
             0.4444444444444444,
             "#bd3786"
            ],
            [
             0.5555555555555556,
             "#d8576b"
            ],
            [
             0.6666666666666666,
             "#ed7953"
            ],
            [
             0.7777777777777778,
             "#fb9f3a"
            ],
            [
             0.8888888888888888,
             "#fdca26"
            ],
            [
             1,
             "#f0f921"
            ]
           ]
          },
          "colorway": [
           "#636efa",
           "#EF553B",
           "#00cc96",
           "#ab63fa",
           "#FFA15A",
           "#19d3f3",
           "#FF6692",
           "#B6E880",
           "#FF97FF",
           "#FECB52"
          ],
          "font": {
           "color": "#2a3f5f"
          },
          "geo": {
           "bgcolor": "white",
           "lakecolor": "white",
           "landcolor": "#E5ECF6",
           "showlakes": true,
           "showland": true,
           "subunitcolor": "white"
          },
          "hoverlabel": {
           "align": "left"
          },
          "hovermode": "closest",
          "mapbox": {
           "style": "light"
          },
          "paper_bgcolor": "white",
          "plot_bgcolor": "#E5ECF6",
          "polar": {
           "angularaxis": {
            "gridcolor": "white",
            "linecolor": "white",
            "ticks": ""
           },
           "bgcolor": "#E5ECF6",
           "radialaxis": {
            "gridcolor": "white",
            "linecolor": "white",
            "ticks": ""
           }
          },
          "scene": {
           "xaxis": {
            "backgroundcolor": "#E5ECF6",
            "gridcolor": "white",
            "gridwidth": 2,
            "linecolor": "white",
            "showbackground": true,
            "ticks": "",
            "zerolinecolor": "white"
           },
           "yaxis": {
            "backgroundcolor": "#E5ECF6",
            "gridcolor": "white",
            "gridwidth": 2,
            "linecolor": "white",
            "showbackground": true,
            "ticks": "",
            "zerolinecolor": "white"
           },
           "zaxis": {
            "backgroundcolor": "#E5ECF6",
            "gridcolor": "white",
            "gridwidth": 2,
            "linecolor": "white",
            "showbackground": true,
            "ticks": "",
            "zerolinecolor": "white"
           }
          },
          "shapedefaults": {
           "line": {
            "color": "#2a3f5f"
           }
          },
          "ternary": {
           "aaxis": {
            "gridcolor": "white",
            "linecolor": "white",
            "ticks": ""
           },
           "baxis": {
            "gridcolor": "white",
            "linecolor": "white",
            "ticks": ""
           },
           "bgcolor": "#E5ECF6",
           "caxis": {
            "gridcolor": "white",
            "linecolor": "white",
            "ticks": ""
           }
          },
          "title": {
           "x": 0.05
          },
          "xaxis": {
           "automargin": true,
           "gridcolor": "white",
           "linecolor": "white",
           "ticks": "",
           "title": {
            "standoff": 15
           },
           "zerolinecolor": "white",
           "zerolinewidth": 2
          },
          "yaxis": {
           "automargin": true,
           "gridcolor": "white",
           "linecolor": "white",
           "ticks": "",
           "title": {
            "standoff": 15
           },
           "zerolinecolor": "white",
           "zerolinewidth": 2
          }
         }
        },
        "title": {
         "text": "Comparison of Median Household Income by State"
        },
        "xaxis": {
         "title": {
          "text": "Median Household Income ($)"
         }
        },
        "yaxis": {
         "title": {
          "text": "State"
         }
        }
       }
      }
     },
     "metadata": {},
     "output_type": "display_data"
    }
   ],
   "source": [
    "comparison_df = comparison_df.sort_values('household_income_median_state')\n",
    "# Create the lollipop plot\n",
    "site_fig = go.Figure()\n",
    "\n",
    "# Add lines connecting the two points\n",
    "for i in range(len(comparison_df)):\n",
    "    site_fig.add_trace(go.Scatter(\n",
    "        x=[comparison_df.iloc[i]['household_income_median_state'], \n",
    "           comparison_df.iloc[i]['household_income_median_site']],\n",
    "        y=[comparison_df.iloc[i]['state_abbrev'], comparison_df.iloc[i]['state_abbrev']],\n",
    "        mode='lines',\n",
    "        line=dict(color='lightgray', width=2),\n",
    "        showlegend=False,\n",
    "        hoverinfo='skip'\n",
    "    ))\n",
    "\n",
    "# Add points for statedf\n",
    "site_fig.add_trace(go.Scatter(\n",
    "    x=comparison_df['household_income_median_state'],\n",
    "    y=comparison_df['state_abbrev'],\n",
    "    mode='markers',\n",
    "    name='State Level',\n",
    "    marker=dict(size=10, color='blue'),\n",
    "    hovertemplate='<b>%{y}</b><br>State: $%{x:,.0f}<extra></extra>'\n",
    "))\n",
    "\n",
    "# Add points for sitedf\n",
    "site_fig.add_trace(go.Scatter(\n",
    "    x=comparison_df['household_income_median_site'],\n",
    "    y=comparison_df['state_abbrev'],\n",
    "    mode='markers',\n",
    "    name='Site Level',\n",
    "    marker=dict(size=10, color='red'),\n",
    "    hovertemplate='<b>%{y}</b><br>Site: $%{x:,.0f}<extra></extra>'\n",
    "))\n",
    "\n",
    "# Update layout\n",
    "site_fig.update_layout(\n",
    "    title='Comparison of Median Household Income by State',\n",
    "    xaxis_title='Median Household Income ($)',\n",
    "    yaxis_title='State',\n",
    "    height=600,\n",
    "    hovermode='closest',\n",
    "    showlegend=True\n",
    ")\n",
    "\n",
    "site_fig.show()"
   ]
  },
  {
   "cell_type": "code",
   "execution_count": 12,
   "id": "47bdc7ac",
   "metadata": {},
   "outputs": [],
   "source": [
    "site_fig.write_image(\"income_lollipop.png\")"
   ]
  },
  {
   "cell_type": "code",
   "execution_count": 19,
   "id": "94894df4",
   "metadata": {},
   "outputs": [],
   "source": [
    "state_house_collapsed = statedf.groupby('state_abbrev')['house_value_median'].mean()\n",
    "state_house_collapsed= state_house_collapsed.reset_index()\n",
    "site_house_collapsed = sitedf.groupby('state_abbrev')['house_value_median'].mean()\n",
    "site_house_collapsed= site_house_collapsed.reset_index()\n",
    "\n",
    "import plotly.graph_objects as go\n",
    "\n",
    "# Merge the two dataframes on state_abbrev\n",
    "comparehouse_df = pd.merge(\n",
    "    state_house_collapsed[['state_abbrev', 'house_value_median']], \n",
    "    site_house_collapsed[['state_abbrev', 'house_value_median']], \n",
    "    on='state_abbrev', \n",
    "    suffixes=('_state', '_site')\n",
    ")\n",
    "\n",
    "# Sort by one of the values (optional)\n",
    "comparehouse_df = comparehouse_df.sort_values('house_value_median_state')"
   ]
  },
  {
   "cell_type": "code",
   "execution_count": 20,
   "id": "3abef4cb",
   "metadata": {},
   "outputs": [
    {
     "data": {
      "application/vnd.plotly.v1+json": {
       "config": {
        "plotlyServerURL": "https://plot.ly"
       },
       "data": [
        {
         "hoverinfo": "skip",
         "line": {
          "color": "lightgray",
          "width": 2
         },
         "mode": "lines",
         "showlegend": false,
         "type": "scatter",
         "x": [
          161400,
          134100
         ],
         "y": [
          "MS",
          "MS"
         ]
        },
        {
         "hoverinfo": "skip",
         "line": {
          "color": "lightgray",
          "width": 2
         },
         "mode": "lines",
         "showlegend": false,
         "type": "scatter",
         "x": [
          175300,
          205500
         ],
         "y": [
          "AR",
          "AR"
         ]
        },
        {
         "hoverinfo": "skip",
         "line": {
          "color": "lightgray",
          "width": 2
         },
         "mode": "lines",
         "showlegend": false,
         "type": "scatter",
         "x": [
          195100,
          221650
         ],
         "y": [
          "AL",
          "AL"
         ]
        },
        {
         "hoverinfo": "skip",
         "line": {
          "color": "lightgray",
          "width": 2
         },
         "mode": "lines",
         "showlegend": false,
         "type": "scatter",
         "x": [
          195900,
          346800
         ],
         "y": [
          "IA",
          "IA"
         ]
        },
        {
         "hoverinfo": "skip",
         "line": {
          "color": "lightgray",
          "width": 2
         },
         "mode": "lines",
         "showlegend": false,
         "type": "scatter",
         "x": [
          199200,
          211150
         ],
         "y": [
          "OH",
          "OH"
         ]
        },
        {
         "hoverinfo": "skip",
         "line": {
          "color": "lightgray",
          "width": 2
         },
         "mode": "lines",
         "showlegend": false,
         "type": "scatter",
         "x": [
          203400,
          144000
         ],
         "y": [
          "KS",
          "KS"
         ]
        },
        {
         "hoverinfo": "skip",
         "line": {
          "color": "lightgray",
          "width": 2
         },
         "mode": "lines",
         "showlegend": false,
         "type": "scatter",
         "x": [
          208700,
          479950
         ],
         "y": [
          "LA",
          "LA"
         ]
        },
        {
         "hoverinfo": "skip",
         "line": {
          "color": "lightgray",
          "width": 2
         },
         "mode": "lines",
         "showlegend": false,
         "type": "scatter",
         "x": [
          215600,
          177400
         ],
         "y": [
          "MO",
          "MO"
         ]
        },
        {
         "hoverinfo": "skip",
         "line": {
          "color": "lightgray",
          "width": 2
         },
         "mode": "lines",
         "showlegend": false,
         "type": "scatter",
         "x": [
          217600,
          259325
         ],
         "y": [
          "MI",
          "MI"
         ]
        },
        {
         "hoverinfo": "skip",
         "line": {
          "color": "lightgray",
          "width": 2
         },
         "mode": "lines",
         "showlegend": false,
         "type": "scatter",
         "x": [
          223800,
          287400
         ],
         "y": [
          "NE",
          "NE"
         ]
        },
        {
         "hoverinfo": "skip",
         "line": {
          "color": "lightgray",
          "width": 2
         },
         "mode": "lines",
         "showlegend": false,
         "type": "scatter",
         "x": [
          232200,
          75400
         ],
         "y": [
          "NM",
          "NM"
         ]
        },
        {
         "hoverinfo": "skip",
         "line": {
          "color": "lightgray",
          "width": 2
         },
         "mode": "lines",
         "showlegend": false,
         "type": "scatter",
         "x": [
          236700,
          366260
         ],
         "y": [
          "SC",
          "SC"
         ]
        },
        {
         "hoverinfo": "skip",
         "line": {
          "color": "lightgray",
          "width": 2
         },
         "mode": "lines",
         "showlegend": false,
         "type": "scatter",
         "x": [
          240500,
          264340
         ],
         "y": [
          "PA",
          "PA"
         ]
        },
        {
         "hoverinfo": "skip",
         "line": {
          "color": "lightgray",
          "width": 2
         },
         "mode": "lines",
         "showlegend": false,
         "type": "scatter",
         "x": [
          247400,
          211500
         ],
         "y": [
          "WI",
          "WI"
         ]
        },
        {
         "hoverinfo": "skip",
         "line": {
          "color": "lightgray",
          "width": 2
         },
         "mode": "lines",
         "showlegend": false,
         "type": "scatter",
         "x": [
          250500,
          277388.8888888889
         ],
         "y": [
          "IL",
          "IL"
         ]
        },
        {
         "hoverinfo": "skip",
         "line": {
          "color": "lightgray",
          "width": 2
         },
         "mode": "lines",
         "showlegend": false,
         "type": "scatter",
         "x": [
          256800,
          237600
         ],
         "y": [
          "TN",
          "TN"
         ]
        },
        {
         "hoverinfo": "skip",
         "line": {
          "color": "lightgray",
          "width": 2
         },
         "mode": "lines",
         "showlegend": false,
         "type": "scatter",
         "x": [
          259400,
          603500
         ],
         "y": [
          "NC",
          "NC"
         ]
        },
        {
         "hoverinfo": "skip",
         "line": {
          "color": "lightgray",
          "width": 2
         },
         "mode": "lines",
         "showlegend": false,
         "type": "scatter",
         "x": [
          260400,
          273200
         ],
         "y": [
          "TX",
          "TX"
         ]
        },
        {
         "hoverinfo": "skip",
         "line": {
          "color": "lightgray",
          "width": 2
         },
         "mode": "lines",
         "showlegend": false,
         "type": "scatter",
         "x": [
          266400,
          540600
         ],
         "y": [
          "ME",
          "ME"
         ]
        },
        {
         "hoverinfo": "skip",
         "line": {
          "color": "lightgray",
          "width": 2
         },
         "mode": "lines",
         "showlegend": false,
         "type": "scatter",
         "x": [
          272900,
          87750
         ],
         "y": [
          "GA",
          "GA"
         ]
        },
        {
         "hoverinfo": "skip",
         "line": {
          "color": "lightgray",
          "width": 2
         },
         "mode": "lines",
         "showlegend": false,
         "type": "scatter",
         "x": [
          290500,
          260900
         ],
         "y": [
          "VT",
          "VT"
         ]
        },
        {
         "hoverinfo": "skip",
         "line": {
          "color": "lightgray",
          "width": 2
         },
         "mode": "lines",
         "showlegend": false,
         "type": "scatter",
         "x": [
          305500,
          263850
         ],
         "y": [
          "MN",
          "MN"
         ]
        },
        {
         "hoverinfo": "skip",
         "line": {
          "color": "lightgray",
          "width": 2
         },
         "mode": "lines",
         "showlegend": false,
         "type": "scatter",
         "x": [
          325000,
          321400
         ],
         "y": [
          "FL",
          "FL"
         ]
        },
        {
         "hoverinfo": "skip",
         "line": {
          "color": "lightgray",
          "width": 2
         },
         "mode": "lines",
         "showlegend": false,
         "type": "scatter",
         "x": [
          343200,
          337750
         ],
         "y": [
          "CT",
          "CT"
         ]
        },
        {
         "hoverinfo": "skip",
         "line": {
          "color": "lightgray",
          "width": 2
         },
         "mode": "lines",
         "showlegend": false,
         "type": "scatter",
         "x": [
          358900,
          260000
         ],
         "y": [
          "AZ",
          "AZ"
         ]
        },
        {
         "hoverinfo": "skip",
         "line": {
          "color": "lightgray",
          "width": 2
         },
         "mode": "lines",
         "showlegend": false,
         "type": "scatter",
         "x": [
          360700,
          336200
         ],
         "y": [
          "VA",
          "VA"
         ]
        },
        {
         "hoverinfo": "skip",
         "line": {
          "color": "lightgray",
          "width": 2
         },
         "mode": "lines",
         "showlegend": false,
         "type": "scatter",
         "x": [
          367200,
          360000
         ],
         "y": [
          "NH",
          "NH"
         ]
        },
        {
         "hoverinfo": "skip",
         "line": {
          "color": "lightgray",
          "width": 2
         },
         "mode": "lines",
         "showlegend": false,
         "type": "scatter",
         "x": [
          376000,
          267600
         ],
         "y": [
          "ID",
          "ID"
         ]
        },
        {
         "hoverinfo": "skip",
         "line": {
          "color": "lightgray",
          "width": 2
         },
         "mode": "lines",
         "showlegend": false,
         "type": "scatter",
         "x": [
          397700,
          387400
         ],
         "y": [
          "MD",
          "MD"
         ]
        },
        {
         "hoverinfo": "skip",
         "line": {
          "color": "lightgray",
          "width": 2
         },
         "mode": "lines",
         "showlegend": false,
         "type": "scatter",
         "x": [
          403000,
          246125
         ],
         "y": [
          "NY",
          "NY"
         ]
        },
        {
         "hoverinfo": "skip",
         "line": {
          "color": "lightgray",
          "width": 2
         },
         "mode": "lines",
         "showlegend": false,
         "type": "scatter",
         "x": [
          427600,
          353400
         ],
         "y": [
          "NJ",
          "NJ"
         ]
        },
        {
         "hoverinfo": "skip",
         "line": {
          "color": "lightgray",
          "width": 2
         },
         "mode": "lines",
         "showlegend": false,
         "type": "scatter",
         "x": [
          454200,
          358100
         ],
         "y": [
          "OR",
          "OR"
         ]
        },
        {
         "hoverinfo": "skip",
         "line": {
          "color": "lightgray",
          "width": 2
         },
         "mode": "lines",
         "showlegend": false,
         "type": "scatter",
         "x": [
          502200,
          497400
         ],
         "y": [
          "CO",
          "CO"
         ]
        },
        {
         "hoverinfo": "skip",
         "line": {
          "color": "lightgray",
          "width": 2
         },
         "mode": "lines",
         "showlegend": false,
         "type": "scatter",
         "x": [
          519800,
          0
         ],
         "y": [
          "WA",
          "WA"
         ]
        },
        {
         "hoverinfo": "skip",
         "line": {
          "color": "lightgray",
          "width": 2
         },
         "mode": "lines",
         "showlegend": false,
         "type": "scatter",
         "x": [
          525800,
          358100
         ],
         "y": [
          "MA",
          "MA"
         ]
        },
        {
         "hoverinfo": "skip",
         "line": {
          "color": "lightgray",
          "width": 2
         },
         "mode": "lines",
         "showlegend": false,
         "type": "scatter",
         "x": [
          695400,
          1019066.6666666666
         ],
         "y": [
          "CA",
          "CA"
         ]
        },
        {
         "hovertemplate": "<b>%{y}</b><br>State: $%{x:,.0f}<extra></extra>",
         "marker": {
          "color": "blue",
          "size": 10
         },
         "mode": "markers",
         "name": "State Level",
         "type": "scatter",
         "x": {
          "bdata": "AAAAAMCzA0EAAAAAIGYFQQAAAADg0AdBAAAAAODpB0EAAAAAAFEIQQAAAABA1AhBAAAAAOB5CUEAAAAAgFEKQQAAAAAAkApBAAAAAMBRC0EAAAAAQFgMQQAAAADg5AxBAAAAAKBbDUEAAAAAQDMOQQAAAAAglA5BAAAAAABZD0EAAAAAQKoPQQAAAACAyQ9BAAAAAIBCEEEAAAAAEKgQQQAAAAAQuxFBAAAAAHClEkEAAAAAINYTQQAAAACA8hRBAAAAANDnFUEAAAAA8AMWQQAAAACAaRZBAAAAAADzFkEAAAAAEEYYQQAAAADgmBhBAAAAAEAZGkEAAAAA4LgbQQAAAADgph5BAAAAAOC5H0EAAAAA0AsgQQAAAADQOCVB",
          "dtype": "f8"
         },
         "y": [
          "MS",
          "AR",
          "AL",
          "IA",
          "OH",
          "KS",
          "LA",
          "MO",
          "MI",
          "NE",
          "NM",
          "SC",
          "PA",
          "WI",
          "IL",
          "TN",
          "NC",
          "TX",
          "ME",
          "GA",
          "VT",
          "MN",
          "FL",
          "CT",
          "AZ",
          "VA",
          "NH",
          "ID",
          "MD",
          "NY",
          "NJ",
          "OR",
          "CO",
          "WA",
          "MA",
          "CA"
         ]
        },
        {
         "hovertemplate": "<b>%{y}</b><br>Site: $%{x:,.0f}<extra></extra>",
         "marker": {
          "color": "red",
          "size": 10
         },
         "mode": "markers",
         "name": "Site Level",
         "type": "scatter",
         "x": {
          "bdata": "AAAAAKBeAEEAAAAA4BUJQQAAAACQDgtBAAAAAMAqFUEAAAAAcMYJQQAAAAAAlAFBAAAAADhLHUEAAAAAwKcFQQAAAADopw9BAAAAAKCKEUEAAAAAgGjyQAAAAADQWhZBAAAAAFAiEEEAAAAAYNEJQY7jOI4z7hBBAAAAAAABDUEAAAAA2GoiQQAAAADArBBBAAAAAHB/IEEAAAAAYGz1QAAAAAAg2Q9BAAAAAKgaEEEAAAAA4J0TQQAAAABYnRRBAAAAAAC9D0EAAAAAIIUUQQAAAAAA+RVBAAAAAEBVEEEAAAAAIKUXQQAAAABoCw5BAAAAAOCRFUEAAAAAUNsVQQAAAADgWx5BAAAAAAAAAAAAAAAAUNsVQVVVVVV1GS9B",
          "dtype": "f8"
         },
         "y": [
          "MS",
          "AR",
          "AL",
          "IA",
          "OH",
          "KS",
          "LA",
          "MO",
          "MI",
          "NE",
          "NM",
          "SC",
          "PA",
          "WI",
          "IL",
          "TN",
          "NC",
          "TX",
          "ME",
          "GA",
          "VT",
          "MN",
          "FL",
          "CT",
          "AZ",
          "VA",
          "NH",
          "ID",
          "MD",
          "NY",
          "NJ",
          "OR",
          "CO",
          "WA",
          "MA",
          "CA"
         ]
        }
       ],
       "layout": {
        "height": 600,
        "hovermode": "closest",
        "showlegend": true,
        "template": {
         "data": {
          "bar": [
           {
            "error_x": {
             "color": "#2a3f5f"
            },
            "error_y": {
             "color": "#2a3f5f"
            },
            "marker": {
             "line": {
              "color": "#E5ECF6",
              "width": 0.5
             },
             "pattern": {
              "fillmode": "overlay",
              "size": 10,
              "solidity": 0.2
             }
            },
            "type": "bar"
           }
          ],
          "barpolar": [
           {
            "marker": {
             "line": {
              "color": "#E5ECF6",
              "width": 0.5
             },
             "pattern": {
              "fillmode": "overlay",
              "size": 10,
              "solidity": 0.2
             }
            },
            "type": "barpolar"
           }
          ],
          "carpet": [
           {
            "aaxis": {
             "endlinecolor": "#2a3f5f",
             "gridcolor": "white",
             "linecolor": "white",
             "minorgridcolor": "white",
             "startlinecolor": "#2a3f5f"
            },
            "baxis": {
             "endlinecolor": "#2a3f5f",
             "gridcolor": "white",
             "linecolor": "white",
             "minorgridcolor": "white",
             "startlinecolor": "#2a3f5f"
            },
            "type": "carpet"
           }
          ],
          "choropleth": [
           {
            "colorbar": {
             "outlinewidth": 0,
             "ticks": ""
            },
            "type": "choropleth"
           }
          ],
          "contour": [
           {
            "colorbar": {
             "outlinewidth": 0,
             "ticks": ""
            },
            "colorscale": [
             [
              0,
              "#0d0887"
             ],
             [
              0.1111111111111111,
              "#46039f"
             ],
             [
              0.2222222222222222,
              "#7201a8"
             ],
             [
              0.3333333333333333,
              "#9c179e"
             ],
             [
              0.4444444444444444,
              "#bd3786"
             ],
             [
              0.5555555555555556,
              "#d8576b"
             ],
             [
              0.6666666666666666,
              "#ed7953"
             ],
             [
              0.7777777777777778,
              "#fb9f3a"
             ],
             [
              0.8888888888888888,
              "#fdca26"
             ],
             [
              1,
              "#f0f921"
             ]
            ],
            "type": "contour"
           }
          ],
          "contourcarpet": [
           {
            "colorbar": {
             "outlinewidth": 0,
             "ticks": ""
            },
            "type": "contourcarpet"
           }
          ],
          "heatmap": [
           {
            "colorbar": {
             "outlinewidth": 0,
             "ticks": ""
            },
            "colorscale": [
             [
              0,
              "#0d0887"
             ],
             [
              0.1111111111111111,
              "#46039f"
             ],
             [
              0.2222222222222222,
              "#7201a8"
             ],
             [
              0.3333333333333333,
              "#9c179e"
             ],
             [
              0.4444444444444444,
              "#bd3786"
             ],
             [
              0.5555555555555556,
              "#d8576b"
             ],
             [
              0.6666666666666666,
              "#ed7953"
             ],
             [
              0.7777777777777778,
              "#fb9f3a"
             ],
             [
              0.8888888888888888,
              "#fdca26"
             ],
             [
              1,
              "#f0f921"
             ]
            ],
            "type": "heatmap"
           }
          ],
          "histogram": [
           {
            "marker": {
             "pattern": {
              "fillmode": "overlay",
              "size": 10,
              "solidity": 0.2
             }
            },
            "type": "histogram"
           }
          ],
          "histogram2d": [
           {
            "colorbar": {
             "outlinewidth": 0,
             "ticks": ""
            },
            "colorscale": [
             [
              0,
              "#0d0887"
             ],
             [
              0.1111111111111111,
              "#46039f"
             ],
             [
              0.2222222222222222,
              "#7201a8"
             ],
             [
              0.3333333333333333,
              "#9c179e"
             ],
             [
              0.4444444444444444,
              "#bd3786"
             ],
             [
              0.5555555555555556,
              "#d8576b"
             ],
             [
              0.6666666666666666,
              "#ed7953"
             ],
             [
              0.7777777777777778,
              "#fb9f3a"
             ],
             [
              0.8888888888888888,
              "#fdca26"
             ],
             [
              1,
              "#f0f921"
             ]
            ],
            "type": "histogram2d"
           }
          ],
          "histogram2dcontour": [
           {
            "colorbar": {
             "outlinewidth": 0,
             "ticks": ""
            },
            "colorscale": [
             [
              0,
              "#0d0887"
             ],
             [
              0.1111111111111111,
              "#46039f"
             ],
             [
              0.2222222222222222,
              "#7201a8"
             ],
             [
              0.3333333333333333,
              "#9c179e"
             ],
             [
              0.4444444444444444,
              "#bd3786"
             ],
             [
              0.5555555555555556,
              "#d8576b"
             ],
             [
              0.6666666666666666,
              "#ed7953"
             ],
             [
              0.7777777777777778,
              "#fb9f3a"
             ],
             [
              0.8888888888888888,
              "#fdca26"
             ],
             [
              1,
              "#f0f921"
             ]
            ],
            "type": "histogram2dcontour"
           }
          ],
          "mesh3d": [
           {
            "colorbar": {
             "outlinewidth": 0,
             "ticks": ""
            },
            "type": "mesh3d"
           }
          ],
          "parcoords": [
           {
            "line": {
             "colorbar": {
              "outlinewidth": 0,
              "ticks": ""
             }
            },
            "type": "parcoords"
           }
          ],
          "pie": [
           {
            "automargin": true,
            "type": "pie"
           }
          ],
          "scatter": [
           {
            "fillpattern": {
             "fillmode": "overlay",
             "size": 10,
             "solidity": 0.2
            },
            "type": "scatter"
           }
          ],
          "scatter3d": [
           {
            "line": {
             "colorbar": {
              "outlinewidth": 0,
              "ticks": ""
             }
            },
            "marker": {
             "colorbar": {
              "outlinewidth": 0,
              "ticks": ""
             }
            },
            "type": "scatter3d"
           }
          ],
          "scattercarpet": [
           {
            "marker": {
             "colorbar": {
              "outlinewidth": 0,
              "ticks": ""
             }
            },
            "type": "scattercarpet"
           }
          ],
          "scattergeo": [
           {
            "marker": {
             "colorbar": {
              "outlinewidth": 0,
              "ticks": ""
             }
            },
            "type": "scattergeo"
           }
          ],
          "scattergl": [
           {
            "marker": {
             "colorbar": {
              "outlinewidth": 0,
              "ticks": ""
             }
            },
            "type": "scattergl"
           }
          ],
          "scattermap": [
           {
            "marker": {
             "colorbar": {
              "outlinewidth": 0,
              "ticks": ""
             }
            },
            "type": "scattermap"
           }
          ],
          "scattermapbox": [
           {
            "marker": {
             "colorbar": {
              "outlinewidth": 0,
              "ticks": ""
             }
            },
            "type": "scattermapbox"
           }
          ],
          "scatterpolar": [
           {
            "marker": {
             "colorbar": {
              "outlinewidth": 0,
              "ticks": ""
             }
            },
            "type": "scatterpolar"
           }
          ],
          "scatterpolargl": [
           {
            "marker": {
             "colorbar": {
              "outlinewidth": 0,
              "ticks": ""
             }
            },
            "type": "scatterpolargl"
           }
          ],
          "scatterternary": [
           {
            "marker": {
             "colorbar": {
              "outlinewidth": 0,
              "ticks": ""
             }
            },
            "type": "scatterternary"
           }
          ],
          "surface": [
           {
            "colorbar": {
             "outlinewidth": 0,
             "ticks": ""
            },
            "colorscale": [
             [
              0,
              "#0d0887"
             ],
             [
              0.1111111111111111,
              "#46039f"
             ],
             [
              0.2222222222222222,
              "#7201a8"
             ],
             [
              0.3333333333333333,
              "#9c179e"
             ],
             [
              0.4444444444444444,
              "#bd3786"
             ],
             [
              0.5555555555555556,
              "#d8576b"
             ],
             [
              0.6666666666666666,
              "#ed7953"
             ],
             [
              0.7777777777777778,
              "#fb9f3a"
             ],
             [
              0.8888888888888888,
              "#fdca26"
             ],
             [
              1,
              "#f0f921"
             ]
            ],
            "type": "surface"
           }
          ],
          "table": [
           {
            "cells": {
             "fill": {
              "color": "#EBF0F8"
             },
             "line": {
              "color": "white"
             }
            },
            "header": {
             "fill": {
              "color": "#C8D4E3"
             },
             "line": {
              "color": "white"
             }
            },
            "type": "table"
           }
          ]
         },
         "layout": {
          "annotationdefaults": {
           "arrowcolor": "#2a3f5f",
           "arrowhead": 0,
           "arrowwidth": 1
          },
          "autotypenumbers": "strict",
          "coloraxis": {
           "colorbar": {
            "outlinewidth": 0,
            "ticks": ""
           }
          },
          "colorscale": {
           "diverging": [
            [
             0,
             "#8e0152"
            ],
            [
             0.1,
             "#c51b7d"
            ],
            [
             0.2,
             "#de77ae"
            ],
            [
             0.3,
             "#f1b6da"
            ],
            [
             0.4,
             "#fde0ef"
            ],
            [
             0.5,
             "#f7f7f7"
            ],
            [
             0.6,
             "#e6f5d0"
            ],
            [
             0.7,
             "#b8e186"
            ],
            [
             0.8,
             "#7fbc41"
            ],
            [
             0.9,
             "#4d9221"
            ],
            [
             1,
             "#276419"
            ]
           ],
           "sequential": [
            [
             0,
             "#0d0887"
            ],
            [
             0.1111111111111111,
             "#46039f"
            ],
            [
             0.2222222222222222,
             "#7201a8"
            ],
            [
             0.3333333333333333,
             "#9c179e"
            ],
            [
             0.4444444444444444,
             "#bd3786"
            ],
            [
             0.5555555555555556,
             "#d8576b"
            ],
            [
             0.6666666666666666,
             "#ed7953"
            ],
            [
             0.7777777777777778,
             "#fb9f3a"
            ],
            [
             0.8888888888888888,
             "#fdca26"
            ],
            [
             1,
             "#f0f921"
            ]
           ],
           "sequentialminus": [
            [
             0,
             "#0d0887"
            ],
            [
             0.1111111111111111,
             "#46039f"
            ],
            [
             0.2222222222222222,
             "#7201a8"
            ],
            [
             0.3333333333333333,
             "#9c179e"
            ],
            [
             0.4444444444444444,
             "#bd3786"
            ],
            [
             0.5555555555555556,
             "#d8576b"
            ],
            [
             0.6666666666666666,
             "#ed7953"
            ],
            [
             0.7777777777777778,
             "#fb9f3a"
            ],
            [
             0.8888888888888888,
             "#fdca26"
            ],
            [
             1,
             "#f0f921"
            ]
           ]
          },
          "colorway": [
           "#636efa",
           "#EF553B",
           "#00cc96",
           "#ab63fa",
           "#FFA15A",
           "#19d3f3",
           "#FF6692",
           "#B6E880",
           "#FF97FF",
           "#FECB52"
          ],
          "font": {
           "color": "#2a3f5f"
          },
          "geo": {
           "bgcolor": "white",
           "lakecolor": "white",
           "landcolor": "#E5ECF6",
           "showlakes": true,
           "showland": true,
           "subunitcolor": "white"
          },
          "hoverlabel": {
           "align": "left"
          },
          "hovermode": "closest",
          "mapbox": {
           "style": "light"
          },
          "paper_bgcolor": "white",
          "plot_bgcolor": "#E5ECF6",
          "polar": {
           "angularaxis": {
            "gridcolor": "white",
            "linecolor": "white",
            "ticks": ""
           },
           "bgcolor": "#E5ECF6",
           "radialaxis": {
            "gridcolor": "white",
            "linecolor": "white",
            "ticks": ""
           }
          },
          "scene": {
           "xaxis": {
            "backgroundcolor": "#E5ECF6",
            "gridcolor": "white",
            "gridwidth": 2,
            "linecolor": "white",
            "showbackground": true,
            "ticks": "",
            "zerolinecolor": "white"
           },
           "yaxis": {
            "backgroundcolor": "#E5ECF6",
            "gridcolor": "white",
            "gridwidth": 2,
            "linecolor": "white",
            "showbackground": true,
            "ticks": "",
            "zerolinecolor": "white"
           },
           "zaxis": {
            "backgroundcolor": "#E5ECF6",
            "gridcolor": "white",
            "gridwidth": 2,
            "linecolor": "white",
            "showbackground": true,
            "ticks": "",
            "zerolinecolor": "white"
           }
          },
          "shapedefaults": {
           "line": {
            "color": "#2a3f5f"
           }
          },
          "ternary": {
           "aaxis": {
            "gridcolor": "white",
            "linecolor": "white",
            "ticks": ""
           },
           "baxis": {
            "gridcolor": "white",
            "linecolor": "white",
            "ticks": ""
           },
           "bgcolor": "#E5ECF6",
           "caxis": {
            "gridcolor": "white",
            "linecolor": "white",
            "ticks": ""
           }
          },
          "title": {
           "x": 0.05
          },
          "xaxis": {
           "automargin": true,
           "gridcolor": "white",
           "linecolor": "white",
           "ticks": "",
           "title": {
            "standoff": 15
           },
           "zerolinecolor": "white",
           "zerolinewidth": 2
          },
          "yaxis": {
           "automargin": true,
           "gridcolor": "white",
           "linecolor": "white",
           "ticks": "",
           "title": {
            "standoff": 15
           },
           "zerolinecolor": "white",
           "zerolinewidth": 2
          }
         }
        },
        "title": {
         "text": "Comparison of Median Household Value by State"
        },
        "xaxis": {
         "title": {
          "text": "Median Household Value ($)"
         }
        },
        "yaxis": {
         "title": {
          "text": "State"
         }
        }
       }
      }
     },
     "metadata": {},
     "output_type": "display_data"
    }
   ],
   "source": [
    "housesite_fig = go.Figure()\n",
    "\n",
    "# Add lines connecting the two points\n",
    "for i in range(len(comparehouse_df)):\n",
    "    housesite_fig.add_trace(go.Scatter(\n",
    "        x=[comparehouse_df.iloc[i]['house_value_median_state'], \n",
    "           comparehouse_df.iloc[i]['house_value_median_site']],\n",
    "        y=[comparehouse_df.iloc[i]['state_abbrev'], comparehouse_df.iloc[i]['state_abbrev']],\n",
    "        mode='lines',\n",
    "        line=dict(color='lightgray', width=2),\n",
    "        showlegend=False,\n",
    "        hoverinfo='skip'\n",
    "    ))\n",
    "\n",
    "# Add points for statedf\n",
    "housesite_fig.add_trace(go.Scatter(\n",
    "    x=comparehouse_df['house_value_median_state'],\n",
    "    y=comparehouse_df['state_abbrev'],\n",
    "    mode='markers',\n",
    "    name='State Level',\n",
    "    marker=dict(size=10, color='blue'),\n",
    "    hovertemplate='<b>%{y}</b><br>State: $%{x:,.0f}<extra></extra>'\n",
    "))\n",
    "\n",
    "# Add points for sitedf\n",
    "housesite_fig.add_trace(go.Scatter(\n",
    "    x=comparehouse_df['house_value_median_site'],\n",
    "    y=comparehouse_df['state_abbrev'],\n",
    "    mode='markers',\n",
    "    name='Site Level',\n",
    "    marker=dict(size=10, color='red'),\n",
    "    hovertemplate='<b>%{y}</b><br>Site: $%{x:,.0f}<extra></extra>'\n",
    "))\n",
    "\n",
    "# Update layout\n",
    "housesite_fig.update_layout(\n",
    "    title='Comparison of Median Household Value by State',\n",
    "    xaxis_title='Median Household Value ($)',\n",
    "    yaxis_title='State',\n",
    "    height=600,\n",
    "    hovermode='closest',\n",
    "    showlegend=True\n",
    ")\n",
    "\n",
    "housesite_fig.show()"
   ]
  },
  {
   "cell_type": "code",
   "execution_count": 21,
   "id": "6e30a787",
   "metadata": {},
   "outputs": [],
   "source": [
    "housesite_fig.write_image(\"housevalue_lollipop.png\")\n"
   ]
  }
 ],
 "metadata": {
  "kernelspec": {
   "display_name": "base",
   "language": "python",
   "name": "python3"
  },
  "language_info": {
   "codemirror_mode": {
    "name": "ipython",
    "version": 3
   },
   "file_extension": ".py",
   "mimetype": "text/x-python",
   "name": "python",
   "nbconvert_exporter": "python",
   "pygments_lexer": "ipython3",
   "version": "3.12.2"
  }
 },
 "nbformat": 4,
 "nbformat_minor": 5
}
