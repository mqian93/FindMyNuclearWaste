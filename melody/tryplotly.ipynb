{
 "cells": [
  {
   "cell_type": "code",
   "execution_count": 5,
   "id": "c155669e",
   "metadata": {},
   "outputs": [],
   "source": [
    "import pandas as pd\n",
    "import numpy as np\n",
    "import scipy as sp\n",
    "import chart_studio\n",
    "import chart_studio.plotly as py\n",
    "import plotly.express as px"
   ]
  },
  {
   "cell_type": "code",
   "execution_count": 3,
   "id": "617a4fef",
   "metadata": {},
   "outputs": [],
   "source": [
    "state_filepath='/Users/melodyqian/Documents/GitHub/FindMyNuclearWaste/CSVs/State_Level_Demographics.csv'\n",
    "statedf=pd.read_csv(state_filepath)"
   ]
  },
  {
   "cell_type": "code",
   "execution_count": 6,
   "id": "9a776283",
   "metadata": {},
   "outputs": [
    {
     "data": {
      "application/vnd.microsoft.datawrangler.viewer.v0+json": {
       "columns": [
        {
         "name": "index",
         "rawType": "int64",
         "type": "integer"
        },
        {
         "name": "Unnamed: 0",
         "rawType": "int64",
         "type": "integer"
        },
        {
         "name": "state_name",
         "rawType": "object",
         "type": "string"
        },
        {
         "name": "occupied_percent",
         "rawType": "float64",
         "type": "float"
        },
        {
         "name": "house_value_median",
         "rawType": "int64",
         "type": "integer"
        },
        {
         "name": "household_income_median",
         "rawType": "int64",
         "type": "integer"
        },
        {
         "name": "age_median",
         "rawType": "float64",
         "type": "float"
        },
        {
         "name": "malepercent",
         "rawType": "int64",
         "type": "integer"
        },
        {
         "name": "femalepercent",
         "rawType": "int64",
         "type": "integer"
        },
        {
         "name": "hispanic_percent",
         "rawType": "float64",
         "type": "float"
        },
        {
         "name": "nonhispanic_percent",
         "rawType": "float64",
         "type": "float"
        },
        {
         "name": "white_percent",
         "rawType": "float64",
         "type": "float"
        },
        {
         "name": "black_percent",
         "rawType": "float64",
         "type": "float"
        },
        {
         "name": "asian_percent",
         "rawType": "float64",
         "type": "float"
        },
        {
         "name": "pacificislander_percent",
         "rawType": "float64",
         "type": "float"
        },
        {
         "name": "native_percent",
         "rawType": "float64",
         "type": "float"
        },
        {
         "name": "state",
         "rawType": "int64",
         "type": "integer"
        }
       ],
       "ref": "d66b0415-4033-4e55-87a9-06477bd4fe6b",
       "rows": [
        [
         "0",
         "0",
         "Alabama",
         "85.0",
         "195100",
         "62027",
         "39.3",
         "1128001",
         "884210",
         "1.6",
         "27.5",
         "3.1",
         "0.5",
         "0.2",
         "1.6",
         "94.6",
         "1"
        ],
        [
         "1",
         "1",
         "Alaska",
         "81.8",
         "333300",
         "89336",
         "35.6",
         "178458",
         "97815",
         "20.2",
         "5.2",
         "3.6",
         "1.0",
         "0.3",
         "2.3",
         "92.9",
         "2"
        ],
        [
         "2",
         "2",
         "Arizona",
         "89.0",
         "358900",
         "76872",
         "38.8",
         "1594780",
         "1349934",
         "6.0",
         "6.4",
         "26.8",
         "0.7",
         "0.3",
         "3.3",
         "69.0",
         "4"
        ],
        [
         "3",
         "3",
         "Arkansas",
         "86.0",
         "175300",
         "58773",
         "38.4",
         "705879",
         "525644",
         "2.4",
         "16.4",
         "6.2",
         "0.3",
         "0.1",
         "2.2",
         "91.2",
         "5"
        ],
        [
         "4",
         "4",
         "California",
         "92.4",
         "695400",
         "96334",
         "37.6",
         "8729012",
         "5994486",
         "2.8",
         "7.2",
         "32.3",
         "0.6",
         "0.3",
         "6.7",
         "60.2",
         "6"
        ],
        [
         "5",
         "5",
         "Colorado",
         "91.4",
         "502200",
         "92470",
         "37.5",
         "1240882",
         "882557",
         "2.9",
         "5.7",
         "15.8",
         "0.7",
         "0.2",
         "5.5",
         "77.8",
         "8"
        ],
        [
         "6",
         "6",
         "Connecticut",
         "92.5",
         "343200",
         "93760",
         "41.2",
         "733998",
         "650772",
         "1.2",
         "13.6",
         "1.8",
         "8.2",
         "0.4",
         "7.4",
         "82.2",
         "9"
        ],
        [
         "7",
         "7",
         "Delaware",
         "86.5",
         "326800",
         "82855",
         "41.5",
         "210396",
         "201255",
         "1.4",
         "25.1",
         "3.6",
         "3.1",
         "0.2",
         "3.8",
         "89.3",
         "10"
        ],
        [
         "8",
         "8",
         "District of Columbia",
         "90.3",
         "724600",
         "106287",
         "34.9",
         "125675",
         "85501",
         "1.6",
         "46.7",
         "2.1",
         "0.8",
         "0.4",
         "8.2",
         "88.4",
         "11"
        ],
        [
         "9",
         "9",
         "Florida",
         "84.8",
         "325000",
         "71711",
         "42.6",
         "4305366",
         "4630733",
         "1.2",
         "17.8",
         "3.3",
         "5.5",
         "7.1",
         "10.8",
         "73.3",
         "12"
        ]
       ],
       "shape": {
        "columns": 16,
        "rows": 10
       }
      },
      "text/html": [
       "<div>\n",
       "<style scoped>\n",
       "    .dataframe tbody tr th:only-of-type {\n",
       "        vertical-align: middle;\n",
       "    }\n",
       "\n",
       "    .dataframe tbody tr th {\n",
       "        vertical-align: top;\n",
       "    }\n",
       "\n",
       "    .dataframe thead th {\n",
       "        text-align: right;\n",
       "    }\n",
       "</style>\n",
       "<table border=\"1\" class=\"dataframe\">\n",
       "  <thead>\n",
       "    <tr style=\"text-align: right;\">\n",
       "      <th></th>\n",
       "      <th>Unnamed: 0</th>\n",
       "      <th>state_name</th>\n",
       "      <th>occupied_percent</th>\n",
       "      <th>house_value_median</th>\n",
       "      <th>household_income_median</th>\n",
       "      <th>age_median</th>\n",
       "      <th>malepercent</th>\n",
       "      <th>femalepercent</th>\n",
       "      <th>hispanic_percent</th>\n",
       "      <th>nonhispanic_percent</th>\n",
       "      <th>white_percent</th>\n",
       "      <th>black_percent</th>\n",
       "      <th>asian_percent</th>\n",
       "      <th>pacificislander_percent</th>\n",
       "      <th>native_percent</th>\n",
       "      <th>state</th>\n",
       "    </tr>\n",
       "  </thead>\n",
       "  <tbody>\n",
       "    <tr>\n",
       "      <th>0</th>\n",
       "      <td>0</td>\n",
       "      <td>Alabama</td>\n",
       "      <td>85.0</td>\n",
       "      <td>195100</td>\n",
       "      <td>62027</td>\n",
       "      <td>39.3</td>\n",
       "      <td>1128001</td>\n",
       "      <td>884210</td>\n",
       "      <td>1.6</td>\n",
       "      <td>27.5</td>\n",
       "      <td>3.1</td>\n",
       "      <td>0.5</td>\n",
       "      <td>0.2</td>\n",
       "      <td>1.6</td>\n",
       "      <td>94.6</td>\n",
       "      <td>1</td>\n",
       "    </tr>\n",
       "    <tr>\n",
       "      <th>1</th>\n",
       "      <td>1</td>\n",
       "      <td>Alaska</td>\n",
       "      <td>81.8</td>\n",
       "      <td>333300</td>\n",
       "      <td>89336</td>\n",
       "      <td>35.6</td>\n",
       "      <td>178458</td>\n",
       "      <td>97815</td>\n",
       "      <td>20.2</td>\n",
       "      <td>5.2</td>\n",
       "      <td>3.6</td>\n",
       "      <td>1.0</td>\n",
       "      <td>0.3</td>\n",
       "      <td>2.3</td>\n",
       "      <td>92.9</td>\n",
       "      <td>2</td>\n",
       "    </tr>\n",
       "    <tr>\n",
       "      <th>2</th>\n",
       "      <td>2</td>\n",
       "      <td>Arizona</td>\n",
       "      <td>89.0</td>\n",
       "      <td>358900</td>\n",
       "      <td>76872</td>\n",
       "      <td>38.8</td>\n",
       "      <td>1594780</td>\n",
       "      <td>1349934</td>\n",
       "      <td>6.0</td>\n",
       "      <td>6.4</td>\n",
       "      <td>26.8</td>\n",
       "      <td>0.7</td>\n",
       "      <td>0.3</td>\n",
       "      <td>3.3</td>\n",
       "      <td>69.0</td>\n",
       "      <td>4</td>\n",
       "    </tr>\n",
       "    <tr>\n",
       "      <th>3</th>\n",
       "      <td>3</td>\n",
       "      <td>Arkansas</td>\n",
       "      <td>86.0</td>\n",
       "      <td>175300</td>\n",
       "      <td>58773</td>\n",
       "      <td>38.4</td>\n",
       "      <td>705879</td>\n",
       "      <td>525644</td>\n",
       "      <td>2.4</td>\n",
       "      <td>16.4</td>\n",
       "      <td>6.2</td>\n",
       "      <td>0.3</td>\n",
       "      <td>0.1</td>\n",
       "      <td>2.2</td>\n",
       "      <td>91.2</td>\n",
       "      <td>5</td>\n",
       "    </tr>\n",
       "    <tr>\n",
       "      <th>4</th>\n",
       "      <td>4</td>\n",
       "      <td>California</td>\n",
       "      <td>92.4</td>\n",
       "      <td>695400</td>\n",
       "      <td>96334</td>\n",
       "      <td>37.6</td>\n",
       "      <td>8729012</td>\n",
       "      <td>5994486</td>\n",
       "      <td>2.8</td>\n",
       "      <td>7.2</td>\n",
       "      <td>32.3</td>\n",
       "      <td>0.6</td>\n",
       "      <td>0.3</td>\n",
       "      <td>6.7</td>\n",
       "      <td>60.2</td>\n",
       "      <td>6</td>\n",
       "    </tr>\n",
       "    <tr>\n",
       "      <th>5</th>\n",
       "      <td>5</td>\n",
       "      <td>Colorado</td>\n",
       "      <td>91.4</td>\n",
       "      <td>502200</td>\n",
       "      <td>92470</td>\n",
       "      <td>37.5</td>\n",
       "      <td>1240882</td>\n",
       "      <td>882557</td>\n",
       "      <td>2.9</td>\n",
       "      <td>5.7</td>\n",
       "      <td>15.8</td>\n",
       "      <td>0.7</td>\n",
       "      <td>0.2</td>\n",
       "      <td>5.5</td>\n",
       "      <td>77.8</td>\n",
       "      <td>8</td>\n",
       "    </tr>\n",
       "    <tr>\n",
       "      <th>6</th>\n",
       "      <td>6</td>\n",
       "      <td>Connecticut</td>\n",
       "      <td>92.5</td>\n",
       "      <td>343200</td>\n",
       "      <td>93760</td>\n",
       "      <td>41.2</td>\n",
       "      <td>733998</td>\n",
       "      <td>650772</td>\n",
       "      <td>1.2</td>\n",
       "      <td>13.6</td>\n",
       "      <td>1.8</td>\n",
       "      <td>8.2</td>\n",
       "      <td>0.4</td>\n",
       "      <td>7.4</td>\n",
       "      <td>82.2</td>\n",
       "      <td>9</td>\n",
       "    </tr>\n",
       "    <tr>\n",
       "      <th>7</th>\n",
       "      <td>7</td>\n",
       "      <td>Delaware</td>\n",
       "      <td>86.5</td>\n",
       "      <td>326800</td>\n",
       "      <td>82855</td>\n",
       "      <td>41.5</td>\n",
       "      <td>210396</td>\n",
       "      <td>201255</td>\n",
       "      <td>1.4</td>\n",
       "      <td>25.1</td>\n",
       "      <td>3.6</td>\n",
       "      <td>3.1</td>\n",
       "      <td>0.2</td>\n",
       "      <td>3.8</td>\n",
       "      <td>89.3</td>\n",
       "      <td>10</td>\n",
       "    </tr>\n",
       "    <tr>\n",
       "      <th>8</th>\n",
       "      <td>8</td>\n",
       "      <td>District of Columbia</td>\n",
       "      <td>90.3</td>\n",
       "      <td>724600</td>\n",
       "      <td>106287</td>\n",
       "      <td>34.9</td>\n",
       "      <td>125675</td>\n",
       "      <td>85501</td>\n",
       "      <td>1.6</td>\n",
       "      <td>46.7</td>\n",
       "      <td>2.1</td>\n",
       "      <td>0.8</td>\n",
       "      <td>0.4</td>\n",
       "      <td>8.2</td>\n",
       "      <td>88.4</td>\n",
       "      <td>11</td>\n",
       "    </tr>\n",
       "    <tr>\n",
       "      <th>9</th>\n",
       "      <td>9</td>\n",
       "      <td>Florida</td>\n",
       "      <td>84.8</td>\n",
       "      <td>325000</td>\n",
       "      <td>71711</td>\n",
       "      <td>42.6</td>\n",
       "      <td>4305366</td>\n",
       "      <td>4630733</td>\n",
       "      <td>1.2</td>\n",
       "      <td>17.8</td>\n",
       "      <td>3.3</td>\n",
       "      <td>5.5</td>\n",
       "      <td>7.1</td>\n",
       "      <td>10.8</td>\n",
       "      <td>73.3</td>\n",
       "      <td>12</td>\n",
       "    </tr>\n",
       "  </tbody>\n",
       "</table>\n",
       "</div>"
      ],
      "text/plain": [
       "   Unnamed: 0            state_name  occupied_percent  house_value_median  \\\n",
       "0           0               Alabama              85.0              195100   \n",
       "1           1                Alaska              81.8              333300   \n",
       "2           2               Arizona              89.0              358900   \n",
       "3           3              Arkansas              86.0              175300   \n",
       "4           4            California              92.4              695400   \n",
       "5           5              Colorado              91.4              502200   \n",
       "6           6           Connecticut              92.5              343200   \n",
       "7           7              Delaware              86.5              326800   \n",
       "8           8  District of Columbia              90.3              724600   \n",
       "9           9               Florida              84.8              325000   \n",
       "\n",
       "   household_income_median  age_median  malepercent  femalepercent  \\\n",
       "0                    62027        39.3      1128001         884210   \n",
       "1                    89336        35.6       178458          97815   \n",
       "2                    76872        38.8      1594780        1349934   \n",
       "3                    58773        38.4       705879         525644   \n",
       "4                    96334        37.6      8729012        5994486   \n",
       "5                    92470        37.5      1240882         882557   \n",
       "6                    93760        41.2       733998         650772   \n",
       "7                    82855        41.5       210396         201255   \n",
       "8                   106287        34.9       125675          85501   \n",
       "9                    71711        42.6      4305366        4630733   \n",
       "\n",
       "   hispanic_percent  nonhispanic_percent  white_percent  black_percent  \\\n",
       "0               1.6                 27.5            3.1            0.5   \n",
       "1              20.2                  5.2            3.6            1.0   \n",
       "2               6.0                  6.4           26.8            0.7   \n",
       "3               2.4                 16.4            6.2            0.3   \n",
       "4               2.8                  7.2           32.3            0.6   \n",
       "5               2.9                  5.7           15.8            0.7   \n",
       "6               1.2                 13.6            1.8            8.2   \n",
       "7               1.4                 25.1            3.6            3.1   \n",
       "8               1.6                 46.7            2.1            0.8   \n",
       "9               1.2                 17.8            3.3            5.5   \n",
       "\n",
       "   asian_percent  pacificislander_percent  native_percent  state  \n",
       "0            0.2                      1.6            94.6      1  \n",
       "1            0.3                      2.3            92.9      2  \n",
       "2            0.3                      3.3            69.0      4  \n",
       "3            0.1                      2.2            91.2      5  \n",
       "4            0.3                      6.7            60.2      6  \n",
       "5            0.2                      5.5            77.8      8  \n",
       "6            0.4                      7.4            82.2      9  \n",
       "7            0.2                      3.8            89.3     10  \n",
       "8            0.4                      8.2            88.4     11  \n",
       "9            7.1                     10.8            73.3     12  "
      ]
     },
     "execution_count": 6,
     "metadata": {},
     "output_type": "execute_result"
    }
   ],
   "source": [
    "pd.DataFrame.head(statedf, n=10)"
   ]
  },
  {
   "cell_type": "code",
   "execution_count": 7,
   "id": "966fba95",
   "metadata": {},
   "outputs": [
    {
     "data": {
      "application/vnd.plotly.v1+json": {
       "config": {
        "plotlyServerURL": "https://plot.ly"
       },
       "data": [
        {
         "alignmentgroup": "True",
         "hovertemplate": "variable=asian_percent<br>state_name=%{x}<br>value=%{y}<extra></extra>",
         "legendgroup": "asian_percent",
         "marker": {
          "color": "#636efa",
          "pattern": {
           "shape": ""
          }
         },
         "name": "asian_percent",
         "offsetgroup": "asian_percent",
         "orientation": "v",
         "showlegend": true,
         "textposition": "auto",
         "type": "bar",
         "x": [
          "Alabama",
          "Alaska",
          "Arizona",
          "Arkansas",
          "California",
          "Colorado",
          "Connecticut",
          "Delaware",
          "District of Columbia",
          "Florida",
          "Georgia",
          "Hawaii",
          "Idaho",
          "Illinois",
          "Indiana",
          "Iowa",
          "Kansas",
          "Kentucky",
          "Louisiana",
          "Maine",
          "Maryland",
          "Massachusetts",
          "Michigan",
          "Minnesota",
          "Mississippi",
          "Missouri",
          "Montana",
          "Nebraska",
          "Nevada",
          "New Hampshire",
          "New Jersey",
          "New Mexico",
          "New York",
          "North Carolina",
          "North Dakota",
          "Ohio",
          "Oklahoma",
          "Oregon",
          "Pennsylvania",
          "Rhode Island",
          "South Carolina",
          "South Dakota",
          "Tennessee",
          "Texas",
          "Utah",
          "Vermont",
          "Virginia",
          "Washington",
          "West Virginia",
          "Wisconsin",
          "Wyoming",
          "Puerto Rico"
         ],
         "xaxis": "x",
         "y": [
          0.2,
          0.3,
          0.3,
          0.1,
          0.3,
          0.2,
          0.4,
          0.2,
          0.4,
          7.1,
          0.4,
          0.1,
          0.1,
          0.2,
          0.1,
          0.1,
          0.2,
          0.7,
          0.3,
          0.1,
          0.3,
          0.2,
          0.2,
          0.1,
          0.1,
          0.1,
          0.1,
          0.3,
          1.2,
          0.1,
          1,
          0.3,
          0.4,
          0.3,
          0,
          0.1,
          0.1,
          0.2,
          0.2,
          0.3,
          0.3,
          0.1,
          0.3,
          0.4,
          0.1,
          0.2,
          0.3,
          0.2,
          0.1,
          0.1,
          0.1,
          0.4
         ],
         "yaxis": "y"
        }
       ],
       "layout": {
        "barmode": "relative",
        "legend": {
         "title": {
          "text": "variable"
         },
         "tracegroupgap": 0
        },
        "template": {
         "data": {
          "bar": [
           {
            "error_x": {
             "color": "#2a3f5f"
            },
            "error_y": {
             "color": "#2a3f5f"
            },
            "marker": {
             "line": {
              "color": "#E5ECF6",
              "width": 0.5
             },
             "pattern": {
              "fillmode": "overlay",
              "size": 10,
              "solidity": 0.2
             }
            },
            "type": "bar"
           }
          ],
          "barpolar": [
           {
            "marker": {
             "line": {
              "color": "#E5ECF6",
              "width": 0.5
             },
             "pattern": {
              "fillmode": "overlay",
              "size": 10,
              "solidity": 0.2
             }
            },
            "type": "barpolar"
           }
          ],
          "carpet": [
           {
            "aaxis": {
             "endlinecolor": "#2a3f5f",
             "gridcolor": "white",
             "linecolor": "white",
             "minorgridcolor": "white",
             "startlinecolor": "#2a3f5f"
            },
            "baxis": {
             "endlinecolor": "#2a3f5f",
             "gridcolor": "white",
             "linecolor": "white",
             "minorgridcolor": "white",
             "startlinecolor": "#2a3f5f"
            },
            "type": "carpet"
           }
          ],
          "choropleth": [
           {
            "colorbar": {
             "outlinewidth": 0,
             "ticks": ""
            },
            "type": "choropleth"
           }
          ],
          "contour": [
           {
            "colorbar": {
             "outlinewidth": 0,
             "ticks": ""
            },
            "colorscale": [
             [
              0,
              "#0d0887"
             ],
             [
              0.1111111111111111,
              "#46039f"
             ],
             [
              0.2222222222222222,
              "#7201a8"
             ],
             [
              0.3333333333333333,
              "#9c179e"
             ],
             [
              0.4444444444444444,
              "#bd3786"
             ],
             [
              0.5555555555555556,
              "#d8576b"
             ],
             [
              0.6666666666666666,
              "#ed7953"
             ],
             [
              0.7777777777777778,
              "#fb9f3a"
             ],
             [
              0.8888888888888888,
              "#fdca26"
             ],
             [
              1,
              "#f0f921"
             ]
            ],
            "type": "contour"
           }
          ],
          "contourcarpet": [
           {
            "colorbar": {
             "outlinewidth": 0,
             "ticks": ""
            },
            "type": "contourcarpet"
           }
          ],
          "heatmap": [
           {
            "colorbar": {
             "outlinewidth": 0,
             "ticks": ""
            },
            "colorscale": [
             [
              0,
              "#0d0887"
             ],
             [
              0.1111111111111111,
              "#46039f"
             ],
             [
              0.2222222222222222,
              "#7201a8"
             ],
             [
              0.3333333333333333,
              "#9c179e"
             ],
             [
              0.4444444444444444,
              "#bd3786"
             ],
             [
              0.5555555555555556,
              "#d8576b"
             ],
             [
              0.6666666666666666,
              "#ed7953"
             ],
             [
              0.7777777777777778,
              "#fb9f3a"
             ],
             [
              0.8888888888888888,
              "#fdca26"
             ],
             [
              1,
              "#f0f921"
             ]
            ],
            "type": "heatmap"
           }
          ],
          "heatmapgl": [
           {
            "colorbar": {
             "outlinewidth": 0,
             "ticks": ""
            },
            "colorscale": [
             [
              0,
              "#0d0887"
             ],
             [
              0.1111111111111111,
              "#46039f"
             ],
             [
              0.2222222222222222,
              "#7201a8"
             ],
             [
              0.3333333333333333,
              "#9c179e"
             ],
             [
              0.4444444444444444,
              "#bd3786"
             ],
             [
              0.5555555555555556,
              "#d8576b"
             ],
             [
              0.6666666666666666,
              "#ed7953"
             ],
             [
              0.7777777777777778,
              "#fb9f3a"
             ],
             [
              0.8888888888888888,
              "#fdca26"
             ],
             [
              1,
              "#f0f921"
             ]
            ],
            "type": "heatmapgl"
           }
          ],
          "histogram": [
           {
            "marker": {
             "pattern": {
              "fillmode": "overlay",
              "size": 10,
              "solidity": 0.2
             }
            },
            "type": "histogram"
           }
          ],
          "histogram2d": [
           {
            "colorbar": {
             "outlinewidth": 0,
             "ticks": ""
            },
            "colorscale": [
             [
              0,
              "#0d0887"
             ],
             [
              0.1111111111111111,
              "#46039f"
             ],
             [
              0.2222222222222222,
              "#7201a8"
             ],
             [
              0.3333333333333333,
              "#9c179e"
             ],
             [
              0.4444444444444444,
              "#bd3786"
             ],
             [
              0.5555555555555556,
              "#d8576b"
             ],
             [
              0.6666666666666666,
              "#ed7953"
             ],
             [
              0.7777777777777778,
              "#fb9f3a"
             ],
             [
              0.8888888888888888,
              "#fdca26"
             ],
             [
              1,
              "#f0f921"
             ]
            ],
            "type": "histogram2d"
           }
          ],
          "histogram2dcontour": [
           {
            "colorbar": {
             "outlinewidth": 0,
             "ticks": ""
            },
            "colorscale": [
             [
              0,
              "#0d0887"
             ],
             [
              0.1111111111111111,
              "#46039f"
             ],
             [
              0.2222222222222222,
              "#7201a8"
             ],
             [
              0.3333333333333333,
              "#9c179e"
             ],
             [
              0.4444444444444444,
              "#bd3786"
             ],
             [
              0.5555555555555556,
              "#d8576b"
             ],
             [
              0.6666666666666666,
              "#ed7953"
             ],
             [
              0.7777777777777778,
              "#fb9f3a"
             ],
             [
              0.8888888888888888,
              "#fdca26"
             ],
             [
              1,
              "#f0f921"
             ]
            ],
            "type": "histogram2dcontour"
           }
          ],
          "mesh3d": [
           {
            "colorbar": {
             "outlinewidth": 0,
             "ticks": ""
            },
            "type": "mesh3d"
           }
          ],
          "parcoords": [
           {
            "line": {
             "colorbar": {
              "outlinewidth": 0,
              "ticks": ""
             }
            },
            "type": "parcoords"
           }
          ],
          "pie": [
           {
            "automargin": true,
            "type": "pie"
           }
          ],
          "scatter": [
           {
            "fillpattern": {
             "fillmode": "overlay",
             "size": 10,
             "solidity": 0.2
            },
            "type": "scatter"
           }
          ],
          "scatter3d": [
           {
            "line": {
             "colorbar": {
              "outlinewidth": 0,
              "ticks": ""
             }
            },
            "marker": {
             "colorbar": {
              "outlinewidth": 0,
              "ticks": ""
             }
            },
            "type": "scatter3d"
           }
          ],
          "scattercarpet": [
           {
            "marker": {
             "colorbar": {
              "outlinewidth": 0,
              "ticks": ""
             }
            },
            "type": "scattercarpet"
           }
          ],
          "scattergeo": [
           {
            "marker": {
             "colorbar": {
              "outlinewidth": 0,
              "ticks": ""
             }
            },
            "type": "scattergeo"
           }
          ],
          "scattergl": [
           {
            "marker": {
             "colorbar": {
              "outlinewidth": 0,
              "ticks": ""
             }
            },
            "type": "scattergl"
           }
          ],
          "scattermapbox": [
           {
            "marker": {
             "colorbar": {
              "outlinewidth": 0,
              "ticks": ""
             }
            },
            "type": "scattermapbox"
           }
          ],
          "scatterpolar": [
           {
            "marker": {
             "colorbar": {
              "outlinewidth": 0,
              "ticks": ""
             }
            },
            "type": "scatterpolar"
           }
          ],
          "scatterpolargl": [
           {
            "marker": {
             "colorbar": {
              "outlinewidth": 0,
              "ticks": ""
             }
            },
            "type": "scatterpolargl"
           }
          ],
          "scatterternary": [
           {
            "marker": {
             "colorbar": {
              "outlinewidth": 0,
              "ticks": ""
             }
            },
            "type": "scatterternary"
           }
          ],
          "surface": [
           {
            "colorbar": {
             "outlinewidth": 0,
             "ticks": ""
            },
            "colorscale": [
             [
              0,
              "#0d0887"
             ],
             [
              0.1111111111111111,
              "#46039f"
             ],
             [
              0.2222222222222222,
              "#7201a8"
             ],
             [
              0.3333333333333333,
              "#9c179e"
             ],
             [
              0.4444444444444444,
              "#bd3786"
             ],
             [
              0.5555555555555556,
              "#d8576b"
             ],
             [
              0.6666666666666666,
              "#ed7953"
             ],
             [
              0.7777777777777778,
              "#fb9f3a"
             ],
             [
              0.8888888888888888,
              "#fdca26"
             ],
             [
              1,
              "#f0f921"
             ]
            ],
            "type": "surface"
           }
          ],
          "table": [
           {
            "cells": {
             "fill": {
              "color": "#EBF0F8"
             },
             "line": {
              "color": "white"
             }
            },
            "header": {
             "fill": {
              "color": "#C8D4E3"
             },
             "line": {
              "color": "white"
             }
            },
            "type": "table"
           }
          ]
         },
         "layout": {
          "annotationdefaults": {
           "arrowcolor": "#2a3f5f",
           "arrowhead": 0,
           "arrowwidth": 1
          },
          "autotypenumbers": "strict",
          "coloraxis": {
           "colorbar": {
            "outlinewidth": 0,
            "ticks": ""
           }
          },
          "colorscale": {
           "diverging": [
            [
             0,
             "#8e0152"
            ],
            [
             0.1,
             "#c51b7d"
            ],
            [
             0.2,
             "#de77ae"
            ],
            [
             0.3,
             "#f1b6da"
            ],
            [
             0.4,
             "#fde0ef"
            ],
            [
             0.5,
             "#f7f7f7"
            ],
            [
             0.6,
             "#e6f5d0"
            ],
            [
             0.7,
             "#b8e186"
            ],
            [
             0.8,
             "#7fbc41"
            ],
            [
             0.9,
             "#4d9221"
            ],
            [
             1,
             "#276419"
            ]
           ],
           "sequential": [
            [
             0,
             "#0d0887"
            ],
            [
             0.1111111111111111,
             "#46039f"
            ],
            [
             0.2222222222222222,
             "#7201a8"
            ],
            [
             0.3333333333333333,
             "#9c179e"
            ],
            [
             0.4444444444444444,
             "#bd3786"
            ],
            [
             0.5555555555555556,
             "#d8576b"
            ],
            [
             0.6666666666666666,
             "#ed7953"
            ],
            [
             0.7777777777777778,
             "#fb9f3a"
            ],
            [
             0.8888888888888888,
             "#fdca26"
            ],
            [
             1,
             "#f0f921"
            ]
           ],
           "sequentialminus": [
            [
             0,
             "#0d0887"
            ],
            [
             0.1111111111111111,
             "#46039f"
            ],
            [
             0.2222222222222222,
             "#7201a8"
            ],
            [
             0.3333333333333333,
             "#9c179e"
            ],
            [
             0.4444444444444444,
             "#bd3786"
            ],
            [
             0.5555555555555556,
             "#d8576b"
            ],
            [
             0.6666666666666666,
             "#ed7953"
            ],
            [
             0.7777777777777778,
             "#fb9f3a"
            ],
            [
             0.8888888888888888,
             "#fdca26"
            ],
            [
             1,
             "#f0f921"
            ]
           ]
          },
          "colorway": [
           "#636efa",
           "#EF553B",
           "#00cc96",
           "#ab63fa",
           "#FFA15A",
           "#19d3f3",
           "#FF6692",
           "#B6E880",
           "#FF97FF",
           "#FECB52"
          ],
          "font": {
           "color": "#2a3f5f"
          },
          "geo": {
           "bgcolor": "white",
           "lakecolor": "white",
           "landcolor": "#E5ECF6",
           "showlakes": true,
           "showland": true,
           "subunitcolor": "white"
          },
          "hoverlabel": {
           "align": "left"
          },
          "hovermode": "closest",
          "mapbox": {
           "style": "light"
          },
          "paper_bgcolor": "white",
          "plot_bgcolor": "#E5ECF6",
          "polar": {
           "angularaxis": {
            "gridcolor": "white",
            "linecolor": "white",
            "ticks": ""
           },
           "bgcolor": "#E5ECF6",
           "radialaxis": {
            "gridcolor": "white",
            "linecolor": "white",
            "ticks": ""
           }
          },
          "scene": {
           "xaxis": {
            "backgroundcolor": "#E5ECF6",
            "gridcolor": "white",
            "gridwidth": 2,
            "linecolor": "white",
            "showbackground": true,
            "ticks": "",
            "zerolinecolor": "white"
           },
           "yaxis": {
            "backgroundcolor": "#E5ECF6",
            "gridcolor": "white",
            "gridwidth": 2,
            "linecolor": "white",
            "showbackground": true,
            "ticks": "",
            "zerolinecolor": "white"
           },
           "zaxis": {
            "backgroundcolor": "#E5ECF6",
            "gridcolor": "white",
            "gridwidth": 2,
            "linecolor": "white",
            "showbackground": true,
            "ticks": "",
            "zerolinecolor": "white"
           }
          },
          "shapedefaults": {
           "line": {
            "color": "#2a3f5f"
           }
          },
          "ternary": {
           "aaxis": {
            "gridcolor": "white",
            "linecolor": "white",
            "ticks": ""
           },
           "baxis": {
            "gridcolor": "white",
            "linecolor": "white",
            "ticks": ""
           },
           "bgcolor": "#E5ECF6",
           "caxis": {
            "gridcolor": "white",
            "linecolor": "white",
            "ticks": ""
           }
          },
          "title": {
           "x": 0.05
          },
          "xaxis": {
           "automargin": true,
           "gridcolor": "white",
           "linecolor": "white",
           "ticks": "",
           "title": {
            "standoff": 15
           },
           "zerolinecolor": "white",
           "zerolinewidth": 2
          },
          "yaxis": {
           "automargin": true,
           "gridcolor": "white",
           "linecolor": "white",
           "ticks": "",
           "title": {
            "standoff": 15
           },
           "zerolinecolor": "white",
           "zerolinewidth": 2
          }
         }
        },
        "title": {
         "text": "Wide-Form Input"
        },
        "xaxis": {
         "anchor": "y",
         "domain": [
          0,
          1
         ],
         "title": {
          "text": "state_name"
         }
        },
        "yaxis": {
         "anchor": "x",
         "domain": [
          0,
          1
         ],
         "title": {
          "text": "value"
         }
        }
       }
      }
     },
     "metadata": {},
     "output_type": "display_data"
    }
   ],
   "source": [
    "fig = px.bar(statedf, x=\"state_name\", y=[\"asian_percent\"], title=\"Wide-Form Input\")\n",
    "fig.show()"
   ]
  },
  {
   "cell_type": "code",
   "execution_count": 8,
   "id": "74c8a6e2",
   "metadata": {},
   "outputs": [],
   "source": [
    " fig.write_html(\"samplestatedata.html\")"
   ]
  }
 ],
 "metadata": {
  "kernelspec": {
   "display_name": "base",
   "language": "python",
   "name": "python3"
  },
  "language_info": {
   "codemirror_mode": {
    "name": "ipython",
    "version": 3
   },
   "file_extension": ".py",
   "mimetype": "text/x-python",
   "name": "python",
   "nbconvert_exporter": "python",
   "pygments_lexer": "ipython3",
   "version": "3.12.2"
  }
 },
 "nbformat": 4,
 "nbformat_minor": 5
}
